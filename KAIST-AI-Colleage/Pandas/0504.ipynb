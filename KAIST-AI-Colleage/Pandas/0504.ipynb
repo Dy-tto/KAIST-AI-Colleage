{
 "cells": [
  {
   "cell_type": "code",
   "execution_count": null,
   "metadata": {},
   "outputs": [],
   "source": [
    "import numpy as np \n",
    "import pandas as pd "
   ]
  },
  {
   "cell_type": "code",
   "execution_count": null,
   "metadata": {},
   "outputs": [],
   "source": [
    "df = pd.read_csv('amazon_phone_dataset.csv')\n",
    "df.head()"
   ]
  },
  {
   "cell_type": "markdown",
   "metadata": {},
   "source": [
    "### 데이터 전처리\n",
    "\n",
    "0. (Optional) column 이름이 대문자 소문자 섞여있는 것들을 다 소문자로 바꾸자 \n",
    "1. Product_url, Product_img, prod_des, feature 필요 없으니까 지우자 \n",
    "2. Product_name, Product_price, by_info 가 NaN 인 행 지우기 \n",
    "3. Product_price, rating, total_review, ans_ask\n",
    "\n",
    "### 전처리 후에 하고 싶은 것 \n",
    "1. 회사(by_info)별로 rating, price, total_review, ans_ask 보기 \n",
    "2. 그리고 그림을 그려보자"
   ]
  },
  {
   "cell_type": "code",
   "execution_count": null,
   "metadata": {},
   "outputs": [],
   "source": [
    "df.columns = [x.lower() for x in df.columns]\n",
    "df = df[['product_name', 'by_info', 'product_price', \n",
    "         'rating', 'total_review','ans_ask', 'cust_review']] \n",
    "df = df.dropna()\n",
    "df = df.reset_index(drop=True)\n",
    "df.head(3)"
   ]
  },
  {
   "cell_type": "code",
   "execution_count": null,
   "metadata": {},
   "outputs": [],
   "source": [
    "df.shape"
   ]
  },
  {
   "cell_type": "code",
   "execution_count": null,
   "metadata": {},
   "outputs": [],
   "source": [
    "df = df.rename(columns={'product_name': 'name',\n",
    "                        'by_info': 'company', \n",
    "                        'product_price': 'price',\n",
    "                        'ans_ask': 'num_answered',\n",
    "                        'cust_review': 'review_text'})\n",
    "df.head(3)"
   ]
  },
  {
   "cell_type": "markdown",
   "metadata": {},
   "source": [
    "## 정규표현식, 정규식, regular expression, regex\n",
    "\n",
    "- 문자열에서 무언가를 추출하거나, 찾거나, 바꾸거나 하고 싶을 때가 있습니다 \n",
    "- 내가 찾고 싶은 무언가를 **패턴**으로 나타내서 그 패턴과 일치하면 다 찾아주는 뭐 그런겁니다 (문법)\n",
    "- 파이썬에서만 되는건 아니고, 자바에서도 되고 등등 정규식을 지원한다 라고 하면 그 언어에서 사용할 수 있음\n",
    "- python built-in library로는 re 가 있어요\n",
    "- 규칙\n",
    "    - \\d: digit, 숫자 하나, 0에서 9까지\n",
    "    - \\w: word character, a-z까지, A-Z까지, 0-9까지, underscore(\\_) 포함\n",
    "    - \\d+: digit인데 숫자가 여러개 있을 수 있다 \n",
    "    - \\w+: character인데 여러개 있을 수 있다 \n",
    "- 재밌으면 하세요 \n",
    "- 재미없으면 하지 마세여 -> stackoverflow 같은 질의응답 사이트에서 은둔고수들이 물어보면 알려줍니다"
   ]
  },
  {
   "cell_type": "code",
   "execution_count": null,
   "metadata": {},
   "outputs": [],
   "source": [
    "df['company'].nunique()"
   ]
  },
  {
   "cell_type": "code",
   "execution_count": null,
   "metadata": {},
   "outputs": [],
   "source": [
    "company_rows = df['company'].value_counts()\n",
    "only_one = company_rows[company_rows == 1].index\n",
    "only_one"
   ]
  },
  {
   "cell_type": "code",
   "execution_count": null,
   "metadata": {},
   "outputs": [],
   "source": [
    "# ~: not\n",
    "df = df[~df['company'].isin(only_one)]\n",
    "df.shape"
   ]
  },
  {
   "cell_type": "code",
   "execution_count": null,
   "metadata": {},
   "outputs": [],
   "source": [
    "df.head(3)"
   ]
  },
  {
   "cell_type": "code",
   "execution_count": null,
   "metadata": {},
   "outputs": [],
   "source": [
    "df['rating'][0], type(df['rating'][0])"
   ]
  },
  {
   "cell_type": "code",
   "execution_count": null,
   "metadata": {},
   "outputs": [],
   "source": [
    "# text에서 숫자만 빼내보기 version 1 - string replace로 숫자만 남기고 남은 숫자를 float로 타입 변환\n",
    "df['rating_num1'] = df['rating'].str.replace(' out of 5 stars', '')\n",
    "df['rating_num1'] = df['rating_num1'].str.strip() # 호오오옥시 모르니까 스트링 앞뒤 공백 없애주자\n",
    "df['rating_num1'] = df['rating_num1'].astype(float)\n",
    "df['rating_num1'][0], type(df['rating_num1'][0])"
   ]
  },
  {
   "cell_type": "code",
   "execution_count": null,
   "metadata": {},
   "outputs": [],
   "source": [
    "df.head(3)"
   ]
  },
  {
   "cell_type": "markdown",
   "metadata": {},
   "source": [
    "## 함수\n",
    "1. 그냥 함수\n",
    "    ```Python\n",
    "    def 함수이름(param1, ... ):\n",
    "        return 리턴값\n",
    "    ```\n",
    "2. 익명함수\n",
    "    ```Python\n",
    "    lambda param1, ... , paramN : 리턴값\n",
    "    ```\n",
    "    \n",
    "3. 차이점\n",
    "    - 그냥 함수\n",
    "        1. 선언: def\n",
    "        2. return: 없어도 됨\n",
    "        3. namespace: 저장됨\n",
    "    - 익명 함수\n",
    "        1. 선언: lambda\n",
    "        2. return: 무조건 명시해줘야 함 \n",
    "        3. namespace: 저장 안됨\n",
    "    \n",
    "4. 용도\n",
    "    - def: 여러번 쓸거, **namespace에 저장이 되니까 다시 호출이 가능함**\n",
    "    - lambda: 한번 쓸거, **namespace에 저장이 안되니까 다시 호출이 불가능함**"
   ]
  },
  {
   "cell_type": "code",
   "execution_count": null,
   "metadata": {},
   "outputs": [],
   "source": [
    "# text에서 숫자만 뽑아보자 ver 2 - 공백 기준으로 자르고, 그 리스트에서 0번째를 뽑은 다음에 그걸 float로 바꾸자\n",
    "df['rating_num2'] = df['rating'].str.split() # 자른다\n",
    "\n",
    "# apply 메소드는 함수를 인풋으로 받습니다\n",
    "# 우리가 함수를 짜고, 그 함수를 apply 안에다가 넣어주면 됩니다 \n",
    "# 익명함수 lambda를 써도 상관 없어용\n",
    "\n",
    "# 이 때의 x: ['4.0', 'out', 'of', '5', 'stars']\n",
    "df['rating_num2'] = df['rating_num2'].apply(lambda x: float(x[0])) # apply-lambda 조합\n",
    "df.head(3)"
   ]
  },
  {
   "cell_type": "code",
   "execution_count": null,
   "metadata": {},
   "outputs": [],
   "source": [
    "df['rating_num2'][0], type(df['rating_num2'][0])"
   ]
  },
  {
   "cell_type": "code",
   "execution_count": null,
   "metadata": {},
   "outputs": [],
   "source": [
    "# dataframe에서 값 for문으로 처리하고 새로운 컬럼으로 추가하기\n",
    "rating_num2 = []\n",
    "# df.iterrows로 for문을 돈다 하면 튜플이 나와요 \n",
    "# 나오는 튜플은 (인덱스, 행)\n",
    "# 그래서 행만 잘 쓰고 싶다 하면 idx, row로 for문의 변수를 두개 지정하면 됩니다\n",
    "for idx, row in df.iterrows():\n",
    "    #print(row['rating']) # row에서 원하는 컬럼 이름으로 값 가져오기 \n",
    "    #print(row['rating'].split()) # rating 컬럼 값을 공백 기준으로 자르기\n",
    "    #print(row['rating'].split()[0]) # 공백 기준으로 자른거에서 0번째 가져오기\n",
    "    #print(float(row['rating'].split()[0])) # 0번째 원소 float 처리하기 \n",
    "    #print()\n",
    "    value = float(row['rating'].split()[0])\n",
    "    rating_num2.append(value)\n",
    "    \n",
    "df['rating_num2'] = rating_num2\n",
    "df.head()"
   ]
  },
  {
   "cell_type": "code",
   "execution_count": null,
   "metadata": {},
   "outputs": [],
   "source": [
    "# 막간 지식 \n",
    "# '': 그냥 string\n",
    "# f'' : formatting string\n",
    "# r'' : regular expression string\n",
    "# b'' : byte string\n",
    "df['rating_num3'] = df['rating'].str.extract(r'(\\d.\\d)')\n",
    "df['rating_num3'] = df['rating_num3'].astype(float)\n",
    "df['rating_num3'][0], type(df['rating_num3'][0])"
   ]
  },
  {
   "cell_type": "code",
   "execution_count": null,
   "metadata": {},
   "outputs": [],
   "source": [
    "import re\n",
    "re.findall('[amk]+', 'amamamamaasdflkjwelkjamama')\n",
    "# re.search('[amk]+', 'amamamamaasdflkjwelkjamama').group(0)"
   ]
  },
  {
   "cell_type": "code",
   "execution_count": null,
   "metadata": {},
   "outputs": [],
   "source": [
    "# goal: total_review 컬럼에서 숫자 뽑아서 int 처리하고 싶음\n",
    "# 문제점: 콤마\n",
    "# 해결책: 콤마를 없앤다 -> replace\n",
    "\n",
    "df['num_review1'] = df['total_review'].str.replace(',', '')\n",
    "df['num_review1'] = df['num_review1'].apply(lambda x: int(x.split()[0]))\n",
    "\n",
    "df['num_review2'] = df['total_review'].apply(lambda x: int(x.replace(',', '').split()[0]))\n",
    "\n",
    "# split -> 원소 뽑기 -> replace -> 타입변환\n",
    "df['num_review3_split'] = df['total_review'].str.split()\n",
    "df['num_review3_str'] = df['num_review3_split'].apply(lambda x: x[0])\n",
    "df['num_review3'] = df['num_review3_str'].str.replace(',', '').astype(int)\n",
    "df[['total_review', 'num_review3_split', 'num_review3_str', 'num_review3']].head()\n",
    "\n",
    "# replace -> split -> 원소 뽑고 -> 타입변환 \n",
    "df['num_review4'] = df['total_review'].str.replace(',', '') #=> 7353 customer reviews\n",
    "df['num_review4'] = df['num_review4'].str.split() #=> ['7353', 'customer', 'reviews']\n",
    "df['num_review4'] = df['num_review4'].apply(lambda x: x[0]) #=> '7353'\n",
    "df['num_review4'] = df['num_review4'].astype(int) #=> 7353"
   ]
  },
  {
   "cell_type": "code",
   "execution_count": null,
   "metadata": {},
   "outputs": [],
   "source": [
    "# []: 대괄호 안에 있는 패턴 중 하나\n",
    "# ex, [amk]: a나 m이나 k\n",
    "# []+: 대괄호 안에 있는 패턴 중 하나 이상이 한번 이상 나온다\n",
    "# ex, [amk]+: a나 m이나 k가 한번 이상 나온다, aaa, aam, amakam 등등\n",
    "df['num_review4'] = df['total_review'].str.extract(r'([\\d,]+)')\n",
    "df['num_review4'] = df['num_review4'].str.replace(',', '').astype(int)\n",
    "df[['total_review', 'num_review4']]"
   ]
  },
  {
   "cell_type": "code",
   "execution_count": null,
   "metadata": {},
   "outputs": [],
   "source": [
    "df = df[['name', 'company', 'rating_num1', 'num_review1']]\n",
    "df.head()"
   ]
  },
  {
   "cell_type": "code",
   "execution_count": null,
   "metadata": {},
   "outputs": [],
   "source": [
    "# 다시 타입 확인하기\n",
    "df.dtypes"
   ]
  },
  {
   "cell_type": "code",
   "execution_count": null,
   "metadata": {},
   "outputs": [],
   "source": [
    "# company 별로 rating의 평균을 알고 싶어요 \n",
    "# 그래서, company별로 rating의 차이가 있는지를 한번 보고 싶습니다 \n",
    "# groupby 를 쓰면 쉽게 할 수 있습니다"
   ]
  },
  {
   "cell_type": "code",
   "execution_count": null,
   "metadata": {},
   "outputs": [],
   "source": [
    "# groupby를 모른다 ㅠㅠ \n",
    "# 1. unique한 company 뽑고 \n",
    "# 2. 그 company각각에 대해서 df에서 row들을 뽑고  -> for문\n",
    "# 3. mean과 std를 구한 다음에 \n",
    "# 4. 빈 리스트에다가 그걸 넣어 주고\n",
    "# 5. 그 리스트를 데이터프레임으로 만들어 준다\n",
    "companies = df['company'].unique().tolist() # \n",
    "# companies => ['Samsung', 'Xifo', 'Coolpad', .... ]\n",
    "rating_info = []\n",
    "for company in companies: # company = 'Samsung', 'Xifo', 'Coolpad', ... \n",
    "    temp = df[df['company'] == company]\n",
    "    temp_mean = temp['rating_num1'].mean()\n",
    "    temp_std = temp['rating_num1'].std()\n",
    "    temp_dict = {'company': company,\n",
    "                 'rating_mean': temp_mean,\n",
    "                 'rating_std': temp_std}\n",
    "    rating_info.append(temp_dict)\n",
    "    \n",
    "df_rating = pd.DataFrame(rating_info)\n",
    "df_rating"
   ]
  },
  {
   "cell_type": "code",
   "execution_count": null,
   "metadata": {},
   "outputs": [],
   "source": [
    "rating_mean = df.groupby('company')['rating_num1'].mean()\n",
    "rating_mean.name = 'rating_mean'\n",
    "rating_mean"
   ]
  },
  {
   "cell_type": "code",
   "execution_count": null,
   "metadata": {},
   "outputs": [],
   "source": [
    "rating_std = df.groupby('company')['rating_num1'].std()\n",
    "rating_std.name = 'rating_std'\n",
    "rating_std"
   ]
  },
  {
   "cell_type": "code",
   "execution_count": null,
   "metadata": {},
   "outputs": [],
   "source": [
    "rating = pd.DataFrame([rating_mean, rating_std]).transpose()\n",
    "rating"
   ]
  },
  {
   "cell_type": "markdown",
   "metadata": {},
   "source": [
    "### 시간 있으면 하세요 \n",
    "1. 각 브랜드별로 price의 mean, std 구하기 \n",
    "2. name에서 괄호 지우고 duplicate을 없애보자 (hint: drop_duplicates)\n",
    "3. num_answered 여기에서 숫자만 뽑아내보기 (+는 제거)\n",
    "4. 숫자인 컬럼들에 대해서, 각 브랜드별로, 기초통계량 뽑아보기 "
   ]
  }
 ],
 "metadata": {
  "kernelspec": {
   "display_name": "Python 3",
   "language": "python",
   "name": "python3"
  },
  "language_info": {
   "codemirror_mode": {
    "name": "ipython",
    "version": 3
   },
   "file_extension": ".py",
   "mimetype": "text/x-python",
   "name": "python",
   "nbconvert_exporter": "python",
   "pygments_lexer": "ipython3",
   "version": "3.6.6"
  }
 },
 "nbformat": 4,
 "nbformat_minor": 2
}
