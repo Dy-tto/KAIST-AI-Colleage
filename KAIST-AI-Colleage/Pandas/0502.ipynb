{
 "cells": [
  {
   "cell_type": "markdown",
   "metadata": {},
   "source": [
    "# 객체지향형 프로그래밍\n",
    "\n",
    "* 차를 몰아 봅시다 \n",
    "    - 차가 할 수 있어야 하는 일은?\n",
    "        1. drive\n",
    "        2. brake\n",
    "        3. 방향 전환 \n",
    "        4. 기어 전환 \n",
    "        5. 주유\n",
    "        * 이와 같은 것들은 기능(function)입니다 \n",
    "    - 설계도가 있죠\n",
    "        * 그 설계도를 우리는 프로그래밍에서 class라고 합니다 \n",
    "        * 타입(Type)을 만든다 == 클래스를 만든다\n",
    "        * 파이썬 빌트인 타입: int, str, bool, float, list, dict, set, tuple, .... \n",
    "        * ex\n",
    "        ```Python\n",
    "            a = 3\n",
    "            print(type(a)) #-> <class 'int'>\n",
    "        ```\n",
    "        * int 클래스에서 구체적인 숫자 하나를 만들었죠 (a라는 변수에 저장했어요)\n",
    "        * 저 a 를 우리가 뭐라고 하냐면 instance라고 합니다 \n",
    "    - 르노코리아의 어떤 차의 설계도 -> 클래스\n",
    "    - 도로에 있는 르노코리아 차 -> 인스턴스\n",
    "* In Python \n",
    "    * 리스트를 하나 만들어요\n",
    "    ```Python\n",
    "        a = [1, 2, 3]\n",
    "    ```\n",
    "    * 이 리스트가 할 수 있는 일은 원소 추가, 원소 삭제, 원소 수정(변환), 인덱스 찾기, 마지막 원소 방출 등등등\n",
    "    ```Python\n",
    "        a.append(True)\n",
    "    ```\n",
    "    * 여기에서 a는 instance\n",
    "    * a 뒤에 점 찍고 append 쓰는데 여기에서 괄호가 같이 쓰였어요 -> 함수\n",
    "    * 근데 그냥 함수는 호출할 때 보통 앞에다 쓰고 뒤에 argument가 들어가요 \n",
    "    ```Python\n",
    "    def add_two_numbers(a, b): #-> 여기에서의 a, b는 parameter라고 불러요\n",
    "        return a + b\n",
    "    \n",
    "    add_two_numbers(3, 7)  #-> 3, 7 은 argument\n",
    "    ```\n",
    "    * 이상하죠? 왜 함수를 뒤에다 씁니까 \n",
    "    * 저런 함수는 아까 말했던 설계도에 들어가는 함수에요 -> 메소드(method)\n",
    "    * append는 그래서 뭐다? -> 리스트 클래스에 있는 메소드다 \n",
    "    ```Python\n",
    "    class list:\n",
    "        def __init__(self):\n",
    "            # 무언가가 있겠지\n",
    "            \n",
    "        def append(self, value):\n",
    "            # self 에다가 value를 추가하자 \n",
    "            \n",
    "        def insert(self, value, loc):\n",
    "            # self 에다가 value를 추가하자 \n",
    "            \n",
    "        def remove(self, value, loc):\n",
    "            # self 에다가 value를 추가하자 \n",
    "            \n",
    "        def __repr__(self):\n",
    "            print('['+... +']')\n",
    "            \n",
    "    ```\n",
    "    \n",
    "    * 그렇다면 .value 이런건 언제 쓰는 것인가 \n",
    "        * 게임 캐릭터를 하나 생성합니다 \n",
    "        * 종족, 직업, 캐릭터 이름을 넣어 줘야 합니다 \n",
    "        ```Python\n",
    "        class Character:\n",
    "            def __init__(self, nickname, occupation, race):\n",
    "                self.name = nickname\n",
    "                self.occupation = occupation\n",
    "                self.race = race \n",
    "        ```\n",
    "        \n",
    "    * 근데 우리 RPG 게임에서 종족, 직업이 하나인 경우는 별로 없어요 \n",
    "        - 근데 종족마다, 직업마다 기능이 달라야 해요 \n",
    "        - 이걸 만약 구현을 하고 시프다 \n",
    "        - 근데 캐릭터 클래스 하나에다가 마법사, 성기사, 전사, 사냥꾼 등등의 기능을 다 넣기가 참으로 쉽지 않다\n",
    "        - 다른 사람이 코드를 보기에도 쉽지 않다 \n",
    "        - **상속**이라는 개념이 나오게 됩니다 \n",
    "        - 캐릭터 라는 클래스에서 마법사, 성기사, 전사, 사냥꾼 클래스를 따로 만들자 \n",
    "        - 직업 상관 없이, 캐릭터라면 가능해야 하는 것들은 Character 클래스에 넣어 놓고\n",
    "        - 직업 따라 달라야 하는 것들은 각 직업의 클래스 안에다가 넣어 놓자 \n",
    "        - 그러면 유지보수도 쉽고 보기에도 쉽지 않을까?\n",
    "        - base로 일단 만들어 놓고, 그 base에서 파생시키자 \n",
    "        - Magician, HolyKnight, Fighter, Hunter 라는 클래스를 만든다고 했을 때\n",
    "        - 이 클래스들의 근본은 Character다 \n",
    "        - Character 클래스는 Magician 클래스의 부모 (Superclass)\n",
    "        - Magician 클래스는 Character 클래스의 자식 (Subclass)\n",
    "        ```Python\n",
    "        class Character:\n",
    "        '''\n",
    "        Superclass Character\n",
    "        '''\n",
    "            def __init__(self, nickname, race):\n",
    "                self.name = nickname\n",
    "                self.race = race \n",
    "                self.hp = 100\n",
    "                self.mp = 100\n",
    "                \n",
    "            def rest(self):\n",
    "                self.hp = 100\n",
    "                self.mp = 100\n",
    "                \n",
    "        class Magician(Character):\n",
    "        '''\n",
    "        Subclass Magician\n",
    "        '''\n",
    "            def __init__(self, nickname, race):\n",
    "                super().__init__(nickname, race) # super클래스의 __init__ 메소드를 사용\n",
    "                self.hp = 70\n",
    "                self.mp = 500\n",
    "                \n",
    "            def magic(self):\n",
    "                self.mp -= 50\n",
    "                # 무언가를 막 한다\n",
    "                \n",
    "            # 부모 클래스의 메소드를 덮어쓰기! -> overriding\n",
    "            def rest(self):\n",
    "                self.hp = 70\n",
    "                self.mp = 500\n",
    "        ```\n",
    "        * 부모 클래스의 메소드를 덮어쓰기한다는 건 고급지게 표현해서 overriding이라고 합니다 \n",
    "        * 부모 클래스의 메소드를 실행할 때에는 super 를 씁니다 "
   ]
  },
  {
   "cell_type": "code",
   "execution_count": 15,
   "metadata": {},
   "outputs": [
    {
     "data": {
      "text/plain": [
       "['John', 10000, 'Jenny', 2000, 5000]"
      ]
     },
     "execution_count": 15,
     "metadata": {},
     "output_type": "execute_result"
    }
   ],
   "source": [
    "val = ['John', '10000', 'Jenny', '2000', '5000']\n",
    "for i in range(len(val)):\n",
    "    if val[i].isdigit():\n",
    "        val[i] = int(val[i])\n",
    "        \n",
    "val"
   ]
  },
  {
   "cell_type": "code",
   "execution_count": 16,
   "metadata": {},
   "outputs": [
    {
     "data": {
      "text/plain": [
       "(10000, int)"
      ]
     },
     "execution_count": 16,
     "metadata": {},
     "output_type": "execute_result"
    }
   ],
   "source": [
    "val[1], type(val[1])"
   ]
  },
  {
   "cell_type": "code",
   "execution_count": 2,
   "metadata": {},
   "outputs": [
    {
     "name": "stdout",
     "output_type": "stream",
     "text": [
      "<class 'int'>\n"
     ]
    }
   ],
   "source": [
    "a = 3\n",
    "print(type(a))"
   ]
  },
  {
   "cell_type": "code",
   "execution_count": 7,
   "metadata": {},
   "outputs": [],
   "source": [
    "class Character:\n",
    "    def __init__(self, nickname, occupation, race):\n",
    "        self.name = nickname\n",
    "        self.occupation = occupation\n",
    "        self.race = race \n"
   ]
  },
  {
   "cell_type": "code",
   "execution_count": 9,
   "metadata": {},
   "outputs": [],
   "source": [
    "my_char = Character('sumin', 'villan', 'human')"
   ]
  },
  {
   "cell_type": "code",
   "execution_count": 10,
   "metadata": {},
   "outputs": [
    {
     "data": {
      "text/plain": [
       "'sumin'"
      ]
     },
     "execution_count": 10,
     "metadata": {},
     "output_type": "execute_result"
    }
   ],
   "source": [
    "my_char.name"
   ]
  },
  {
   "cell_type": "code",
   "execution_count": 11,
   "metadata": {},
   "outputs": [
    {
     "data": {
      "text/plain": [
       "'villan'"
      ]
     },
     "execution_count": 11,
     "metadata": {},
     "output_type": "execute_result"
    }
   ],
   "source": [
    "my_char.occupation"
   ]
  },
  {
   "cell_type": "code",
   "execution_count": 12,
   "metadata": {},
   "outputs": [
    {
     "data": {
      "text/plain": [
       "'human'"
      ]
     },
     "execution_count": 12,
     "metadata": {},
     "output_type": "execute_result"
    }
   ],
   "source": [
    "my_char.race"
   ]
  },
  {
   "cell_type": "code",
   "execution_count": null,
   "metadata": {},
   "outputs": [],
   "source": [
    "my_char.rest() # -> self.method_name()\n",
    "#my_char.rest(100, 2000) # -> self.method_name(100, 2000)"
   ]
  },
  {
   "cell_type": "markdown",
   "metadata": {},
   "source": [
    "# 다시 Pandas"
   ]
  },
  {
   "cell_type": "code",
   "execution_count": 17,
   "metadata": {},
   "outputs": [],
   "source": [
    "import numpy as np \n",
    "import pandas as pd "
   ]
  },
  {
   "cell_type": "code",
   "execution_count": 18,
   "metadata": {},
   "outputs": [
    {
     "data": {
      "text/html": [
       "<div>\n",
       "<style scoped>\n",
       "    .dataframe tbody tr th:only-of-type {\n",
       "        vertical-align: middle;\n",
       "    }\n",
       "\n",
       "    .dataframe tbody tr th {\n",
       "        vertical-align: top;\n",
       "    }\n",
       "\n",
       "    .dataframe thead th {\n",
       "        text-align: right;\n",
       "    }\n",
       "</style>\n",
       "<table border=\"1\" class=\"dataframe\">\n",
       "  <thead>\n",
       "    <tr style=\"text-align: right;\">\n",
       "      <th></th>\n",
       "      <th>a</th>\n",
       "      <th>b</th>\n",
       "      <th>c</th>\n",
       "      <th>d</th>\n",
       "    </tr>\n",
       "  </thead>\n",
       "  <tbody>\n",
       "    <tr>\n",
       "      <th>2022-05-02</th>\n",
       "      <td>-0.707099</td>\n",
       "      <td>-0.228614</td>\n",
       "      <td>0.183418</td>\n",
       "      <td>-0.235932</td>\n",
       "    </tr>\n",
       "    <tr>\n",
       "      <th>2022-05-03</th>\n",
       "      <td>-0.504148</td>\n",
       "      <td>-0.417704</td>\n",
       "      <td>-0.245713</td>\n",
       "      <td>0.710493</td>\n",
       "    </tr>\n",
       "    <tr>\n",
       "      <th>2022-05-04</th>\n",
       "      <td>1.510499</td>\n",
       "      <td>0.290684</td>\n",
       "      <td>-1.563680</td>\n",
       "      <td>1.379245</td>\n",
       "    </tr>\n",
       "    <tr>\n",
       "      <th>2022-05-05</th>\n",
       "      <td>0.122121</td>\n",
       "      <td>-0.632444</td>\n",
       "      <td>0.003800</td>\n",
       "      <td>0.376123</td>\n",
       "    </tr>\n",
       "    <tr>\n",
       "      <th>2022-05-06</th>\n",
       "      <td>0.044686</td>\n",
       "      <td>-1.445079</td>\n",
       "      <td>-1.184617</td>\n",
       "      <td>-1.437378</td>\n",
       "    </tr>\n",
       "    <tr>\n",
       "      <th>2022-05-07</th>\n",
       "      <td>0.263694</td>\n",
       "      <td>-0.967745</td>\n",
       "      <td>-0.474843</td>\n",
       "      <td>0.763088</td>\n",
       "    </tr>\n",
       "  </tbody>\n",
       "</table>\n",
       "</div>"
      ],
      "text/plain": [
       "                   a         b         c         d\n",
       "2022-05-02 -0.707099 -0.228614  0.183418 -0.235932\n",
       "2022-05-03 -0.504148 -0.417704 -0.245713  0.710493\n",
       "2022-05-04  1.510499  0.290684 -1.563680  1.379245\n",
       "2022-05-05  0.122121 -0.632444  0.003800  0.376123\n",
       "2022-05-06  0.044686 -1.445079 -1.184617 -1.437378\n",
       "2022-05-07  0.263694 -0.967745 -0.474843  0.763088"
      ]
     },
     "execution_count": 18,
     "metadata": {},
     "output_type": "execute_result"
    }
   ],
   "source": [
    "df = pd.DataFrame(np.random.randn(6, 4))\n",
    "df.columns = list('abcd')\n",
    "df.index = pd.date_range('20220502', periods=6)\n",
    "df"
   ]
  },
  {
   "cell_type": "code",
   "execution_count": 19,
   "metadata": {},
   "outputs": [
    {
     "data": {
      "text/html": [
       "<div>\n",
       "<style scoped>\n",
       "    .dataframe tbody tr th:only-of-type {\n",
       "        vertical-align: middle;\n",
       "    }\n",
       "\n",
       "    .dataframe tbody tr th {\n",
       "        vertical-align: top;\n",
       "    }\n",
       "\n",
       "    .dataframe thead th {\n",
       "        text-align: right;\n",
       "    }\n",
       "</style>\n",
       "<table border=\"1\" class=\"dataframe\">\n",
       "  <thead>\n",
       "    <tr style=\"text-align: right;\">\n",
       "      <th></th>\n",
       "      <th>a</th>\n",
       "      <th>c</th>\n",
       "    </tr>\n",
       "  </thead>\n",
       "  <tbody>\n",
       "    <tr>\n",
       "      <th>2022-05-02</th>\n",
       "      <td>-0.707099</td>\n",
       "      <td>0.183418</td>\n",
       "    </tr>\n",
       "    <tr>\n",
       "      <th>2022-05-03</th>\n",
       "      <td>-0.504148</td>\n",
       "      <td>-0.245713</td>\n",
       "    </tr>\n",
       "    <tr>\n",
       "      <th>2022-05-04</th>\n",
       "      <td>1.510499</td>\n",
       "      <td>-1.563680</td>\n",
       "    </tr>\n",
       "    <tr>\n",
       "      <th>2022-05-05</th>\n",
       "      <td>0.122121</td>\n",
       "      <td>0.003800</td>\n",
       "    </tr>\n",
       "  </tbody>\n",
       "</table>\n",
       "</div>"
      ],
      "text/plain": [
       "                   a         c\n",
       "2022-05-02 -0.707099  0.183418\n",
       "2022-05-03 -0.504148 -0.245713\n",
       "2022-05-04  1.510499 -1.563680\n",
       "2022-05-05  0.122121  0.003800"
      ]
     },
     "execution_count": 19,
     "metadata": {},
     "output_type": "execute_result"
    }
   ],
   "source": [
    "# fancy indexing\n",
    "df.loc['2022-05-02':'2022-05-05', ['a', 'c']]"
   ]
  },
  {
   "cell_type": "code",
   "execution_count": 20,
   "metadata": {},
   "outputs": [
    {
     "data": {
      "text/html": [
       "<div>\n",
       "<style scoped>\n",
       "    .dataframe tbody tr th:only-of-type {\n",
       "        vertical-align: middle;\n",
       "    }\n",
       "\n",
       "    .dataframe tbody tr th {\n",
       "        vertical-align: top;\n",
       "    }\n",
       "\n",
       "    .dataframe thead th {\n",
       "        text-align: right;\n",
       "    }\n",
       "</style>\n",
       "<table border=\"1\" class=\"dataframe\">\n",
       "  <thead>\n",
       "    <tr style=\"text-align: right;\">\n",
       "      <th></th>\n",
       "      <th>a</th>\n",
       "      <th>b</th>\n",
       "      <th>c</th>\n",
       "      <th>d</th>\n",
       "    </tr>\n",
       "  </thead>\n",
       "  <tbody>\n",
       "    <tr>\n",
       "      <th>2022-05-02</th>\n",
       "      <td>-0.707099</td>\n",
       "      <td>-0.228614</td>\n",
       "      <td>0.183418</td>\n",
       "      <td>-0.235932</td>\n",
       "    </tr>\n",
       "  </tbody>\n",
       "</table>\n",
       "</div>"
      ],
      "text/plain": [
       "                   a         b         c         d\n",
       "2022-05-02 -0.707099 -0.228614  0.183418 -0.235932"
      ]
     },
     "execution_count": 20,
     "metadata": {},
     "output_type": "execute_result"
    }
   ],
   "source": [
    "df.loc[(df['a'] < 0) & (df['c'] > 0), :]"
   ]
  },
  {
   "cell_type": "code",
   "execution_count": 21,
   "metadata": {},
   "outputs": [
    {
     "data": {
      "text/html": [
       "<div>\n",
       "<style scoped>\n",
       "    .dataframe tbody tr th:only-of-type {\n",
       "        vertical-align: middle;\n",
       "    }\n",
       "\n",
       "    .dataframe tbody tr th {\n",
       "        vertical-align: top;\n",
       "    }\n",
       "\n",
       "    .dataframe thead th {\n",
       "        text-align: right;\n",
       "    }\n",
       "</style>\n",
       "<table border=\"1\" class=\"dataframe\">\n",
       "  <thead>\n",
       "    <tr style=\"text-align: right;\">\n",
       "      <th></th>\n",
       "      <th>c</th>\n",
       "      <th>d</th>\n",
       "    </tr>\n",
       "  </thead>\n",
       "  <tbody>\n",
       "    <tr>\n",
       "      <th>2022-05-02</th>\n",
       "      <td>0.183418</td>\n",
       "      <td>-0.235932</td>\n",
       "    </tr>\n",
       "  </tbody>\n",
       "</table>\n",
       "</div>"
      ],
      "text/plain": [
       "                   c         d\n",
       "2022-05-02  0.183418 -0.235932"
      ]
     },
     "execution_count": 21,
     "metadata": {},
     "output_type": "execute_result"
    }
   ],
   "source": [
    "df.loc[(df['a'] < 0) & (df['c'] > 0), 'c':]"
   ]
  },
  {
   "cell_type": "code",
   "execution_count": 27,
   "metadata": {},
   "outputs": [
    {
     "data": {
      "text/html": [
       "<div>\n",
       "<style scoped>\n",
       "    .dataframe tbody tr th:only-of-type {\n",
       "        vertical-align: middle;\n",
       "    }\n",
       "\n",
       "    .dataframe tbody tr th {\n",
       "        vertical-align: top;\n",
       "    }\n",
       "\n",
       "    .dataframe thead th {\n",
       "        text-align: right;\n",
       "    }\n",
       "</style>\n",
       "<table border=\"1\" class=\"dataframe\">\n",
       "  <thead>\n",
       "    <tr style=\"text-align: right;\">\n",
       "      <th></th>\n",
       "      <th>a</th>\n",
       "      <th>c</th>\n",
       "    </tr>\n",
       "  </thead>\n",
       "  <tbody>\n",
       "    <tr>\n",
       "      <th>2022-05-04</th>\n",
       "      <td>1.510499</td>\n",
       "      <td>-1.563680</td>\n",
       "    </tr>\n",
       "    <tr>\n",
       "      <th>2022-05-06</th>\n",
       "      <td>0.044686</td>\n",
       "      <td>-1.184617</td>\n",
       "    </tr>\n",
       "    <tr>\n",
       "      <th>2022-05-07</th>\n",
       "      <td>0.263694</td>\n",
       "      <td>-0.474843</td>\n",
       "    </tr>\n",
       "  </tbody>\n",
       "</table>\n",
       "</div>"
      ],
      "text/plain": [
       "                   a         c\n",
       "2022-05-04  1.510499 -1.563680\n",
       "2022-05-06  0.044686 -1.184617\n",
       "2022-05-07  0.263694 -0.474843"
      ]
     },
     "execution_count": 27,
     "metadata": {},
     "output_type": "execute_result"
    }
   ],
   "source": [
    "df[(df['a'] > 0) & (df['c'] < 0)][['a', 'c']]"
   ]
  },
  {
   "cell_type": "code",
   "execution_count": 28,
   "metadata": {},
   "outputs": [
    {
     "data": {
      "text/html": [
       "<div>\n",
       "<style scoped>\n",
       "    .dataframe tbody tr th:only-of-type {\n",
       "        vertical-align: middle;\n",
       "    }\n",
       "\n",
       "    .dataframe tbody tr th {\n",
       "        vertical-align: top;\n",
       "    }\n",
       "\n",
       "    .dataframe thead th {\n",
       "        text-align: right;\n",
       "    }\n",
       "</style>\n",
       "<table border=\"1\" class=\"dataframe\">\n",
       "  <thead>\n",
       "    <tr style=\"text-align: right;\">\n",
       "      <th></th>\n",
       "      <th>a</th>\n",
       "      <th>b</th>\n",
       "      <th>c</th>\n",
       "      <th>d</th>\n",
       "    </tr>\n",
       "  </thead>\n",
       "  <tbody>\n",
       "    <tr>\n",
       "      <th>2022-05-02</th>\n",
       "      <td>-0.707099</td>\n",
       "      <td>-0.228614</td>\n",
       "      <td>0.183418</td>\n",
       "      <td>-0.235932</td>\n",
       "    </tr>\n",
       "    <tr>\n",
       "      <th>2022-05-03</th>\n",
       "      <td>-0.504148</td>\n",
       "      <td>-0.417704</td>\n",
       "      <td>-0.245713</td>\n",
       "      <td>0.710493</td>\n",
       "    </tr>\n",
       "    <tr>\n",
       "      <th>2022-05-04</th>\n",
       "      <td>1.510499</td>\n",
       "      <td>0.290684</td>\n",
       "      <td>-1.563680</td>\n",
       "      <td>1.379245</td>\n",
       "    </tr>\n",
       "    <tr>\n",
       "      <th>2022-05-05</th>\n",
       "      <td>0.122121</td>\n",
       "      <td>-0.632444</td>\n",
       "      <td>0.003800</td>\n",
       "      <td>0.376123</td>\n",
       "    </tr>\n",
       "    <tr>\n",
       "      <th>2022-05-06</th>\n",
       "      <td>0.044686</td>\n",
       "      <td>-1.445079</td>\n",
       "      <td>-1.184617</td>\n",
       "      <td>-1.437378</td>\n",
       "    </tr>\n",
       "    <tr>\n",
       "      <th>2022-05-07</th>\n",
       "      <td>0.263694</td>\n",
       "      <td>-0.967745</td>\n",
       "      <td>-0.474843</td>\n",
       "      <td>0.763088</td>\n",
       "    </tr>\n",
       "  </tbody>\n",
       "</table>\n",
       "</div>"
      ],
      "text/plain": [
       "                   a         b         c         d\n",
       "2022-05-02 -0.707099 -0.228614  0.183418 -0.235932\n",
       "2022-05-03 -0.504148 -0.417704 -0.245713  0.710493\n",
       "2022-05-04  1.510499  0.290684 -1.563680  1.379245\n",
       "2022-05-05  0.122121 -0.632444  0.003800  0.376123\n",
       "2022-05-06  0.044686 -1.445079 -1.184617 -1.437378\n",
       "2022-05-07  0.263694 -0.967745 -0.474843  0.763088"
      ]
     },
     "execution_count": 28,
     "metadata": {},
     "output_type": "execute_result"
    }
   ],
   "source": [
    "df.loc[df['a'] != df['b']]"
   ]
  },
  {
   "cell_type": "code",
   "execution_count": 29,
   "metadata": {},
   "outputs": [
    {
     "data": {
      "text/html": [
       "<div>\n",
       "<style scoped>\n",
       "    .dataframe tbody tr th:only-of-type {\n",
       "        vertical-align: middle;\n",
       "    }\n",
       "\n",
       "    .dataframe tbody tr th {\n",
       "        vertical-align: top;\n",
       "    }\n",
       "\n",
       "    .dataframe thead th {\n",
       "        text-align: right;\n",
       "    }\n",
       "</style>\n",
       "<table border=\"1\" class=\"dataframe\">\n",
       "  <thead>\n",
       "    <tr style=\"text-align: right;\">\n",
       "      <th></th>\n",
       "      <th>a</th>\n",
       "      <th>b</th>\n",
       "      <th>c</th>\n",
       "      <th>d</th>\n",
       "    </tr>\n",
       "  </thead>\n",
       "  <tbody>\n",
       "  </tbody>\n",
       "</table>\n",
       "</div>"
      ],
      "text/plain": [
       "Empty DataFrame\n",
       "Columns: [a, b, c, d]\n",
       "Index: []"
      ]
     },
     "execution_count": 29,
     "metadata": {},
     "output_type": "execute_result"
    }
   ],
   "source": [
    "df.loc[df['a'] == df['b']]"
   ]
  },
  {
   "cell_type": "code",
   "execution_count": 30,
   "metadata": {},
   "outputs": [
    {
     "data": {
      "text/html": [
       "<div>\n",
       "<style scoped>\n",
       "    .dataframe tbody tr th:only-of-type {\n",
       "        vertical-align: middle;\n",
       "    }\n",
       "\n",
       "    .dataframe tbody tr th {\n",
       "        vertical-align: top;\n",
       "    }\n",
       "\n",
       "    .dataframe thead th {\n",
       "        text-align: right;\n",
       "    }\n",
       "</style>\n",
       "<table border=\"1\" class=\"dataframe\">\n",
       "  <thead>\n",
       "    <tr style=\"text-align: right;\">\n",
       "      <th></th>\n",
       "      <th>a</th>\n",
       "      <th>b</th>\n",
       "      <th>c</th>\n",
       "      <th>d</th>\n",
       "    </tr>\n",
       "  </thead>\n",
       "  <tbody>\n",
       "    <tr>\n",
       "      <th>2022-05-02</th>\n",
       "      <td>0.000000</td>\n",
       "      <td>-0.228614</td>\n",
       "      <td>0.183418</td>\n",
       "      <td>-0.235932</td>\n",
       "    </tr>\n",
       "    <tr>\n",
       "      <th>2022-05-03</th>\n",
       "      <td>0.000000</td>\n",
       "      <td>-0.417704</td>\n",
       "      <td>-0.245713</td>\n",
       "      <td>0.710493</td>\n",
       "    </tr>\n",
       "    <tr>\n",
       "      <th>2022-05-04</th>\n",
       "      <td>1.510499</td>\n",
       "      <td>0.290684</td>\n",
       "      <td>-1.563680</td>\n",
       "      <td>1.379245</td>\n",
       "    </tr>\n",
       "    <tr>\n",
       "      <th>2022-05-05</th>\n",
       "      <td>0.122121</td>\n",
       "      <td>-0.632444</td>\n",
       "      <td>0.003800</td>\n",
       "      <td>0.376123</td>\n",
       "    </tr>\n",
       "    <tr>\n",
       "      <th>2022-05-06</th>\n",
       "      <td>0.044686</td>\n",
       "      <td>-1.445079</td>\n",
       "      <td>-1.184617</td>\n",
       "      <td>-1.437378</td>\n",
       "    </tr>\n",
       "    <tr>\n",
       "      <th>2022-05-07</th>\n",
       "      <td>0.263694</td>\n",
       "      <td>-0.967745</td>\n",
       "      <td>-0.474843</td>\n",
       "      <td>0.763088</td>\n",
       "    </tr>\n",
       "  </tbody>\n",
       "</table>\n",
       "</div>"
      ],
      "text/plain": [
       "                   a         b         c         d\n",
       "2022-05-02  0.000000 -0.228614  0.183418 -0.235932\n",
       "2022-05-03  0.000000 -0.417704 -0.245713  0.710493\n",
       "2022-05-04  1.510499  0.290684 -1.563680  1.379245\n",
       "2022-05-05  0.122121 -0.632444  0.003800  0.376123\n",
       "2022-05-06  0.044686 -1.445079 -1.184617 -1.437378\n",
       "2022-05-07  0.263694 -0.967745 -0.474843  0.763088"
      ]
     },
     "execution_count": 30,
     "metadata": {},
     "output_type": "execute_result"
    }
   ],
   "source": [
    "df.loc[df['a'] < 0, 'a'] = 0\n",
    "df"
   ]
  },
  {
   "cell_type": "code",
   "execution_count": 31,
   "metadata": {},
   "outputs": [
    {
     "data": {
      "text/html": [
       "<div>\n",
       "<style scoped>\n",
       "    .dataframe tbody tr th:only-of-type {\n",
       "        vertical-align: middle;\n",
       "    }\n",
       "\n",
       "    .dataframe tbody tr th {\n",
       "        vertical-align: top;\n",
       "    }\n",
       "\n",
       "    .dataframe thead th {\n",
       "        text-align: right;\n",
       "    }\n",
       "</style>\n",
       "<table border=\"1\" class=\"dataframe\">\n",
       "  <thead>\n",
       "    <tr style=\"text-align: right;\">\n",
       "      <th></th>\n",
       "      <th>a</th>\n",
       "      <th>b</th>\n",
       "      <th>c</th>\n",
       "      <th>d</th>\n",
       "    </tr>\n",
       "  </thead>\n",
       "  <tbody>\n",
       "    <tr>\n",
       "      <th>2022-05-02</th>\n",
       "      <td>0.000000</td>\n",
       "      <td>-0.228614</td>\n",
       "      <td>0.183418</td>\n",
       "      <td>0.000000</td>\n",
       "    </tr>\n",
       "    <tr>\n",
       "      <th>2022-05-03</th>\n",
       "      <td>0.000000</td>\n",
       "      <td>-0.417704</td>\n",
       "      <td>-0.245713</td>\n",
       "      <td>0.000000</td>\n",
       "    </tr>\n",
       "    <tr>\n",
       "      <th>2022-05-04</th>\n",
       "      <td>1.510499</td>\n",
       "      <td>0.290684</td>\n",
       "      <td>-1.563680</td>\n",
       "      <td>1.379245</td>\n",
       "    </tr>\n",
       "    <tr>\n",
       "      <th>2022-05-05</th>\n",
       "      <td>0.122121</td>\n",
       "      <td>-0.632444</td>\n",
       "      <td>0.003800</td>\n",
       "      <td>0.000000</td>\n",
       "    </tr>\n",
       "    <tr>\n",
       "      <th>2022-05-06</th>\n",
       "      <td>0.044686</td>\n",
       "      <td>-1.445079</td>\n",
       "      <td>-1.184617</td>\n",
       "      <td>0.000000</td>\n",
       "    </tr>\n",
       "    <tr>\n",
       "      <th>2022-05-07</th>\n",
       "      <td>0.263694</td>\n",
       "      <td>-0.967745</td>\n",
       "      <td>-0.474843</td>\n",
       "      <td>0.000000</td>\n",
       "    </tr>\n",
       "  </tbody>\n",
       "</table>\n",
       "</div>"
      ],
      "text/plain": [
       "                   a         b         c         d\n",
       "2022-05-02  0.000000 -0.228614  0.183418  0.000000\n",
       "2022-05-03  0.000000 -0.417704 -0.245713  0.000000\n",
       "2022-05-04  1.510499  0.290684 -1.563680  1.379245\n",
       "2022-05-05  0.122121 -0.632444  0.003800  0.000000\n",
       "2022-05-06  0.044686 -1.445079 -1.184617  0.000000\n",
       "2022-05-07  0.263694 -0.967745 -0.474843  0.000000"
      ]
     },
     "execution_count": 31,
     "metadata": {},
     "output_type": "execute_result"
    }
   ],
   "source": [
    "df.loc[df['b'] < 0, 'd'] = 0\n",
    "df"
   ]
  },
  {
   "cell_type": "code",
   "execution_count": 32,
   "metadata": {},
   "outputs": [
    {
     "data": {
      "text/html": [
       "<div>\n",
       "<style scoped>\n",
       "    .dataframe tbody tr th:only-of-type {\n",
       "        vertical-align: middle;\n",
       "    }\n",
       "\n",
       "    .dataframe tbody tr th {\n",
       "        vertical-align: top;\n",
       "    }\n",
       "\n",
       "    .dataframe thead th {\n",
       "        text-align: right;\n",
       "    }\n",
       "</style>\n",
       "<table border=\"1\" class=\"dataframe\">\n",
       "  <thead>\n",
       "    <tr style=\"text-align: right;\">\n",
       "      <th></th>\n",
       "      <th>a</th>\n",
       "      <th>b</th>\n",
       "      <th>c</th>\n",
       "      <th>d</th>\n",
       "      <th>h</th>\n",
       "    </tr>\n",
       "  </thead>\n",
       "  <tbody>\n",
       "    <tr>\n",
       "      <th>2022-05-02</th>\n",
       "      <td>0.000000</td>\n",
       "      <td>-0.228614</td>\n",
       "      <td>0.183418</td>\n",
       "      <td>0.000000</td>\n",
       "      <td>1.0</td>\n",
       "    </tr>\n",
       "    <tr>\n",
       "      <th>2022-05-03</th>\n",
       "      <td>0.000000</td>\n",
       "      <td>-0.417704</td>\n",
       "      <td>-0.245713</td>\n",
       "      <td>0.000000</td>\n",
       "      <td>NaN</td>\n",
       "    </tr>\n",
       "    <tr>\n",
       "      <th>2022-05-04</th>\n",
       "      <td>1.510499</td>\n",
       "      <td>0.290684</td>\n",
       "      <td>-1.563680</td>\n",
       "      <td>1.379245</td>\n",
       "      <td>2.0</td>\n",
       "    </tr>\n",
       "    <tr>\n",
       "      <th>2022-05-05</th>\n",
       "      <td>0.122121</td>\n",
       "      <td>-0.632444</td>\n",
       "      <td>0.003800</td>\n",
       "      <td>0.000000</td>\n",
       "      <td>NaN</td>\n",
       "    </tr>\n",
       "    <tr>\n",
       "      <th>2022-05-06</th>\n",
       "      <td>0.044686</td>\n",
       "      <td>-1.445079</td>\n",
       "      <td>-1.184617</td>\n",
       "      <td>0.000000</td>\n",
       "      <td>3.0</td>\n",
       "    </tr>\n",
       "    <tr>\n",
       "      <th>2022-05-07</th>\n",
       "      <td>0.263694</td>\n",
       "      <td>-0.967745</td>\n",
       "      <td>-0.474843</td>\n",
       "      <td>0.000000</td>\n",
       "      <td>NaN</td>\n",
       "    </tr>\n",
       "  </tbody>\n",
       "</table>\n",
       "</div>"
      ],
      "text/plain": [
       "                   a         b         c         d    h\n",
       "2022-05-02  0.000000 -0.228614  0.183418  0.000000  1.0\n",
       "2022-05-03  0.000000 -0.417704 -0.245713  0.000000  NaN\n",
       "2022-05-04  1.510499  0.290684 -1.563680  1.379245  2.0\n",
       "2022-05-05  0.122121 -0.632444  0.003800  0.000000  NaN\n",
       "2022-05-06  0.044686 -1.445079 -1.184617  0.000000  3.0\n",
       "2022-05-07  0.263694 -0.967745 -0.474843  0.000000  NaN"
      ]
     },
     "execution_count": 32,
     "metadata": {},
     "output_type": "execute_result"
    }
   ],
   "source": [
    "# missing data, 결측치\n",
    "df['h'] = [1, np.nan, 2, np.nan, 3, np.nan]\n",
    "df"
   ]
  },
  {
   "cell_type": "code",
   "execution_count": 33,
   "metadata": {},
   "outputs": [
    {
     "data": {
      "text/html": [
       "<div>\n",
       "<style scoped>\n",
       "    .dataframe tbody tr th:only-of-type {\n",
       "        vertical-align: middle;\n",
       "    }\n",
       "\n",
       "    .dataframe tbody tr th {\n",
       "        vertical-align: top;\n",
       "    }\n",
       "\n",
       "    .dataframe thead th {\n",
       "        text-align: right;\n",
       "    }\n",
       "</style>\n",
       "<table border=\"1\" class=\"dataframe\">\n",
       "  <thead>\n",
       "    <tr style=\"text-align: right;\">\n",
       "      <th></th>\n",
       "      <th>a</th>\n",
       "      <th>b</th>\n",
       "      <th>c</th>\n",
       "      <th>d</th>\n",
       "      <th>h</th>\n",
       "      <th>e</th>\n",
       "    </tr>\n",
       "  </thead>\n",
       "  <tbody>\n",
       "    <tr>\n",
       "      <th>2022-05-02</th>\n",
       "      <td>0.000000</td>\n",
       "      <td>-0.228614</td>\n",
       "      <td>0.183418</td>\n",
       "      <td>0.000000</td>\n",
       "      <td>1.0</td>\n",
       "      <td>1.183418</td>\n",
       "    </tr>\n",
       "    <tr>\n",
       "      <th>2022-05-03</th>\n",
       "      <td>0.000000</td>\n",
       "      <td>-0.417704</td>\n",
       "      <td>-0.245713</td>\n",
       "      <td>0.000000</td>\n",
       "      <td>NaN</td>\n",
       "      <td>NaN</td>\n",
       "    </tr>\n",
       "    <tr>\n",
       "      <th>2022-05-04</th>\n",
       "      <td>1.510499</td>\n",
       "      <td>0.290684</td>\n",
       "      <td>-1.563680</td>\n",
       "      <td>1.379245</td>\n",
       "      <td>2.0</td>\n",
       "      <td>0.436320</td>\n",
       "    </tr>\n",
       "    <tr>\n",
       "      <th>2022-05-05</th>\n",
       "      <td>0.122121</td>\n",
       "      <td>-0.632444</td>\n",
       "      <td>0.003800</td>\n",
       "      <td>0.000000</td>\n",
       "      <td>NaN</td>\n",
       "      <td>NaN</td>\n",
       "    </tr>\n",
       "    <tr>\n",
       "      <th>2022-05-06</th>\n",
       "      <td>0.044686</td>\n",
       "      <td>-1.445079</td>\n",
       "      <td>-1.184617</td>\n",
       "      <td>0.000000</td>\n",
       "      <td>3.0</td>\n",
       "      <td>1.815383</td>\n",
       "    </tr>\n",
       "    <tr>\n",
       "      <th>2022-05-07</th>\n",
       "      <td>0.263694</td>\n",
       "      <td>-0.967745</td>\n",
       "      <td>-0.474843</td>\n",
       "      <td>0.000000</td>\n",
       "      <td>NaN</td>\n",
       "      <td>NaN</td>\n",
       "    </tr>\n",
       "  </tbody>\n",
       "</table>\n",
       "</div>"
      ],
      "text/plain": [
       "                   a         b         c         d    h         e\n",
       "2022-05-02  0.000000 -0.228614  0.183418  0.000000  1.0  1.183418\n",
       "2022-05-03  0.000000 -0.417704 -0.245713  0.000000  NaN       NaN\n",
       "2022-05-04  1.510499  0.290684 -1.563680  1.379245  2.0  0.436320\n",
       "2022-05-05  0.122121 -0.632444  0.003800  0.000000  NaN       NaN\n",
       "2022-05-06  0.044686 -1.445079 -1.184617  0.000000  3.0  1.815383\n",
       "2022-05-07  0.263694 -0.967745 -0.474843  0.000000  NaN       NaN"
      ]
     },
     "execution_count": 33,
     "metadata": {},
     "output_type": "execute_result"
    }
   ],
   "source": [
    "df['e'] = df['c'] + df['h']\n",
    "df"
   ]
  },
  {
   "cell_type": "code",
   "execution_count": 37,
   "metadata": {},
   "outputs": [
    {
     "data": {
      "text/html": [
       "<div>\n",
       "<style scoped>\n",
       "    .dataframe tbody tr th:only-of-type {\n",
       "        vertical-align: middle;\n",
       "    }\n",
       "\n",
       "    .dataframe tbody tr th {\n",
       "        vertical-align: top;\n",
       "    }\n",
       "\n",
       "    .dataframe thead th {\n",
       "        text-align: right;\n",
       "    }\n",
       "</style>\n",
       "<table border=\"1\" class=\"dataframe\">\n",
       "  <thead>\n",
       "    <tr style=\"text-align: right;\">\n",
       "      <th></th>\n",
       "      <th>a</th>\n",
       "      <th>b</th>\n",
       "      <th>c</th>\n",
       "      <th>d</th>\n",
       "      <th>h</th>\n",
       "      <th>e</th>\n",
       "    </tr>\n",
       "  </thead>\n",
       "  <tbody>\n",
       "    <tr>\n",
       "      <th>2022-05-02</th>\n",
       "      <td>0.000000</td>\n",
       "      <td>-0.228614</td>\n",
       "      <td>0.183418</td>\n",
       "      <td>0.000000</td>\n",
       "      <td>1.0</td>\n",
       "      <td>1.183418</td>\n",
       "    </tr>\n",
       "    <tr>\n",
       "      <th>2022-05-04</th>\n",
       "      <td>1.510499</td>\n",
       "      <td>0.290684</td>\n",
       "      <td>-1.563680</td>\n",
       "      <td>1.379245</td>\n",
       "      <td>2.0</td>\n",
       "      <td>0.436320</td>\n",
       "    </tr>\n",
       "    <tr>\n",
       "      <th>2022-05-06</th>\n",
       "      <td>0.044686</td>\n",
       "      <td>-1.445079</td>\n",
       "      <td>-1.184617</td>\n",
       "      <td>0.000000</td>\n",
       "      <td>3.0</td>\n",
       "      <td>1.815383</td>\n",
       "    </tr>\n",
       "  </tbody>\n",
       "</table>\n",
       "</div>"
      ],
      "text/plain": [
       "                   a         b         c         d    h         e\n",
       "2022-05-02  0.000000 -0.228614  0.183418  0.000000  1.0  1.183418\n",
       "2022-05-04  1.510499  0.290684 -1.563680  1.379245  2.0  0.436320\n",
       "2022-05-06  0.044686 -1.445079 -1.184617  0.000000  3.0  1.815383"
      ]
     },
     "execution_count": 37,
     "metadata": {},
     "output_type": "execute_result"
    }
   ],
   "source": [
    "df.dropna(how='any')"
   ]
  },
  {
   "cell_type": "code",
   "execution_count": 39,
   "metadata": {},
   "outputs": [
    {
     "data": {
      "text/html": [
       "<div>\n",
       "<style scoped>\n",
       "    .dataframe tbody tr th:only-of-type {\n",
       "        vertical-align: middle;\n",
       "    }\n",
       "\n",
       "    .dataframe tbody tr th {\n",
       "        vertical-align: top;\n",
       "    }\n",
       "\n",
       "    .dataframe thead th {\n",
       "        text-align: right;\n",
       "    }\n",
       "</style>\n",
       "<table border=\"1\" class=\"dataframe\">\n",
       "  <thead>\n",
       "    <tr style=\"text-align: right;\">\n",
       "      <th></th>\n",
       "      <th>a</th>\n",
       "      <th>b</th>\n",
       "      <th>c</th>\n",
       "      <th>d</th>\n",
       "      <th>h</th>\n",
       "      <th>e</th>\n",
       "    </tr>\n",
       "  </thead>\n",
       "  <tbody>\n",
       "    <tr>\n",
       "      <th>2022-05-02</th>\n",
       "      <td>0.000000</td>\n",
       "      <td>-0.228614</td>\n",
       "      <td>0.183418</td>\n",
       "      <td>0.000000</td>\n",
       "      <td>1.0</td>\n",
       "      <td>1.183418</td>\n",
       "    </tr>\n",
       "    <tr>\n",
       "      <th>2022-05-03</th>\n",
       "      <td>0.000000</td>\n",
       "      <td>-0.417704</td>\n",
       "      <td>-0.245713</td>\n",
       "      <td>0.000000</td>\n",
       "      <td>NaN</td>\n",
       "      <td>NaN</td>\n",
       "    </tr>\n",
       "    <tr>\n",
       "      <th>2022-05-04</th>\n",
       "      <td>1.510499</td>\n",
       "      <td>0.290684</td>\n",
       "      <td>-1.563680</td>\n",
       "      <td>1.379245</td>\n",
       "      <td>2.0</td>\n",
       "      <td>0.436320</td>\n",
       "    </tr>\n",
       "    <tr>\n",
       "      <th>2022-05-05</th>\n",
       "      <td>0.122121</td>\n",
       "      <td>-0.632444</td>\n",
       "      <td>0.003800</td>\n",
       "      <td>0.000000</td>\n",
       "      <td>NaN</td>\n",
       "      <td>NaN</td>\n",
       "    </tr>\n",
       "    <tr>\n",
       "      <th>2022-05-06</th>\n",
       "      <td>0.044686</td>\n",
       "      <td>-1.445079</td>\n",
       "      <td>-1.184617</td>\n",
       "      <td>0.000000</td>\n",
       "      <td>3.0</td>\n",
       "      <td>1.815383</td>\n",
       "    </tr>\n",
       "    <tr>\n",
       "      <th>2022-05-07</th>\n",
       "      <td>0.263694</td>\n",
       "      <td>-0.967745</td>\n",
       "      <td>-0.474843</td>\n",
       "      <td>0.000000</td>\n",
       "      <td>NaN</td>\n",
       "      <td>NaN</td>\n",
       "    </tr>\n",
       "  </tbody>\n",
       "</table>\n",
       "</div>"
      ],
      "text/plain": [
       "                   a         b         c         d    h         e\n",
       "2022-05-02  0.000000 -0.228614  0.183418  0.000000  1.0  1.183418\n",
       "2022-05-03  0.000000 -0.417704 -0.245713  0.000000  NaN       NaN\n",
       "2022-05-04  1.510499  0.290684 -1.563680  1.379245  2.0  0.436320\n",
       "2022-05-05  0.122121 -0.632444  0.003800  0.000000  NaN       NaN\n",
       "2022-05-06  0.044686 -1.445079 -1.184617  0.000000  3.0  1.815383\n",
       "2022-05-07  0.263694 -0.967745 -0.474843  0.000000  NaN       NaN"
      ]
     },
     "execution_count": 39,
     "metadata": {},
     "output_type": "execute_result"
    }
   ],
   "source": [
    "df"
   ]
  },
  {
   "cell_type": "code",
   "execution_count": 43,
   "metadata": {},
   "outputs": [
    {
     "data": {
      "text/html": [
       "<div>\n",
       "<style scoped>\n",
       "    .dataframe tbody tr th:only-of-type {\n",
       "        vertical-align: middle;\n",
       "    }\n",
       "\n",
       "    .dataframe tbody tr th {\n",
       "        vertical-align: top;\n",
       "    }\n",
       "\n",
       "    .dataframe thead th {\n",
       "        text-align: right;\n",
       "    }\n",
       "</style>\n",
       "<table border=\"1\" class=\"dataframe\">\n",
       "  <thead>\n",
       "    <tr style=\"text-align: right;\">\n",
       "      <th></th>\n",
       "      <th>a</th>\n",
       "      <th>b</th>\n",
       "      <th>c</th>\n",
       "      <th>d</th>\n",
       "      <th>h</th>\n",
       "      <th>e</th>\n",
       "    </tr>\n",
       "  </thead>\n",
       "  <tbody>\n",
       "    <tr>\n",
       "      <th>2022-05-02</th>\n",
       "      <td>0.000000</td>\n",
       "      <td>-0.228614</td>\n",
       "      <td>0.183418</td>\n",
       "      <td>0.000000</td>\n",
       "      <td>1</td>\n",
       "      <td>1.18342</td>\n",
       "    </tr>\n",
       "    <tr>\n",
       "      <th>2022-05-03</th>\n",
       "      <td>0.000000</td>\n",
       "      <td>-0.417704</td>\n",
       "      <td>-0.245713</td>\n",
       "      <td>0.000000</td>\n",
       "      <td>na</td>\n",
       "      <td>na</td>\n",
       "    </tr>\n",
       "    <tr>\n",
       "      <th>2022-05-04</th>\n",
       "      <td>1.510499</td>\n",
       "      <td>0.290684</td>\n",
       "      <td>-1.563680</td>\n",
       "      <td>1.379245</td>\n",
       "      <td>2</td>\n",
       "      <td>0.43632</td>\n",
       "    </tr>\n",
       "    <tr>\n",
       "      <th>2022-05-05</th>\n",
       "      <td>0.122121</td>\n",
       "      <td>-0.632444</td>\n",
       "      <td>0.003800</td>\n",
       "      <td>0.000000</td>\n",
       "      <td>na</td>\n",
       "      <td>na</td>\n",
       "    </tr>\n",
       "    <tr>\n",
       "      <th>2022-05-06</th>\n",
       "      <td>0.044686</td>\n",
       "      <td>-1.445079</td>\n",
       "      <td>-1.184617</td>\n",
       "      <td>0.000000</td>\n",
       "      <td>3</td>\n",
       "      <td>1.81538</td>\n",
       "    </tr>\n",
       "    <tr>\n",
       "      <th>2022-05-07</th>\n",
       "      <td>0.263694</td>\n",
       "      <td>-0.967745</td>\n",
       "      <td>-0.474843</td>\n",
       "      <td>0.000000</td>\n",
       "      <td>na</td>\n",
       "      <td>na</td>\n",
       "    </tr>\n",
       "  </tbody>\n",
       "</table>\n",
       "</div>"
      ],
      "text/plain": [
       "                   a         b         c         d   h        e\n",
       "2022-05-02  0.000000 -0.228614  0.183418  0.000000   1  1.18342\n",
       "2022-05-03  0.000000 -0.417704 -0.245713  0.000000  na       na\n",
       "2022-05-04  1.510499  0.290684 -1.563680  1.379245   2  0.43632\n",
       "2022-05-05  0.122121 -0.632444  0.003800  0.000000  na       na\n",
       "2022-05-06  0.044686 -1.445079 -1.184617  0.000000   3  1.81538\n",
       "2022-05-07  0.263694 -0.967745 -0.474843  0.000000  na       na"
      ]
     },
     "execution_count": 43,
     "metadata": {},
     "output_type": "execute_result"
    }
   ],
   "source": [
    "filled_df = df.fillna('na')\n",
    "filled_df"
   ]
  },
  {
   "cell_type": "code",
   "execution_count": 45,
   "metadata": {},
   "outputs": [
    {
     "data": {
      "text/plain": [
       "'na'"
      ]
     },
     "execution_count": 45,
     "metadata": {},
     "output_type": "execute_result"
    }
   ],
   "source": [
    "filled_df.loc['2022-05-03', 'h']"
   ]
  },
  {
   "cell_type": "code",
   "execution_count": 46,
   "metadata": {},
   "outputs": [
    {
     "data": {
      "text/plain": [
       "str"
      ]
     },
     "execution_count": 46,
     "metadata": {},
     "output_type": "execute_result"
    }
   ],
   "source": [
    "type(filled_df.loc['2022-05-03', 'h'])"
   ]
  },
  {
   "cell_type": "code",
   "execution_count": 47,
   "metadata": {},
   "outputs": [
    {
     "data": {
      "text/plain": [
       "nan"
      ]
     },
     "execution_count": 47,
     "metadata": {},
     "output_type": "execute_result"
    }
   ],
   "source": [
    "df.loc['2022-05-03', 'h']"
   ]
  },
  {
   "cell_type": "code",
   "execution_count": 48,
   "metadata": {},
   "outputs": [
    {
     "data": {
      "text/plain": [
       "numpy.float64"
      ]
     },
     "execution_count": 48,
     "metadata": {},
     "output_type": "execute_result"
    }
   ],
   "source": [
    "type(df.loc['2022-05-03', 'h'])"
   ]
  },
  {
   "cell_type": "code",
   "execution_count": 49,
   "metadata": {},
   "outputs": [
    {
     "data": {
      "text/plain": [
       "False"
      ]
     },
     "execution_count": 49,
     "metadata": {},
     "output_type": "execute_result"
    }
   ],
   "source": [
    "np.nan == None"
   ]
  },
  {
   "cell_type": "code",
   "execution_count": 52,
   "metadata": {},
   "outputs": [
    {
     "data": {
      "text/plain": [
       "False"
      ]
     },
     "execution_count": 52,
     "metadata": {},
     "output_type": "execute_result"
    }
   ],
   "source": [
    "a = np.nan\n",
    "b = np.nan\n",
    "a == b"
   ]
  },
  {
   "cell_type": "code",
   "execution_count": 56,
   "metadata": {
    "scrolled": true
   },
   "outputs": [
    {
     "name": "stdout",
     "output_type": "stream",
     "text": [
      "Help on method isnull in module pandas.core.frame:\n",
      "\n",
      "isnull() -> 'DataFrame' method of pandas.core.frame.DataFrame instance\n",
      "    Detect missing values.\n",
      "    \n",
      "    Return a boolean same-sized object indicating if the values are NA.\n",
      "    NA values, such as None or :attr:`numpy.NaN`, gets mapped to True\n",
      "    values.\n",
      "    Everything else gets mapped to False values. Characters such as empty\n",
      "    strings ``''`` or :attr:`numpy.inf` are not considered NA values\n",
      "    (unless you set ``pandas.options.mode.use_inf_as_na = True``).\n",
      "    \n",
      "    Returns\n",
      "    -------\n",
      "    DataFrame\n",
      "        Mask of bool values for each element in DataFrame that\n",
      "        indicates whether an element is not an NA value.\n",
      "    \n",
      "    See Also\n",
      "    --------\n",
      "    DataFrame.isnull : Alias of isna.\n",
      "    DataFrame.notna : Boolean inverse of isna.\n",
      "    DataFrame.dropna : Omit axes labels with missing values.\n",
      "    isna : Top-level isna.\n",
      "    \n",
      "    Examples\n",
      "    --------\n",
      "    Show which entries in a DataFrame are NA.\n",
      "    \n",
      "    >>> df = pd.DataFrame({'age': [5, 6, np.NaN],\n",
      "    ...                    'born': [pd.NaT, pd.Timestamp('1939-05-27'),\n",
      "    ...                             pd.Timestamp('1940-04-25')],\n",
      "    ...                    'name': ['Alfred', 'Batman', ''],\n",
      "    ...                    'toy': [None, 'Batmobile', 'Joker']})\n",
      "    >>> df\n",
      "       age       born    name        toy\n",
      "    0  5.0        NaT  Alfred       None\n",
      "    1  6.0 1939-05-27  Batman  Batmobile\n",
      "    2  NaN 1940-04-25              Joker\n",
      "    \n",
      "    >>> df.isna()\n",
      "         age   born   name    toy\n",
      "    0  False   True  False   True\n",
      "    1  False  False  False  False\n",
      "    2   True  False  False  False\n",
      "    \n",
      "    Show which entries in a Series are NA.\n",
      "    \n",
      "    >>> ser = pd.Series([5, 6, np.NaN])\n",
      "    >>> ser\n",
      "    0    5.0\n",
      "    1    6.0\n",
      "    2    NaN\n",
      "    dtype: float64\n",
      "    \n",
      "    >>> ser.isna()\n",
      "    0    False\n",
      "    1    False\n",
      "    2     True\n",
      "    dtype: bool\n",
      "\n"
     ]
    }
   ],
   "source": [
    "help(df.isnull)"
   ]
  },
  {
   "cell_type": "code",
   "execution_count": null,
   "metadata": {},
   "outputs": [],
   "source": []
  }
 ],
 "metadata": {
  "kernelspec": {
   "display_name": "Python 3",
   "language": "python",
   "name": "python3"
  },
  "language_info": {
   "codemirror_mode": {
    "name": "ipython",
    "version": 3
   },
   "file_extension": ".py",
   "mimetype": "text/x-python",
   "name": "python",
   "nbconvert_exporter": "python",
   "pygments_lexer": "ipython3",
   "version": "3.6.6"
  }
 },
 "nbformat": 4,
 "nbformat_minor": 2
}
