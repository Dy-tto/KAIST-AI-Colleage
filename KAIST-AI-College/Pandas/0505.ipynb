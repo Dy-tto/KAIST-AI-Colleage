{
 "cells": [
  {
   "cell_type": "markdown",
   "metadata": {},
   "source": [
    "# Numpy 문제 풀어보기 \n",
    "\n",
    "1. 균등분포(Uniform distribution)에서 샘플을 추출하고 평균과 분산을 구해보도록 하겠습니다.\n",
    "    * numpy로 균등분포의 샘플 array를 만들어 주세요. \n",
    "    * 샘플 평균과 분산을 구해보자 \n",
    "    * 평균: 다 더하고 그 길이로 나누기 -> mean\n",
    "    * 분산: array의 각 값에서 평균을 빼고 값을 제곱한 후, 제곱한 값을 다 더하고 (array의 길이-1) 로 나눠줍니다\n",
    "    * 7시 20분까지!\n",
    "    * 샘플의 갯수는 정해져 있지 않아요! 100개 추출해도 됩니다 ㅋㅋㅋ "
   ]
  },
  {
   "cell_type": "code",
   "execution_count": 7,
   "metadata": {},
   "outputs": [
    {
     "data": {
      "text/plain": [
       "(0.5012907208252911, 0.08405417736511654)"
      ]
     },
     "execution_count": 7,
     "metadata": {},
     "output_type": "execute_result"
    }
   ],
   "source": [
    "import numpy as np \n",
    "def get_stat(array):\n",
    "    # array의 mean과 variance를 리턴해주세요\n",
    "    avg = array.mean()\n",
    "    var = array.var(ddof=1)\n",
    "    return avg, var\n",
    "\n",
    "def main():\n",
    "    sample = np.array([1, 2, 3]) # numpy array를 sample에 저장해주세요\n",
    "    print(get_stat(sample))\n",
    "    \n",
    "if __name__=='__main__':\n",
    "    main()"
   ]
  },
  {
   "cell_type": "code",
   "execution_count": null,
   "metadata": {},
   "outputs": [],
   "source": [
    "sample = np.random.uniform(size=10000)\n",
    "sample_mean = sample.mean()\n",
    "sample_var = sample.var(ddof=1)\n",
    "sample_mean, sample_var"
   ]
  },
  {
   "cell_type": "markdown",
   "metadata": {},
   "source": [
    "2. 동전을 던져봅시다 - 동전을 던졌을 때 앞면(1)과 뒷면(0)이 나올 확률을 구해보겠습니다. 주어진 숫자 n에 대해서 앞면이 나올 확률, 뒷면이 나올 확률을 구해보세요. \n",
    "    * n 이 주어진다 칩시다 \n",
    "    * 그러면 주어진 n에 대해서 0, 1로 이루어진 numpy array를 만들구요 \n",
    "    * 0의 확률, 1의 확률을 구해주세요. \n",
    "    \n",
    "**array가 주어졌을 때, 그 array에서 probability 구하는거**\n",
    "\n",
    "**밑에 get\\_prob 함수에서 number가 없을 때** -> array에 어떤 값들이 있던 간에 그 값들 각각에 대해서 probability를 구하는 것"
   ]
  },
  {
   "cell_type": "code",
   "execution_count": 21,
   "metadata": {},
   "outputs": [
    {
     "name": "stdout",
     "output_type": "stream",
     "text": [
      "(0.8, 0.8)\n"
     ]
    }
   ],
   "source": [
    "def get_prob(array, number):\n",
    "    # array를 리스트로 바꿔서 리스트 메소드 중에서 count로 number가 몇개 있는지를 찾아낸 다음에 길이로 나눔\n",
    "    # prob = list(array).count(number) / len(array)\n",
    "    # if number == 1:\n",
    "    # array.sum() / len(array) -> 1이 나올 확률\n",
    "    \n",
    "    #prob = 0\n",
    "    #for cnt in array:\n",
    "    #    if cnt == number:\n",
    "    #        prob += 1\n",
    "    #prob = prob / len(array)\n",
    "     \n",
    "    return prob\n",
    "\n",
    "def main():\n",
    "    n = 10\n",
    "    array = np.random.randint(2, size=n)\n",
    "    prob_head = get_prob(array, 1)\n",
    "    prob_tail = get_prob(array, 0)\n",
    "    return prob_head, prob_tail\n",
    "\n",
    "if __name__ == '__main__':\n",
    "    res = main()\n",
    "    print(res)"
   ]
  },
  {
   "cell_type": "code",
   "execution_count": 22,
   "metadata": {},
   "outputs": [
    {
     "data": {
      "text/plain": [
       "0.5"
      ]
     },
     "execution_count": 22,
     "metadata": {},
     "output_type": "execute_result"
    }
   ],
   "source": [
    "coin_toss = np.random.randint(2, size=10)\n",
    "number = 0\n",
    "prob = len(coin_toss[coin_toss == number]) / len(coin_toss)\n",
    "\n",
    "prob = (coin_toss.sum() / len(coin_toss) if number == 1\n",
    "        else 1-(coin_toss.sum() / len(coin_toss)))\n",
    "prob"
   ]
  },
  {
   "cell_type": "markdown",
   "metadata": {},
   "source": [
    "3. **min-max scaling vs standardization**\n",
    "    * numpy array를 생성합니다. shape은 아무거나 상관 없는데, 2d로 설정해주세요. \n",
    "        - ex. shape이 2d이면 (3, 5) 처럼 생겼다는 겁니다\n",
    "        - 컬럼이 5개, row가 3개 \n",
    "        - 만약에 column_scale = 3이다 -> 그러면 4번째 column이 scaling/standardizing 됩니다 \n",
    "    * 필요한 함수\n",
    "        - min-max scaling할 때 -> min, max\n",
    "        - standardization할 때 -> mean, std\n",
    "    * 두가지로 진행해봅시다 \n",
    "        1. column을 정해두고, 그 column에 대해서만 min-max scaling이랑 standardization을 해주세요 \n",
    "        2. column을 정해두지 않고, column-wise로 min-max scaling이랑 standardization을 해주세요 \n",
    "    * 무엇이 중요할까요? -> axis"
   ]
  },
  {
   "cell_type": "code",
   "execution_count": 24,
   "metadata": {},
   "outputs": [
    {
     "name": "stdout",
     "output_type": "stream",
     "text": [
      "[[0.58450745 0.31324116 0.17961918 0.08827192 0.40147117]\n",
      " [0.49205068 0.65050045 0.69396998 0.27701495 0.89632107]\n",
      " [0.67268993 0.02446917 0.47827149 0.05750134 0.82369626]]\n",
      "[[0.58450745 0.31324116 0.         0.08827192 0.40147117]\n",
      " [0.49205068 0.65050045 1.         0.27701495 0.89632107]\n",
      " [0.67268993 0.02446917 0.58063935 0.05750134 0.82369626]]\n"
     ]
    }
   ],
   "source": [
    "# A: column을 정해두고 그 column에 대해서만 min-max scaling 하기\n",
    "def min_max_scaling(array, dimension):\n",
    "    nominator = (array[:, dimension] - array[:, dimension].min())\n",
    "    denominator = array[:, dimension].max() - array[:, dimension].min()\n",
    "    array[:, dimension] = nominator / denominator\n",
    "    return array\n",
    "\n",
    "def main():\n",
    "    array = np.random.random(size=(3, 5))\n",
    "    print(array)\n",
    "    dimension = 2\n",
    "    print(min_max_scaling(array, dimension))\n",
    "    \n",
    "main()"
   ]
  },
  {
   "cell_type": "code",
   "execution_count": 27,
   "metadata": {},
   "outputs": [
    {
     "name": "stdout",
     "output_type": "stream",
     "text": [
      "[[0.06101302 0.30743894 0.40164684 0.69193446 0.11670178]\n",
      " [0.59088847 0.48141797 0.28721936 0.08539095 0.92714071]\n",
      " [0.79708177 0.53196246 0.41808793 0.60479704 0.72104427]]\n",
      "[0.06101302 0.30743894 0.28721936 0.08539095 0.11670178]\n"
     ]
    }
   ],
   "source": [
    "# A: column을 정해두고 그 column에 대해서만 min-max scaling 하기\n",
    "def min_max_scaling(array):\n",
    "    return array - array.min(axis=0) / (array.max(axis=0) - array.min(axis=0))\n",
    "\n",
    "def main():\n",
    "    array = np.random.random(size=(3, 5))\n",
    "    print(array)\n",
    "    dimension = 2\n",
    "    print(array.min(axis=0))\n",
    "    #print(min_max_scaling(array, dimension))\n",
    "\n",
    "main()"
   ]
  },
  {
   "cell_type": "markdown",
   "metadata": {},
   "source": [
    "9시까지!\n",
    "4. 계단 오르내리기 \n",
    "    * 1000번 가위바위보를 했습니다 \n",
    "    * 이기면 1, 지면 -1 -> 1) 이 어레이를 먼저 만들어 주세요\n",
    "    * 2) 각 가위바위보를 했을 때의 나의 위치를 구해주시면 됩니다. \n",
    "    ```Python\n",
    "    rps = [-1, 1, 1, -1, 1]\n",
    "    current_loc = [-1, 0, 1, 0, 1]\n",
    "    ```\n",
    "    * 3) 제일 밑으로 내려갔을 때의 위치랑, 제일 위로 올라갔을 때의 위치를 구해주세요. "
   ]
  },
  {
   "cell_type": "code",
   "execution_count": 37,
   "metadata": {
    "scrolled": true
   },
   "outputs": [
    {
     "data": {
      "text/plain": [
       "(-1, 44)"
      ]
     },
     "execution_count": 37,
     "metadata": {},
     "output_type": "execute_result"
    }
   ],
   "source": [
    "rps = np.random.randint(2, size=1000)\n",
    "rps[rps == 0] = -1\n",
    "current_loc = rps.cumsum() #cumsum: cumulative sum, 누적합\n",
    "current_loc.min(), current_loc.max()"
   ]
  },
  {
   "cell_type": "markdown",
   "metadata": {},
   "source": [
    "#### 뭐가 어려울까 -> stackoverflow\n",
    "1. 코드로 바꾸기가 힘들다 \n",
    "2. 그냥 어떻게 접근해야 할지도 모르겠다 \n",
    "3. enumerate 어떻게 쓰는지 모르겠다 \n",
    "4. 막막하다  \n",
    "5. def 여러개 들어가면서 엮는거 잘 모르겠다\n",
    "6. 기초가 튼튼하지 않은 것 같다 \n",
    "7. 진도가 너무 빨랐다"
   ]
  },
  {
   "cell_type": "markdown",
   "metadata": {},
   "source": [
    "#### 여러분이 말씀해주신 여러분의 상태\n",
    "* 파이썬의 문법은 대충 알고 있다 \n",
    "* 대애충 간단간단하게는 어떻게 해야 할지 알겠다\n",
    "* 근데 그 간단한 것들이 어우러지면 대략 머리가 하얘진다\n",
    "* 그리고 그 간단한 것들이 조금만 복잡해져도 눈앞이 흐리다 \n",
    "* 복잡한거를 봤을 때 설명을 들으면 알겠는데 내가 쓸 자신은 없다\n",
    "\n",
    "* 뭐부터 해야 할 지 모르겠다 \n",
    "* 어디에 뭘 써야 되는지도 모르겠다 \n",
    "* 에러 잡기 힘들다\n",
    "* 어떻게든 시도는 했는데 안돌아가면 마음이 슬프다 \n",
    "\n",
    "#### 이런 상태에서 빨리 탈출해보자 \n",
    "1. print하기 \n",
    "    * 간단한 것들이 아직 체화가 안되어 있다 -> 그 간단한 것들이 어떻게 결과물이 나오는지 아직 확신이 없다 \n",
    "2. 문제 풀 때 선행되어야 하는 것 -> 내가 뭘 하겠다 \n",
    "    * 내가 가지고 있는 것과 최종 목표가 뭔지 내가 명확하게 알고 있다\n",
    "    * 중간 단계를 설정한다 \n",
    "3. 머리로만 생각하지 말고 손을 쓴다 \n",
    "    * 손코딩을 먼저 하고 나서 진짜 코딩을 한다\n",
    "    * 손코딩을 할 때 각 변수의 값, 타입을 생각해보고 컴퓨터로 실제 돌렸을 때의 결과물을 비교한다"
   ]
  }
 ],
 "metadata": {
  "kernelspec": {
   "display_name": "ita_kaist",
   "language": "python",
   "name": "ita_kaist"
  },
  "language_info": {
   "codemirror_mode": {
    "name": "ipython",
    "version": 3
   },
   "file_extension": ".py",
   "mimetype": "text/x-python",
   "name": "python",
   "nbconvert_exporter": "python",
   "pygments_lexer": "ipython3",
   "version": "3.6.8"
  }
 },
 "nbformat": 4,
 "nbformat_minor": 2
}
