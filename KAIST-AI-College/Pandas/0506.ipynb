{
 "cells": [
  {
   "cell_type": "markdown",
   "metadata": {},
   "source": [
    "## 파이썬 배우기 좋은 매체(?)들\n",
    "\n",
    "1. 책\n",
    "    * 초급: Do it 점프 투 파이썬\n",
    "    * 중급~고급\n",
    "        - 파이썬 클린코드 \n",
    "        - (고급) 고성능 파이썬 \n",
    "        - (소곤소곤) 오레일리(O'Reilly) 책들이 어려워요 맨처음에 보기에는 조금 적절하지 않을 수 있습니다\n",
    "2. CS\n",
    "    * 이산수학, critical thinking\n",
    "    * 자료구조\n",
    "    * 알고리즘\n",
    "    * **problem solving**\n",
    "    * 당연히 책도 있구요\n",
    "    * 강의도 있어요 - coursera, edx, ...\n",
    "3. 데이터분석/머신러닝\n",
    "    * 책: Python for data analysis (파이썬 라이브러리를 활용한 데이터 분석)\n",
    "    * 강의: ... 겁나 많아요\n",
    "        - Coursera, Andrew Ng, machine learning\n",
    "4. 온라인 플랫폼\n",
    "    - codecademy\n",
    "    - datacamp\n",
    "    - dataquest (datacamp 상위버전)"
   ]
  },
  {
   "cell_type": "markdown",
   "metadata": {},
   "source": [
    "### sort, sorted 차이 \n",
    "- 리스트에 한해서\n",
    "    ```Python\n",
    "    a = [1, 3, 2]\n",
    "    a.sort()\n",
    "    \n",
    "    sorted(a)\n",
    "    ```\n",
    "    * a.sort(): 리스트의 메소드를 쓴다, return이 없다\n",
    "    * sorted(a): 파이썬 내장함수 sorted를 쓴다, return이 있다"
   ]
  },
  {
   "cell_type": "code",
   "execution_count": 3,
   "metadata": {},
   "outputs": [
    {
     "name": "stdout",
     "output_type": "stream",
     "text": [
      "[1, 2, 3]\n"
     ]
    }
   ],
   "source": [
    "a = [1, 3, 2]\n",
    "a = a.sort()\n",
    "print(a)"
   ]
  },
  {
   "cell_type": "code",
   "execution_count": 5,
   "metadata": {},
   "outputs": [
    {
     "data": {
      "text/plain": [
       "[1, 2, 3]"
      ]
     },
     "execution_count": 5,
     "metadata": {},
     "output_type": "execute_result"
    }
   ],
   "source": [
    "a = sorted(a)\n",
    "a"
   ]
  },
  {
   "cell_type": "code",
   "execution_count": 8,
   "metadata": {},
   "outputs": [],
   "source": [
    "import numpy as np \n",
    "arr = np.random.randint(8, size=100)"
   ]
  },
  {
   "cell_type": "code",
   "execution_count": 10,
   "metadata": {},
   "outputs": [
    {
     "data": {
      "text/plain": [
       "{0, 1, 2, 3, 4, 5, 6, 7}"
      ]
     },
     "execution_count": 10,
     "metadata": {},
     "output_type": "execute_result"
    }
   ],
   "source": [
    "set(arr)"
   ]
  },
  {
   "cell_type": "code",
   "execution_count": 13,
   "metadata": {},
   "outputs": [],
   "source": [
    "num_occur = {}\n",
    "for elem in arr:\n",
    "    if elem in num_occur.keys():\n",
    "        num_occur[elem] += 1\n",
    "    else:\n",
    "        num_occur[elem] = 1"
   ]
  },
  {
   "cell_type": "code",
   "execution_count": 14,
   "metadata": {},
   "outputs": [
    {
     "data": {
      "text/plain": [
       "{6: 15, 1: 18, 0: 13, 5: 12, 7: 12, 3: 8, 4: 9, 2: 13}"
      ]
     },
     "execution_count": 14,
     "metadata": {},
     "output_type": "execute_result"
    }
   ],
   "source": [
    "num_occur"
   ]
  },
  {
   "cell_type": "code",
   "execution_count": 15,
   "metadata": {},
   "outputs": [
    {
     "data": {
      "text/plain": [
       "{6: 0.15, 1: 0.18, 0: 0.13, 5: 0.12, 7: 0.12, 3: 0.08, 4: 0.09, 2: 0.13}"
      ]
     },
     "execution_count": 15,
     "metadata": {},
     "output_type": "execute_result"
    }
   ],
   "source": [
    "num_prob = {k: v/arr.shape[0] for k, v in num_occur.items()}\n",
    "num_prob"
   ]
  },
  {
   "cell_type": "code",
   "execution_count": 17,
   "metadata": {},
   "outputs": [
    {
     "data": {
      "text/plain": [
       "{6: 0.15, 1: 0.18, 0: 0.13, 5: 0.12, 7: 0.12, 3: 0.08, 4: 0.09, 2: 0.13}"
      ]
     },
     "execution_count": 17,
     "metadata": {},
     "output_type": "execute_result"
    }
   ],
   "source": [
    "arr_list = list(arr) # numpy array를 리스트로 바꾸고\n",
    "unique_num = list(set(arr_list)) # 그 리스트에서 unique한 숫자들을 구하고\n",
    "num_prob = {num: arr_list.count(num) / len(arr_list) for num in arr_list} # 각 숫자의 확률구하기\n",
    "num_prob"
   ]
  },
  {
   "cell_type": "code",
   "execution_count": 19,
   "metadata": {},
   "outputs": [
    {
     "data": {
      "text/plain": [
       "(100,)"
      ]
     },
     "execution_count": 19,
     "metadata": {},
     "output_type": "execute_result"
    }
   ],
   "source": [
    "arr.shape"
   ]
  },
  {
   "cell_type": "code",
   "execution_count": 20,
   "metadata": {},
   "outputs": [
    {
     "data": {
      "text/plain": [
       "100"
      ]
     },
     "execution_count": 20,
     "metadata": {},
     "output_type": "execute_result"
    }
   ],
   "source": [
    "arr.shape[0]"
   ]
  },
  {
   "cell_type": "code",
   "execution_count": 21,
   "metadata": {},
   "outputs": [],
   "source": [
    "num_prob = {} # 이 딕셔너리에 숫자: 확률을 넣고 싶은 겁니다\n",
    "for key, value in num_occur.items(): # key-value 페어로 딕셔너리를 순회합니다\n",
    "    # 지금 value에는 key의 숫자가 arr에서 몇번 나왔는지 count된 숫자입니다\n",
    "    # 확률: 전체 중에서 몇번 나왔는지를 나눌겁니다 \n",
    "    # 나온 횟수 / 전체 숫자 갯수\n",
    "    # 전체 숫자 갯수: arr의 길이 -> len(arr) 해도 되고 arr.shape[0] 해도 됩니다\n",
    "    # arr.shape -> (100, ) -> tuple\n",
    "    # arr.shape[0] -> 100 -> int (tuple indexing)\n",
    "    prob = value / arr.shape[0]\n",
    "    # 딕셔너리에다가 숫자: 확률을 넣자 \n",
    "    num_prob[key] = prob\n",
    "    \n",
    "num_prob = {key: value/arr.shape[0] for key, value in num_occur.items()}"
   ]
  },
  {
   "cell_type": "code",
   "execution_count": 29,
   "metadata": {},
   "outputs": [
    {
     "name": "stdout",
     "output_type": "stream",
     "text": [
      "01234"
     ]
    }
   ],
   "source": [
    "for i in range(5):\n",
    "    print(i, end='')"
   ]
  },
  {
   "cell_type": "code",
   "execution_count": 23,
   "metadata": {},
   "outputs": [
    {
     "name": "stdout",
     "output_type": "stream",
     "text": [
      "     **\n",
      "    *++*\n",
      "   *++++*\n",
      "  *++++++*\n",
      " *++++++++*\n",
      "*++++++++++*\n",
      " *++++++++*\n",
      "  *++++++*\n",
      "   *++++*\n",
      "    *++*\n",
      "     **\n"
     ]
    }
   ],
   "source": [
    "n = 5\n",
    "for i in range(n): #i는 0부터 4까지\n",
    "    # space\n",
    "    for j in range(n-i): # n-i -> i가 0일 때 5, i가 1일 때 4, i가 2일 때 3, ..., i가 4일 때 1\n",
    "        print(' ',end='') # i가 0일 때 공백 5개, i가 1일 때 공백 4개 , ... \n",
    "    # 위의 for문을 줄여서 쓰면 \n",
    "    # print(' '*(n-i), end='')\n",
    "    # 별 하나\n",
    "    print('*',end='')\n",
    "    # +\n",
    "    for j in range(2*i): # i가 0이면 j는 0까지니까 이 for문 자체가 실행이 안됩니다 \n",
    "        # i가 1이면 j는 2까지 -> 플러스가 2개\n",
    "        # i가 2이면 j는 4까지 -> 플러스가 4개 \n",
    "        print('+',end='')\n",
    "    # 별 하나\n",
    "    print('*')\n",
    "for k in range(n+1):\n",
    "    # space\n",
    "    for j in range(k):\n",
    "        print(' ',end='')\n",
    "    print('*',end='')\n",
    "    for j in range(2*(n-k)):\n",
    "        print('+',end='')\n",
    "    print('*')"
   ]
  },
  {
   "cell_type": "markdown",
   "metadata": {},
   "source": [
    "* n이 5일 때 -> line 갯수는 11개 (2n+1)\n",
    "* num_+가 줄어드는게 좀 구현하기 어려울 것 같다 \n",
    "* 그러니까 두 개로 나누어서 for문을 짜자\n",
    "    - 0에서 5까지, 6에서 10까지\n",
    "    - **0에서 4까지, 5에서 10까지** (우리의 실습 문제에서)\n",
    "        ```Python\n",
    "        n = 20\n",
    "        for i in range(n): #-> i가 0부터 19까지\n",
    "        ```\n",
    "    - num\\_+는 0부터 4까지에서는 2i, 5부터 10까지는? 20-2i\n",
    "    - 공백은? 0부터 4까지에서는 5-i, 5부터 10까지는? i-5 \n",
    "- 우리의 전략은\n",
    "    - for문을 두번 씁니다: 0~4까지, 5~10까지 \n",
    "        - n이 5인데 0~4까지랑 5~10까지를 어떻게 표현할 수 있죵?\n",
    "            - for i in range(n) -> for i in range(5)\n",
    "            - for i in range(n, 2n+1) -> for i in range(5, 11)\n",
    "    - 각 for문에서\n",
    "        - 0~4\n",
    "            - 우리는 \\*, +, 공백을 번갈아서 프린트를 할겁니다\n",
    "            - 공백, 별 하나, +, 별 하나 \n",
    "            - 공백: ' '*(5-i)\n",
    "            - 별: '*'\n",
    "            - +: '+'*2*i\n",
    "            ```Python\n",
    "            for i in range(n):\n",
    "                print(' '*(5-i) + '*' + '+'*2*i + '*')\n",
    "            ```\n",
    "       - 5~10\n",
    "           - 공백: ' '*(i-5)\n",
    "           - 별: '*'\n",
    "           - +: '+'*(20-2i)\n",
    "           ```Python\n",
    "            for i in range(n, 2*n+1):\n",
    "                print(' '*(i-5) + '*' + '+'*(20-2*i) + '*')\n",
    "           ```\n",
    "           \n",
    "\n",
    "| line | num_* | num_+| 공백 |\n",
    "| ---- | ----- | ---- | --- |\n",
    "|   0  |   2   |   0  |   5 |\n",
    "|   1  |   2   |   2  |   4 | \n",
    "|   2  |   2   |   4  |   3 | \n",
    "|   3  |   2   |   6  |   2 | \n",
    "|   4  |   2   |   8  |   1 | \n",
    "|   5  |   2   |   10 |   0 | \n",
    "|   6  |   2   |   8  |   1 | \n",
    "|   7  |   2   |   6  |   2 | \n",
    "|   8  |   2   |   4  |   3 | \n",
    "|   9  |   2   |   2  |   4 | \n",
    "|  10  |   2   |   0  |   5 | \n"
   ]
  },
  {
   "cell_type": "code",
   "execution_count": 32,
   "metadata": {},
   "outputs": [],
   "source": [
    "class Person:\n",
    "    def __init__(self, name, age, gender, sports, food):\n",
    "        self.name=name\n",
    "        self.age=age\n",
    "        self.gender=gender\n",
    "        self.sports=sports\n",
    "        self.food=food\n",
    "    def eat(self):\n",
    "        print(\"eat \"+self.food)\n",
    "    def old(self):\n",
    "        print(self.age)\n",
    "        self.age += 1\n",
    "        print(self.age)\n",
    "\n",
    "Tom=Person('Tom', 23, 'male', 'tennis', 'steak')\n",
    "Jerry=Person('Jerry', 25, 'female', 'swim', 'noodle')"
   ]
  },
  {
   "cell_type": "code",
   "execution_count": 33,
   "metadata": {},
   "outputs": [
    {
     "name": "stdout",
     "output_type": "stream",
     "text": [
      "23\n",
      "24\n"
     ]
    }
   ],
   "source": [
    "Tom.old()"
   ]
  },
  {
   "cell_type": "code",
   "execution_count": 34,
   "metadata": {},
   "outputs": [
    {
     "data": {
      "text/plain": [
       "['a', 'b', 'c', 'd', 'e']"
      ]
     },
     "execution_count": 34,
     "metadata": {},
     "output_type": "execute_result"
    }
   ],
   "source": [
    "a_list = list('abcde')\n",
    "a_list"
   ]
  },
  {
   "cell_type": "code",
   "execution_count": 35,
   "metadata": {},
   "outputs": [
    {
     "name": "stdout",
     "output_type": "stream",
     "text": [
      "a\n",
      "b\n",
      "c\n",
      "d\n",
      "e\n"
     ]
    }
   ],
   "source": [
    "for i in range(len(a_list)):\n",
    "    print(a_list[i])"
   ]
  },
  {
   "cell_type": "code",
   "execution_count": 36,
   "metadata": {},
   "outputs": [
    {
     "name": "stdout",
     "output_type": "stream",
     "text": [
      "a\n",
      "b\n",
      "c\n",
      "d\n",
      "e\n"
     ]
    }
   ],
   "source": [
    "for char in a_list:\n",
    "    print(char)"
   ]
  },
  {
   "cell_type": "code",
   "execution_count": 37,
   "metadata": {},
   "outputs": [
    {
     "name": "stdout",
     "output_type": "stream",
     "text": [
      "0 a\n",
      "1 b\n",
      "2 c\n",
      "3 d\n",
      "4 e\n"
     ]
    }
   ],
   "source": [
    "for idx, char in enumerate(a_list):\n",
    "    print(idx, char)"
   ]
  },
  {
   "cell_type": "code",
   "execution_count": 38,
   "metadata": {},
   "outputs": [
    {
     "name": "stdout",
     "output_type": "stream",
     "text": [
      "2\n"
     ]
    }
   ],
   "source": [
    "for idx, char in enumerate(a_list):\n",
    "    if char == 'c':\n",
    "        print(idx)"
   ]
  },
  {
   "cell_type": "code",
   "execution_count": 39,
   "metadata": {},
   "outputs": [
    {
     "name": "stdout",
     "output_type": "stream",
     "text": [
      "The Zen of Python, by Tim Peters\n",
      "\n",
      "Beautiful is better than ugly.\n",
      "Explicit is better than implicit.\n",
      "Simple is better than complex.\n",
      "Complex is better than complicated.\n",
      "Flat is better than nested.\n",
      "Sparse is better than dense.\n",
      "Readability counts.\n",
      "Special cases aren't special enough to break the rules.\n",
      "Although practicality beats purity.\n",
      "Errors should never pass silently.\n",
      "Unless explicitly silenced.\n",
      "In the face of ambiguity, refuse the temptation to guess.\n",
      "There should be one-- and preferably only one --obvious way to do it.\n",
      "Although that way may not be obvious at first unless you're Dutch.\n",
      "Now is better than never.\n",
      "Although never is often better than *right* now.\n",
      "If the implementation is hard to explain, it's a bad idea.\n",
      "If the implementation is easy to explain, it may be a good idea.\n",
      "Namespaces are one honking great idea -- let's do more of those!\n"
     ]
    }
   ],
   "source": [
    "import this"
   ]
  },
  {
   "cell_type": "code",
   "execution_count": 42,
   "metadata": {},
   "outputs": [],
   "source": [
    "zen = '''The Zen of Python, by Tim Peters\n",
    "\n",
    "Beautiful is better than ugly.\n",
    "Explicit is better than implicit.\n",
    "Simple is better than complex.\n",
    "Complex is better than complicated.\n",
    "Flat is better than nested.\n",
    "Sparse is better than dense.\n",
    "Readability counts.\n",
    "Special cases aren't special enough to break the rules.\n",
    "Although practicality beats purity.\n",
    "Errors should never pass silently.\n",
    "Unless explicitly silenced.\n",
    "In the face of ambiguity, refuse the temptation to guess.\n",
    "There should be one-- and preferably only one --obvious way to do it.\n",
    "Although that way may not be obvious at first unless you're Dutch.\n",
    "Now is better than never.\n",
    "Although never is often better than *right* now.\n",
    "If the implementation is hard to explain, it's a bad idea.\n",
    "If the implementation is easy to explain, it may be a good idea.\n",
    "Namespaces are one honking great idea -- let's do more of those!\n",
    "1\n",
    "'''"
   ]
  },
  {
   "cell_type": "code",
   "execution_count": 44,
   "metadata": {},
   "outputs": [
    {
     "data": {
      "text/plain": [
       "['The',\n",
       " 'Zen',\n",
       " 'of',\n",
       " 'Python,',\n",
       " 'by',\n",
       " 'Tim',\n",
       " 'Peters',\n",
       " 'Beautiful',\n",
       " 'is',\n",
       " 'better',\n",
       " 'than',\n",
       " 'ugly.',\n",
       " 'Explicit',\n",
       " 'is',\n",
       " 'better',\n",
       " 'than',\n",
       " 'implicit.',\n",
       " 'Simple',\n",
       " 'is',\n",
       " 'better',\n",
       " 'than',\n",
       " 'complex.',\n",
       " 'Complex',\n",
       " 'is',\n",
       " 'better',\n",
       " 'than',\n",
       " 'complicated.',\n",
       " 'Flat',\n",
       " 'is',\n",
       " 'better',\n",
       " 'than',\n",
       " 'nested.',\n",
       " 'Sparse',\n",
       " 'is',\n",
       " 'better',\n",
       " 'than',\n",
       " 'dense.',\n",
       " 'Readability',\n",
       " 'counts.',\n",
       " 'Special',\n",
       " 'cases',\n",
       " \"aren't\",\n",
       " 'special',\n",
       " 'enough',\n",
       " 'to',\n",
       " 'break',\n",
       " 'the',\n",
       " 'rules.',\n",
       " 'Although',\n",
       " 'practicality',\n",
       " 'beats',\n",
       " 'purity.',\n",
       " 'Errors',\n",
       " 'should',\n",
       " 'never',\n",
       " 'pass',\n",
       " 'silently.',\n",
       " 'Unless',\n",
       " 'explicitly',\n",
       " 'silenced.',\n",
       " 'In',\n",
       " 'the',\n",
       " 'face',\n",
       " 'of',\n",
       " 'ambiguity,',\n",
       " 'refuse',\n",
       " 'the',\n",
       " 'temptation',\n",
       " 'to',\n",
       " 'guess.',\n",
       " 'There',\n",
       " 'should',\n",
       " 'be',\n",
       " 'one--',\n",
       " 'and',\n",
       " 'preferably',\n",
       " 'only',\n",
       " 'one',\n",
       " '--obvious',\n",
       " 'way',\n",
       " 'to',\n",
       " 'do',\n",
       " 'it.',\n",
       " 'Although',\n",
       " 'that',\n",
       " 'way',\n",
       " 'may',\n",
       " 'not',\n",
       " 'be',\n",
       " 'obvious',\n",
       " 'at',\n",
       " 'first',\n",
       " 'unless',\n",
       " \"you're\",\n",
       " 'Dutch.',\n",
       " 'Now',\n",
       " 'is',\n",
       " 'better',\n",
       " 'than',\n",
       " 'never.',\n",
       " 'Although',\n",
       " 'never',\n",
       " 'is',\n",
       " 'often',\n",
       " 'better',\n",
       " 'than',\n",
       " '*right*',\n",
       " 'now.',\n",
       " 'If',\n",
       " 'the',\n",
       " 'implementation',\n",
       " 'is',\n",
       " 'hard',\n",
       " 'to',\n",
       " 'explain,',\n",
       " \"it's\",\n",
       " 'a',\n",
       " 'bad',\n",
       " 'idea.',\n",
       " 'If',\n",
       " 'the',\n",
       " 'implementation',\n",
       " 'is',\n",
       " 'easy',\n",
       " 'to',\n",
       " 'explain,',\n",
       " 'it',\n",
       " 'may',\n",
       " 'be',\n",
       " 'a',\n",
       " 'good',\n",
       " 'idea.',\n",
       " 'Namespaces',\n",
       " 'are',\n",
       " 'one',\n",
       " 'honking',\n",
       " 'great',\n",
       " 'idea',\n",
       " '--',\n",
       " \"let's\",\n",
       " 'do',\n",
       " 'more',\n",
       " 'of',\n",
       " 'those!',\n",
       " '1']"
      ]
     },
     "execution_count": 44,
     "metadata": {},
     "output_type": "execute_result"
    }
   ],
   "source": [
    "words = zen.split()\n",
    "words"
   ]
  },
  {
   "cell_type": "code",
   "execution_count": 45,
   "metadata": {},
   "outputs": [],
   "source": [
    "# 목표: 각 단어 당 zen에서 나온 횟수\n",
    "# 아이디어: 단어-횟수로 딕셔너리를 만들어 보자\n",
    "# 1) 저장할 딕셔너리, 비어있는 딕셔너리 만들자\n",
    "word_dict = {}\n",
    "# 2) split되어있는 저 words의 각 원소가 몇번 나왔는지를 구하자 \n",
    "for word in words: # words=['The', 'zen', 'of', 'python', 'by', ... ]\n",
    "    # word -> 'The', 'zen', 'of', 'python', .... , 'is', ... 'is', ... \n",
    "    # word의 타입은? string \n",
    "    # 만약에 word가 word_dict에 이미 저장되어 있다 -> 값에다가 1 더해주고\n",
    "    # word_dict에 word가 없다 -> word의 키를 추가해주고 값으로 1을 넣어주자 \n",
    "    if word in word_dict.keys():\n",
    "        word_dict[word] += 1\n",
    "    else:\n",
    "        word_dict[word] = 1"
   ]
  },
  {
   "cell_type": "code",
   "execution_count": 46,
   "metadata": {
    "scrolled": true
   },
   "outputs": [
    {
     "data": {
      "text/plain": [
       "{'The': 1,\n",
       " 'Zen': 1,\n",
       " 'of': 3,\n",
       " 'Python,': 1,\n",
       " 'by': 1,\n",
       " 'Tim': 1,\n",
       " 'Peters': 1,\n",
       " 'Beautiful': 1,\n",
       " 'is': 10,\n",
       " 'better': 8,\n",
       " 'than': 8,\n",
       " 'ugly.': 1,\n",
       " 'Explicit': 1,\n",
       " 'implicit.': 1,\n",
       " 'Simple': 1,\n",
       " 'complex.': 1,\n",
       " 'Complex': 1,\n",
       " 'complicated.': 1,\n",
       " 'Flat': 1,\n",
       " 'nested.': 1,\n",
       " 'Sparse': 1,\n",
       " 'dense.': 1,\n",
       " 'Readability': 1,\n",
       " 'counts.': 1,\n",
       " 'Special': 1,\n",
       " 'cases': 1,\n",
       " \"aren't\": 1,\n",
       " 'special': 1,\n",
       " 'enough': 1,\n",
       " 'to': 5,\n",
       " 'break': 1,\n",
       " 'the': 5,\n",
       " 'rules.': 1,\n",
       " 'Although': 3,\n",
       " 'practicality': 1,\n",
       " 'beats': 1,\n",
       " 'purity.': 1,\n",
       " 'Errors': 1,\n",
       " 'should': 2,\n",
       " 'never': 2,\n",
       " 'pass': 1,\n",
       " 'silently.': 1,\n",
       " 'Unless': 1,\n",
       " 'explicitly': 1,\n",
       " 'silenced.': 1,\n",
       " 'In': 1,\n",
       " 'face': 1,\n",
       " 'ambiguity,': 1,\n",
       " 'refuse': 1,\n",
       " 'temptation': 1,\n",
       " 'guess.': 1,\n",
       " 'There': 1,\n",
       " 'be': 3,\n",
       " 'one--': 1,\n",
       " 'and': 1,\n",
       " 'preferably': 1,\n",
       " 'only': 1,\n",
       " 'one': 2,\n",
       " '--obvious': 1,\n",
       " 'way': 2,\n",
       " 'do': 2,\n",
       " 'it.': 1,\n",
       " 'that': 1,\n",
       " 'may': 2,\n",
       " 'not': 1,\n",
       " 'obvious': 1,\n",
       " 'at': 1,\n",
       " 'first': 1,\n",
       " 'unless': 1,\n",
       " \"you're\": 1,\n",
       " 'Dutch.': 1,\n",
       " 'Now': 1,\n",
       " 'never.': 1,\n",
       " 'often': 1,\n",
       " '*right*': 1,\n",
       " 'now.': 1,\n",
       " 'If': 2,\n",
       " 'implementation': 2,\n",
       " 'hard': 1,\n",
       " 'explain,': 2,\n",
       " \"it's\": 1,\n",
       " 'a': 2,\n",
       " 'bad': 1,\n",
       " 'idea.': 2,\n",
       " 'easy': 1,\n",
       " 'it': 1,\n",
       " 'good': 1,\n",
       " 'Namespaces': 1,\n",
       " 'are': 1,\n",
       " 'honking': 1,\n",
       " 'great': 1,\n",
       " 'idea': 1,\n",
       " '--': 1,\n",
       " \"let's\": 1,\n",
       " 'more': 1,\n",
       " 'those!': 1,\n",
       " '1': 1}"
      ]
     },
     "execution_count": 46,
     "metadata": {},
     "output_type": "execute_result"
    }
   ],
   "source": [
    "word_dict"
   ]
  },
  {
   "cell_type": "code",
   "execution_count": 52,
   "metadata": {
    "scrolled": true
   },
   "outputs": [
    {
     "data": {
      "text/plain": [
       "[10,\n",
       " 8,\n",
       " 8,\n",
       " 5,\n",
       " 5,\n",
       " 3,\n",
       " 3,\n",
       " 3,\n",
       " 2,\n",
       " 2,\n",
       " 2,\n",
       " 2,\n",
       " 2,\n",
       " 2,\n",
       " 2,\n",
       " 2,\n",
       " 2,\n",
       " 2,\n",
       " 2,\n",
       " 1,\n",
       " 1,\n",
       " 1,\n",
       " 1,\n",
       " 1,\n",
       " 1,\n",
       " 1,\n",
       " 1,\n",
       " 1,\n",
       " 1,\n",
       " 1,\n",
       " 1,\n",
       " 1,\n",
       " 1,\n",
       " 1,\n",
       " 1,\n",
       " 1,\n",
       " 1,\n",
       " 1,\n",
       " 1,\n",
       " 1,\n",
       " 1,\n",
       " 1,\n",
       " 1,\n",
       " 1,\n",
       " 1,\n",
       " 1,\n",
       " 1,\n",
       " 1,\n",
       " 1,\n",
       " 1,\n",
       " 1,\n",
       " 1,\n",
       " 1,\n",
       " 1,\n",
       " 1,\n",
       " 1,\n",
       " 1,\n",
       " 1,\n",
       " 1,\n",
       " 1,\n",
       " 1,\n",
       " 1,\n",
       " 1,\n",
       " 1,\n",
       " 1,\n",
       " 1,\n",
       " 1,\n",
       " 1,\n",
       " 1,\n",
       " 1,\n",
       " 1,\n",
       " 1,\n",
       " 1,\n",
       " 1,\n",
       " 1,\n",
       " 1,\n",
       " 1,\n",
       " 1,\n",
       " 1,\n",
       " 1,\n",
       " 1,\n",
       " 1,\n",
       " 1,\n",
       " 1,\n",
       " 1,\n",
       " 1,\n",
       " 1,\n",
       " 1,\n",
       " 1,\n",
       " 1,\n",
       " 1,\n",
       " 1,\n",
       " 1,\n",
       " 1,\n",
       " 1,\n",
       " 1,\n",
       " 1]"
      ]
     },
     "execution_count": 52,
     "metadata": {},
     "output_type": "execute_result"
    }
   ],
   "source": [
    "# 이렇게 하면 그냥 키가 정렬이 됩니다\n",
    "# values를 붙이면 값만 나와요\n",
    "sorted(word_dict.values(), reverse=True)"
   ]
  },
  {
   "cell_type": "code",
   "execution_count": 53,
   "metadata": {},
   "outputs": [
    {
     "data": {
      "text/plain": [
       "dict_items([('The', 1), ('Zen', 1), ('of', 3), ('Python,', 1), ('by', 1), ('Tim', 1), ('Peters', 1), ('Beautiful', 1), ('is', 10), ('better', 8), ('than', 8), ('ugly.', 1), ('Explicit', 1), ('implicit.', 1), ('Simple', 1), ('complex.', 1), ('Complex', 1), ('complicated.', 1), ('Flat', 1), ('nested.', 1), ('Sparse', 1), ('dense.', 1), ('Readability', 1), ('counts.', 1), ('Special', 1), ('cases', 1), (\"aren't\", 1), ('special', 1), ('enough', 1), ('to', 5), ('break', 1), ('the', 5), ('rules.', 1), ('Although', 3), ('practicality', 1), ('beats', 1), ('purity.', 1), ('Errors', 1), ('should', 2), ('never', 2), ('pass', 1), ('silently.', 1), ('Unless', 1), ('explicitly', 1), ('silenced.', 1), ('In', 1), ('face', 1), ('ambiguity,', 1), ('refuse', 1), ('temptation', 1), ('guess.', 1), ('There', 1), ('be', 3), ('one--', 1), ('and', 1), ('preferably', 1), ('only', 1), ('one', 2), ('--obvious', 1), ('way', 2), ('do', 2), ('it.', 1), ('that', 1), ('may', 2), ('not', 1), ('obvious', 1), ('at', 1), ('first', 1), ('unless', 1), (\"you're\", 1), ('Dutch.', 1), ('Now', 1), ('never.', 1), ('often', 1), ('*right*', 1), ('now.', 1), ('If', 2), ('implementation', 2), ('hard', 1), ('explain,', 2), (\"it's\", 1), ('a', 2), ('bad', 1), ('idea.', 2), ('easy', 1), ('it', 1), ('good', 1), ('Namespaces', 1), ('are', 1), ('honking', 1), ('great', 1), ('idea', 1), ('--', 1), (\"let's\", 1), ('more', 1), ('those!', 1), ('1', 1)])"
      ]
     },
     "execution_count": 53,
     "metadata": {},
     "output_type": "execute_result"
    }
   ],
   "source": [
    "# items하면 리스트 안에 튜플이 있는 형태로 나오게 됩니다\n",
    "word_dict.items() # dict_items([(key1, value1), (key2, value2), ...])"
   ]
  },
  {
   "cell_type": "code",
   "execution_count": 58,
   "metadata": {},
   "outputs": [],
   "source": [
    "# 리스트 말고 딕셔너리 좋아 \n",
    "sorted_dict = {k: v \n",
    "               for k, v in sorted(word_dict.items(), key=lambda x: x[1], reverse=True)}"
   ]
  },
  {
   "cell_type": "code",
   "execution_count": 61,
   "metadata": {},
   "outputs": [
    {
     "data": {
      "text/plain": [
       "{'is': 10,\n",
       " 'better': 8,\n",
       " 'than': 8,\n",
       " 'to': 5,\n",
       " 'the': 5,\n",
       " 'of': 3,\n",
       " 'Although': 3,\n",
       " 'be': 3,\n",
       " 'should': 2,\n",
       " 'never': 2,\n",
       " 'one': 2,\n",
       " 'way': 2,\n",
       " 'do': 2,\n",
       " 'may': 2,\n",
       " 'If': 2,\n",
       " 'implementation': 2,\n",
       " 'explain,': 2,\n",
       " 'a': 2,\n",
       " 'idea.': 2,\n",
       " 'The': 1,\n",
       " 'Zen': 1,\n",
       " 'Python,': 1,\n",
       " 'by': 1,\n",
       " 'Tim': 1,\n",
       " 'Peters': 1,\n",
       " 'Beautiful': 1,\n",
       " 'ugly.': 1,\n",
       " 'Explicit': 1,\n",
       " 'implicit.': 1,\n",
       " 'Simple': 1,\n",
       " 'complex.': 1,\n",
       " 'Complex': 1,\n",
       " 'complicated.': 1,\n",
       " 'Flat': 1,\n",
       " 'nested.': 1,\n",
       " 'Sparse': 1,\n",
       " 'dense.': 1,\n",
       " 'Readability': 1,\n",
       " 'counts.': 1,\n",
       " 'Special': 1,\n",
       " 'cases': 1,\n",
       " \"aren't\": 1,\n",
       " 'special': 1,\n",
       " 'enough': 1,\n",
       " 'break': 1,\n",
       " 'rules.': 1,\n",
       " 'practicality': 1,\n",
       " 'beats': 1,\n",
       " 'purity.': 1,\n",
       " 'Errors': 1,\n",
       " 'pass': 1,\n",
       " 'silently.': 1,\n",
       " 'Unless': 1,\n",
       " 'explicitly': 1,\n",
       " 'silenced.': 1,\n",
       " 'In': 1,\n",
       " 'face': 1,\n",
       " 'ambiguity,': 1,\n",
       " 'refuse': 1,\n",
       " 'temptation': 1,\n",
       " 'guess.': 1,\n",
       " 'There': 1,\n",
       " 'one--': 1,\n",
       " 'and': 1,\n",
       " 'preferably': 1,\n",
       " 'only': 1,\n",
       " '--obvious': 1,\n",
       " 'it.': 1,\n",
       " 'that': 1,\n",
       " 'not': 1,\n",
       " 'obvious': 1,\n",
       " 'at': 1,\n",
       " 'first': 1,\n",
       " 'unless': 1,\n",
       " \"you're\": 1,\n",
       " 'Dutch.': 1,\n",
       " 'Now': 1,\n",
       " 'never.': 1,\n",
       " 'often': 1,\n",
       " '*right*': 1,\n",
       " 'now.': 1,\n",
       " 'hard': 1,\n",
       " \"it's\": 1,\n",
       " 'bad': 1,\n",
       " 'easy': 1,\n",
       " 'it': 1,\n",
       " 'good': 1,\n",
       " 'Namespaces': 1,\n",
       " 'are': 1,\n",
       " 'honking': 1,\n",
       " 'great': 1,\n",
       " 'idea': 1,\n",
       " '--': 1,\n",
       " \"let's\": 1,\n",
       " 'more': 1,\n",
       " 'those!': 1,\n",
       " '1': 1}"
      ]
     },
     "execution_count": 61,
     "metadata": {},
     "output_type": "execute_result"
    }
   ],
   "source": [
    "sorted_word = sorted(word_dict.items(), key=lambda x: x[1], reverse=True) #-> list\n",
    "\n",
    "sorted_dict = {}\n",
    "for key, value in sorted_word:\n",
    "    sorted_dict[key] = value\n",
    "\n",
    "sorted_dict"
   ]
  },
  {
   "cell_type": "code",
   "execution_count": 63,
   "metadata": {},
   "outputs": [
    {
     "data": {
      "text/plain": [
       "True"
      ]
     },
     "execution_count": 63,
     "metadata": {},
     "output_type": "execute_result"
    }
   ],
   "source": [
    "test_word = 'orange'\n",
    "test_word.startswith('o')"
   ]
  },
  {
   "cell_type": "code",
   "execution_count": 65,
   "metadata": {},
   "outputs": [
    {
     "data": {
      "text/plain": [
       "'ORANGE'"
      ]
     },
     "execution_count": 65,
     "metadata": {},
     "output_type": "execute_result"
    }
   ],
   "source": [
    "test_word.upper()"
   ]
  },
  {
   "cell_type": "code",
   "execution_count": 64,
   "metadata": {},
   "outputs": [
    {
     "data": {
      "text/plain": [
       "False"
      ]
     },
     "execution_count": 64,
     "metadata": {},
     "output_type": "execute_result"
    }
   ],
   "source": [
    "test_word.startswith('z')"
   ]
  },
  {
   "cell_type": "code",
   "execution_count": 68,
   "metadata": {},
   "outputs": [
    {
     "name": "stdout",
     "output_type": "stream",
     "text": [
      "Enter any alphabet: o\n",
      "accept repetition: 9\n",
      "do not accept repetition: 6\n"
     ]
    }
   ],
   "source": [
    "# 'o'로 시작하는 단어의 갯수는?\n",
    "# 1. string method 중에서 startswith\n",
    "# 2. string의 0번째 글자가 'o'랑 같니? 로 하는 방법이 있죠 -> if\n",
    "# 3. unique한 단어를 세는거랑 그냥 o로 시작하는 단어가 몇번 나왔니 이게 좀 다른 얘기입니다 \n",
    "# 'o'로 시작하는 unique한 단어의 갯수\n",
    "# idea: 'o'로 시작한다 -> 어떤 리스트에다가 넣어놓자 -> 중복 허용: 리스트 길이, 중복 안 허용: 셋 길이\n",
    "start_character = input('Enter any alphabet: ')\n",
    "start = []\n",
    "for word in words:\n",
    "#     if word[0] == 'o':\n",
    "    if word.startswith(start_character):\n",
    "        start.append(word)\n",
    "print('accept repetition:', len(start))\n",
    "print('do not accept repetition:', len(set(start)))"
   ]
  },
  {
   "cell_type": "code",
   "execution_count": 69,
   "metadata": {},
   "outputs": [],
   "source": [
    "# account를 만들건데 \n",
    "# account의 종류는 B 아니면 C -> B와 C는 account의 상속으로\n",
    "# B의 ineterest_rate은 0.01\n",
    "# C의 interest_rate은 0.03\n",
    "# withdraw는 원하는 만큼 돈 빼내기  -> B와 C에 특정되는 함수가 아니죵? -> Account에다가 정의하겠습니다\n",
    "# deposit은 돈 넣는거  -> B와 C에 특정되는 함수가 아니죵? -> Account에다가 정의하겠습니다\n",
    "# interest: 이자 주는거 -> B와 C에 특정되는 함수가 아니죵? -> Account에다가 정의하겠습니다"
   ]
  },
  {
   "cell_type": "code",
   "execution_count": 85,
   "metadata": {},
   "outputs": [],
   "source": [
    "class Account:\n",
    "    def withdraw(self, output_money):\n",
    "        if self.balance < output_money:\n",
    "            print('ERROR: insufficient balance')\n",
    "        else:\n",
    "            self.balance -= output_money\n",
    "    \n",
    "    def deposit(self, input_money):\n",
    "        self.balance += input_money\n",
    "    \n",
    "    def interest(self):\n",
    "        self.balance = self.balance * (self.interest_rate + 1)\n",
    "    \n",
    "class B(Account):\n",
    "    def __init__(self, balance):\n",
    "        self.balance = balance\n",
    "        self.interest_rate = 0.01\n",
    "\n",
    "class C(Account):\n",
    "    def __init__(self, balance):\n",
    "        self.balance = balance\n",
    "        self.interest_rate = 0.03"
   ]
  },
  {
   "cell_type": "code",
   "execution_count": 89,
   "metadata": {},
   "outputs": [
    {
     "name": "stdout",
     "output_type": "stream",
     "text": [
      "b balance: 1000\n",
      "c balance: 100\n",
      "b interest rate: 0.01\n",
      "c interest rate: 0.03\n"
     ]
    }
   ],
   "source": [
    "b = B(1000)\n",
    "c = C(100)\n",
    "\n",
    "print('b balance:', b.balance)\n",
    "print('c balance:', c.balance)\n",
    "print('b interest rate:', b.interest_rate)\n",
    "print('c interest rate:', c.interest_rate)"
   ]
  },
  {
   "cell_type": "code",
   "execution_count": 90,
   "metadata": {},
   "outputs": [
    {
     "name": "stdout",
     "output_type": "stream",
     "text": [
      "1010.0\n",
      "103.0\n"
     ]
    }
   ],
   "source": [
    "b.interest()\n",
    "c.interest()\n",
    "print(b.balance)\n",
    "print(c.balance)"
   ]
  },
  {
   "cell_type": "code",
   "execution_count": 88,
   "metadata": {},
   "outputs": [
    {
     "data": {
      "text/plain": [
       "1010.0"
      ]
     },
     "execution_count": 88,
     "metadata": {},
     "output_type": "execute_result"
    }
   ],
   "source": [
    "b.balance"
   ]
  },
  {
   "cell_type": "code",
   "execution_count": null,
   "metadata": {},
   "outputs": [],
   "source": []
  }
 ],
 "metadata": {
  "kernelspec": {
   "display_name": "ita_kaist",
   "language": "python",
   "name": "ita_kaist"
  },
  "language_info": {
   "codemirror_mode": {
    "name": "ipython",
    "version": 3
   },
   "file_extension": ".py",
   "mimetype": "text/x-python",
   "name": "python",
   "nbconvert_exporter": "python",
   "pygments_lexer": "ipython3",
   "version": "3.6.8"
  }
 },
 "nbformat": 4,
 "nbformat_minor": 2
}
