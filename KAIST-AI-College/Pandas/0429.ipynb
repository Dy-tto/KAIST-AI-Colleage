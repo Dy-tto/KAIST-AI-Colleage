{
 "cells": [
  {
   "cell_type": "markdown",
   "metadata": {},
   "source": [
    "# 변수 만들기 \n",
    "1. 예약어(Keyword)는 변수명으로 사용하지 말자 \n",
    "    * for, while, if, else, elif, try, except, True, False, and, or, not, ... \n",
    "2. 문자, 숫자, 언더바(\\_) 사용 가능합니다 \n",
    "    * 숫자만으로 변수 만드는건 안돼죵\n",
    "    * 숫자로 시작하는 변수명도 안돼용\n",
    "    * 특수문자 안돼용\n",
    "    * 대소문자 구분\n",
    "3. 컨벤션: 사람들끼리의 약속, 좋은 가독성과 생산성을 위해! \n",
    "    * 문서를 꼭 안봐도 그냥 보면 알 수 있는 정도의 네이밍! \n",
    "    * 단어를 여러개를 조합해서 변수명을 만들 때에는 언더바 사용하기 (snake case)\n",
    "    * ex: today_is_friday\n",
    "    * 참고, camel case: todayIsFriday"
   ]
  },
  {
   "cell_type": "markdown",
   "metadata": {},
   "source": [
    "# 기본 자료형\n",
    "\n",
    "1. 리스트 (List) -> []\n",
    "    * Mutable: 수정이 가능합니다\n",
    "    * 원소 추가: append, extend, insert\n",
    "        - append: 원소를 하나만 추가하는데, 위치는 바꿀 수 없고, 무조건 맨 마지막에 원소가 추가된다\n",
    "        - extend: 원소를 여러개 추가하고 싶을 때, 위치는 바꿀 수 없고, 무조건 맨 마지막에 원소가 추가된다 \n",
    "        - insert: 원소를 하나만 추가하는데, 위치를 지정할 수 있음 \n",
    "    * 원소 삭제: remove\n",
    "    * 원소 교체: 인덱싱으로 바꾸기 \n",
    "2. 튜플 (Tuple) -> ()\n",
    "    * Immutable: 수정 불가\n",
    "    * 원소 추가, 삭제, 교체 안됩니다 \n",
    "3. 집합 (Set) -> {}\n",
    "    * 중복을 허용하지 않아용\n",
    "    * 순서 없어요\n",
    "    * 집합 연산 \n",
    "        - 합집합: union, |\n",
    "        - 교집합: intersection, &\n",
    "        - 차집합: difference, -\n",
    "        - 원소 추가: add (하나 추가), update (여러개 추가, 리스트로 주기)\n",
    "        - 원소 제거: remove  \n",
    "4. 사전 (Dictionary) -> {}\n",
    "    * 키(key), 값(value) pair로 존재합니다\n",
    "    * 키\n",
    "        - 키: immutable 해야 합니다 -> tuple, string\n",
    "        - 값: 뭐든지 상관 없다 \n",
    "        "
   ]
  },
  {
   "cell_type": "code",
   "execution_count": 1,
   "metadata": {},
   "outputs": [
    {
     "data": {
      "text/plain": [
       "['a', 'b', 'c', 'd']"
      ]
     },
     "execution_count": 1,
     "metadata": {},
     "output_type": "execute_result"
    }
   ],
   "source": [
    "a = list('abcd')\n",
    "a"
   ]
  },
  {
   "cell_type": "code",
   "execution_count": 2,
   "metadata": {},
   "outputs": [
    {
     "data": {
      "text/plain": [
       "['a', 'b', 'c', 'd', 'e']"
      ]
     },
     "execution_count": 2,
     "metadata": {},
     "output_type": "execute_result"
    }
   ],
   "source": [
    "a.append('e')\n",
    "a"
   ]
  },
  {
   "cell_type": "code",
   "execution_count": 3,
   "metadata": {},
   "outputs": [
    {
     "data": {
      "text/plain": [
       "['a', 'b', 'c', 'd', 'e', 'f', 'g', 'h', 'i']"
      ]
     },
     "execution_count": 3,
     "metadata": {},
     "output_type": "execute_result"
    }
   ],
   "source": [
    "a.extend(list('fghi'))\n",
    "a"
   ]
  },
  {
   "cell_type": "code",
   "execution_count": 4,
   "metadata": {},
   "outputs": [],
   "source": [
    "a.insert(0, 1)"
   ]
  },
  {
   "cell_type": "code",
   "execution_count": 5,
   "metadata": {},
   "outputs": [
    {
     "data": {
      "text/plain": [
       "[1, 'a', 'b', 'c', 'd', 'e', 'f', 'g', 'h', 'i']"
      ]
     },
     "execution_count": 5,
     "metadata": {},
     "output_type": "execute_result"
    }
   ],
   "source": [
    "a"
   ]
  },
  {
   "cell_type": "code",
   "execution_count": 6,
   "metadata": {},
   "outputs": [
    {
     "data": {
      "text/plain": [
       "{1, 'a', 'b', 'c', 'd', 'e', 'f', 'g', 'h', 'i'}"
      ]
     },
     "execution_count": 6,
     "metadata": {},
     "output_type": "execute_result"
    }
   ],
   "source": [
    "a_set = set(a)\n",
    "a_set"
   ]
  },
  {
   "cell_type": "code",
   "execution_count": 7,
   "metadata": {},
   "outputs": [
    {
     "ename": "TypeError",
     "evalue": "'set' object does not support indexing",
     "output_type": "error",
     "traceback": [
      "\u001b[0;31m---------------------------------------------------------------------------\u001b[0m",
      "\u001b[0;31mTypeError\u001b[0m                                 Traceback (most recent call last)",
      "\u001b[0;32m<ipython-input-7-e167115489d6>\u001b[0m in \u001b[0;36m<module>\u001b[0;34m\u001b[0m\n\u001b[0;32m----> 1\u001b[0;31m \u001b[0ma_set\u001b[0m\u001b[0;34m[\u001b[0m\u001b[0;36m0\u001b[0m\u001b[0;34m]\u001b[0m\u001b[0;34m\u001b[0m\u001b[0;34m\u001b[0m\u001b[0m\n\u001b[0m",
      "\u001b[0;31mTypeError\u001b[0m: 'set' object does not support indexing"
     ]
    }
   ],
   "source": [
    "a_set[0]"
   ]
  },
  {
   "cell_type": "code",
   "execution_count": 8,
   "metadata": {},
   "outputs": [
    {
     "name": "stdout",
     "output_type": "stream",
     "text": [
      "12345678876543567898\n"
     ]
    },
    {
     "data": {
      "text/plain": [
       "12345678876543567898"
      ]
     },
     "execution_count": 8,
     "metadata": {},
     "output_type": "execute_result"
    }
   ],
   "source": [
    "n = int(input())\n",
    "n"
   ]
  },
  {
   "cell_type": "code",
   "execution_count": 9,
   "metadata": {},
   "outputs": [],
   "source": [
    "n = str(n)"
   ]
  },
  {
   "cell_type": "code",
   "execution_count": 10,
   "metadata": {},
   "outputs": [
    {
     "data": {
      "text/plain": [
       "'12345678876543567898'"
      ]
     },
     "execution_count": 10,
     "metadata": {},
     "output_type": "execute_result"
    }
   ],
   "source": [
    "n"
   ]
  },
  {
   "cell_type": "code",
   "execution_count": 12,
   "metadata": {},
   "outputs": [
    {
     "data": {
      "text/plain": [
       "{'1', '2', '3', '4', '5', '6', '7', '8', '9'}"
      ]
     },
     "execution_count": 12,
     "metadata": {},
     "output_type": "execute_result"
    }
   ],
   "source": [
    "set(n)"
   ]
  },
  {
   "cell_type": "markdown",
   "metadata": {},
   "source": [
    "# 함수\n",
    "\n",
    "1. 이유 \n",
    "    - **코드의 재사용**을 위해: 반복되는 코드의 양을 줄일 수 있다\n",
    "    - (수줍) encapsulation, 사용자가 세부 구현 내용을 알 필요가 없을 때 \n",
    "    \n",
    "2. 함수를 작성할 때\n",
    "    - **함수는 하나의 일**만 해야 합니다\n",
    "    - docstring으로 이 함수의 목적, 파라미터, 리턴값을 명시하면 좋다 \n",
    "    - 명시할 때, 파라미터의 타입/의미, 리턴의 타입/의미\n",
    "    \n",
    "3. python에서는\n",
    "    - 함수 시작 예약어: def \n",
    "    - 문법\n",
    "        ```python\n",
    "        def 함수명(param1, param2, .... , \n",
    "               param_default1=None,\n",
    "               param_default2=1,\n",
    "               param_default3='a',\n",
    "               param_default4=True):\n",
    "        ```\n",
    "    - default값을 가지고 있는 parameter는 함수를 선언할 때 default값이 없는 파라미터보다 **뒤에** 있어야 합니다\n",
    "    - default값을 가지고 있는 parameter는 함수를 부를 때 파라미터 이름을 명시해줘야 합니다 \n",
    "    - 이름이 있는 parameter는 순서 상관 없고, 이름이 없는 parameter는 순서가 매우 중요\n",
    "    - return이 무조건 있습니다\n",
    "        - return이 있으면 그걸로 return\n",
    "        - return이 명시가 안되어 있으면, 파이썬 내부에서 return None을 자동으로 붙임!"
   ]
  },
  {
   "cell_type": "markdown",
   "metadata": {},
   "source": [
    "## for vs while \n",
    "* for문\n",
    "    - 언제 편할까?: 내가 반복하고 싶은 **시퀀스**가 확실하게 주어질때 \n",
    "    - 문법\n",
    "    ```python\n",
    "    for i in range(10):\n",
    "        print(i)\n",
    "    ```\n",
    "    - 위의 예제에서 i를 초기화 해야 할까요? -> 할 필요 없습니다\n",
    "    ```python\n",
    "    i = 0 # 요거 안써도 돌아가요\n",
    "    for i in range(10):\n",
    "        print(i)\n",
    "    ```\n",
    "    - 반복하고 싶은게 리스트다 -> 리스트 선언 먼저!\n",
    "    ```python\n",
    "    a_list = ['a', 'b', 'c']\n",
    "    for elem in a_list:\n",
    "        print(elem)\n",
    "    ```\n",
    "* while문\n",
    "    - 언제 편할까?: 내가 반복하고 싶은 **조건**이 확실하게 있을 때 \n",
    "    - 문법\n",
    "    ```python\n",
    "    while True:\n",
    "        print('hello')\n",
    "    ```\n",
    "    - 위의 예제를 뭐라고 할까요? -> 무한루프 \n",
    "        - 조건을 True로 줄거면 break 를 꼭 써줘야 합니다\n",
    "    - 조건이 연산이 되어야 합니다  -> 조건에 들어가는 변수는 초기화가 필요합니다\n",
    "    ```python\n",
    "    n = 10 # 요거 없으면 안돼요\n",
    "    while n <= 10:\n",
    "        print(n)\n",
    "        n = n - 1\n",
    "    ```\n",
    "* for문으로 할 수 있다 == while문으로 할 수 있다 \n",
    "    - 취사선택해서 사용"
   ]
  },
  {
   "cell_type": "code",
   "execution_count": 22,
   "metadata": {},
   "outputs": [
    {
     "name": "stdout",
     "output_type": "stream",
     "text": [
      "here you are\n",
      "here you are\n",
      "here you are\n",
      "here you are\n",
      "here you are\n",
      "here you are\n",
      "here you are\n",
      "here you are\n",
      "here you are\n",
      "here you are\n",
      "흐아앙\n"
     ]
    }
   ],
   "source": [
    "# 숫자 0, 빈 스트링('')은 False 처리가 됩니다\n",
    "dr_pepper = 10\n",
    "money = True\n",
    "# 닥터페퍼가 있으면 here you are, 없으면 흐아앙 을 출력해 보겠습니다 \n",
    "while True:\n",
    "    print('here you are')\n",
    "    dr_pepper = dr_pepper - 1\n",
    "    \n",
    "    if dr_pepper == 0:\n",
    "        print('흐아앙')\n",
    "        break"
   ]
  },
  {
   "cell_type": "code",
   "execution_count": 24,
   "metadata": {},
   "outputs": [
    {
     "name": "stdout",
     "output_type": "stream",
     "text": [
      "here you are\n",
      "here you are\n",
      "here you are\n",
      "here you are\n",
      "here you are\n",
      "here you are\n",
      "here you are\n",
      "here you are\n",
      "here you are\n",
      "here you are\n",
      "흐아앙\n"
     ]
    }
   ],
   "source": [
    "dr_pepper = 10\n",
    "for i in range(dr_pepper):\n",
    "    print('here you are')\n",
    "print('흐아앙')"
   ]
  },
  {
   "cell_type": "markdown",
   "metadata": {},
   "source": [
    "## 막간 실습 문제\n",
    "* 돈을 인풋으로 받고, 그 돈 만큼 닥터페퍼를 주고, 거스름돈과 닥터페퍼를 리턴합니다 \n",
    "    - 닥터페퍼는 1000원입니다 \n",
    "    - 돈이 들어와요 -> 8700원을 사용자가 냈습니다 \n",
    "    - 닥터페퍼 몇개 줘야 할까용 -> 8개\n",
    "    - 거스름돈 얼마? -> 700원 \n",
    "    - 닥터페퍼 함수(8700) -> 8, 700\n",
    "    - 함수 이름: get_dr_pepper\n",
    "\n",
    "\n",
    "* 위에 문제가 너무 쉬우시면 \n",
    " 1. 만약 우리의 고객님이 8700원 주시면서 닥터페퍼 5개 주세요 하는 약간의 백치미가 있으시다면?\n",
    "    - 함수 파라미터는 그대로 돈으로 유지하면서 이걸 해결해 보시죵\n",
    " 2. 만약 우리의 고객님이 800원 밖에 없으시면?"
   ]
  },
  {
   "cell_type": "code",
   "execution_count": 1,
   "metadata": {},
   "outputs": [],
   "source": [
    "def get_dr_pepper(money):\n",
    "    dr_pepper = 1000\n",
    "    if money < dr_pepper:\n",
    "        print('Show me the money')\n",
    "        # 우리의 고객님이 전재산을 주셨다고 가정할게요 \n",
    "        # 그래서 돈을 더 만들어 낼 수 없다고 가정하겠습니다 -> 함수 끝낼게용\n",
    "        return \n",
    "    else:\n",
    "        num_dr_pepper = money // dr_pepper\n",
    "        print('Number of dr.Pepper is:', num_dr_pepper)\n",
    "        # 우리의 고객님은 아주 약간의 백치미만 있으셔서\n",
    "        # num_dr_pepper보다 wanted가 클 일은 없다고 가정하겠습니다\n",
    "        wanted = int(input('How many do you need?: '))\n",
    "        change = money - wanted*1000\n",
    "        return wanted, change"
   ]
  },
  {
   "cell_type": "code",
   "execution_count": 28,
   "metadata": {},
   "outputs": [
    {
     "name": "stdout",
     "output_type": "stream",
     "text": [
      "Number of dr.Pepper is: 8\n",
      "How many do you need?: 3\n"
     ]
    },
    {
     "data": {
      "text/plain": [
       "(3, 5700)"
      ]
     },
     "execution_count": 28,
     "metadata": {},
     "output_type": "execute_result"
    }
   ],
   "source": [
    "output = get_dr_pepper(8700)\n",
    "output # 함수의 return값이 여러개가 주어지면 무조건 튜플로 처리됩니다"
   ]
  },
  {
   "cell_type": "code",
   "execution_count": 29,
   "metadata": {},
   "outputs": [
    {
     "data": {
      "text/plain": [
       "tuple"
      ]
     },
     "execution_count": 29,
     "metadata": {},
     "output_type": "execute_result"
    }
   ],
   "source": [
    "type(output)"
   ]
  },
  {
   "cell_type": "code",
   "execution_count": 30,
   "metadata": {},
   "outputs": [
    {
     "name": "stdout",
     "output_type": "stream",
     "text": [
      "Number of dr.Pepper is: 10\n",
      "How many do you need?: 8\n"
     ]
    }
   ],
   "source": [
    "# 함수 리턴이 여러개여서 튜플 처리 된다고 해도 \n",
    "# 튜플 갯수만큼 변수를 만들어 주면 튜플에 있는 원소들을 직접 할당받을 수 있습니다\n",
    "num_dr_pepper, change = get_dr_pepper(10200)"
   ]
  },
  {
   "cell_type": "code",
   "execution_count": 31,
   "metadata": {},
   "outputs": [
    {
     "data": {
      "text/plain": [
       "8"
      ]
     },
     "execution_count": 31,
     "metadata": {},
     "output_type": "execute_result"
    }
   ],
   "source": [
    "num_dr_pepper"
   ]
  },
  {
   "cell_type": "code",
   "execution_count": 32,
   "metadata": {},
   "outputs": [
    {
     "data": {
      "text/plain": [
       "2200"
      ]
     },
     "execution_count": 32,
     "metadata": {},
     "output_type": "execute_result"
    }
   ],
   "source": [
    "change"
   ]
  },
  {
   "cell_type": "code",
   "execution_count": 27,
   "metadata": {},
   "outputs": [
    {
     "name": "stdout",
     "output_type": "stream",
     "text": [
      "Show me the money\n"
     ]
    }
   ],
   "source": [
    "get_dr_pepper(500)"
   ]
  }
 ],
 "metadata": {
  "kernelspec": {
   "display_name": "Python 3",
   "language": "python",
   "name": "python3"
  },
  "language_info": {
   "codemirror_mode": {
    "name": "ipython",
    "version": 3
   },
   "file_extension": ".py",
   "mimetype": "text/x-python",
   "name": "python",
   "nbconvert_exporter": "python",
   "pygments_lexer": "ipython3",
   "version": "3.6.6"
  }
 },
 "nbformat": 4,
 "nbformat_minor": 2
}
