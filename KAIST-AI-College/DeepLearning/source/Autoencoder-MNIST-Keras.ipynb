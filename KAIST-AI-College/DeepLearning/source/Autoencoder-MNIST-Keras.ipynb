{
 "cells": [
  {
   "cell_type": "code",
   "execution_count": null,
   "id": "ce3a380e",
   "metadata": {},
   "outputs": [],
   "source": [
    "import numpy as np\n",
    "from tensorflow.keras.datasets import mnist\n",
    "from tensorflow.keras.layers import Input,Dense,Flatten,Reshape,Conv2D,Conv2DTranspose\n",
    "from tensorflow.keras.models import Model\n",
    "from tensorflow.keras import backend as K"
   ]
  },
  {
   "cell_type": "code",
   "execution_count": null,
   "id": "5d5fe261",
   "metadata": {},
   "outputs": [],
   "source": [
    "# MNIST 데이터를 읽고 신경망에 입력할 준비\n",
    "(x_train,y_train),(x_test,y_test)=mnist.load_data()\n",
    "x_train=x_train.astype('float32')/255.\n",
    "x_test=x_test.astype('float32')/255.\n",
    "x_train=np.reshape(x_train,(len(x_train),28,28,1))\n",
    "x_test=np.reshape(x_test,(len(x_test),28,28,1))"
   ]
  },
  {
   "cell_type": "code",
   "execution_count": null,
   "id": "7852a59b",
   "metadata": {},
   "outputs": [],
   "source": [
    "zdim=32 # 잠복 공간의 차원"
   ]
  },
  {
   "cell_type": "code",
   "execution_count": null,
   "id": "9a9d1996",
   "metadata": {},
   "outputs": [],
   "source": [
    "# 오토인코더의 인코더 부분 설계\n",
    "# Sequential 방식이 아닌 Functional API 방식을 사용하였음.\n",
    "encoder_input=Input(shape=(28,28,1))\n",
    "x=Conv2D(32,(3,3),activation='relu',padding='same',strides=(1,1))(encoder_input)\n",
    "x=Conv2D(64,(3,3),activation='relu',padding='same',strides=(2,2))(x)\n",
    "x=Conv2D(64,(3,3),activation='relu',padding='same',strides=(2,2))(x)\n",
    "x=Conv2D(64,(3,3),activation='relu',padding='same',strides=(1,1))(x)\n",
    "x=Flatten()(x)\n",
    "encoder_output=Dense(zdim)(x)\n",
    "model_encoder=Model(encoder_input,encoder_output)\n",
    "model_encoder.summary()"
   ]
  },
  {
   "cell_type": "code",
   "execution_count": null,
   "id": "d95f0a7e",
   "metadata": {},
   "outputs": [],
   "source": [
    "# 오토인코더의 디코더 부분 설계\n",
    "decoder_input=Input(shape=(zdim,))\n",
    "x=Dense(3136)(decoder_input)\n",
    "# 컨볼루션층에 입력할 수 있도록 7*7*64 텐서로 변환\n",
    "x=Reshape((7,7,64))(x)\n",
    "x=Conv2DTranspose(64,(3,3),activation='relu',padding='same',strides=(1,1))(x)\n",
    "x=Conv2DTranspose(64,(3,3),activation='relu',padding='same',strides=(2,2))(x)\n",
    "x=Conv2DTranspose(32,(3,3),activation='relu',padding='same',strides=(2,2))(x)\n",
    "x=Conv2DTranspose(1,(3,3),activation='relu',padding='same',strides=(1,1))(x)\n",
    "decoder_output=x\n",
    "model_decoder=Model(decoder_input,decoder_output)\n",
    "model_decoder.summary()"
   ]
  },
  {
   "cell_type": "code",
   "execution_count": null,
   "id": "059ff772",
   "metadata": {},
   "outputs": [],
   "source": [
    "# 인코더와 디코더를 결합하여 오토인코더 모델 구축\n",
    "model_input=encoder_input\n",
    "model_output=model_decoder(encoder_output)\n",
    "model=Model(model_input,model_output)"
   ]
  },
  {
   "cell_type": "code",
   "execution_count": null,
   "id": "e3a921a8",
   "metadata": {},
   "outputs": [],
   "source": [
    "# 오토인코더 학습\n",
    "model.compile(optimizer='Adam',loss='mse')\n",
    "# 중요! : 첫번째와 두번째 매개변수가 모두 x_train 으로 동일함. 오토인코더의 원리에 따라 입력과 출력이 모두 x_train 으로 동일함.\n",
    "model.fit(x_train,x_train,epochs=5,batch_size=128,shuffle=True,validation_data=(x_test,x_test))"
   ]
  },
  {
   "cell_type": "code",
   "execution_count": null,
   "id": "8743c723",
   "metadata": {},
   "outputs": [],
   "source": [
    "# 복원 실험 1: x_test를 복원하는 예측 실험\n",
    "decoded_img=model.predict(x_test)"
   ]
  },
  {
   "cell_type": "code",
   "execution_count": null,
   "id": "4e63d6d8",
   "metadata": {},
   "outputs": [],
   "source": [
    "import matplotlib.pyplot as plt"
   ]
  },
  {
   "cell_type": "code",
   "execution_count": null,
   "id": "cb0e151c",
   "metadata": {},
   "outputs": [],
   "source": [
    "# 10개 패턴의 예측결과를 출력\n",
    "n=10\n",
    "plt.figure(figsize=(20, 4))\n",
    "for i in range(n):\n",
    "    plt.subplot(2, n, i+1)\n",
    "    plt.imshow(x_test[i].reshape(28, 28),cmap='gray')\n",
    "    plt.xticks([]); plt.yticks([])\n",
    "    plt.subplot(2, n, i + n+1)\n",
    "    plt.imshow(decoded_img[i].reshape(28, 28),cmap='gray')\n",
    "    plt.xticks([]); plt.yticks([])\n",
    "plt.show()"
   ]
  }
 ],
 "metadata": {
  "kernelspec": {
   "display_name": "Python 3 (ipykernel)",
   "language": "python",
   "name": "python3"
  },
  "language_info": {
   "codemirror_mode": {
    "name": "ipython",
    "version": 3
   },
   "file_extension": ".py",
   "mimetype": "text/x-python",
   "name": "python",
   "nbconvert_exporter": "python",
   "pygments_lexer": "ipython3",
   "version": "3.9.12"
  }
 },
 "nbformat": 4,
 "nbformat_minor": 5
}
