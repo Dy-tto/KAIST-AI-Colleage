{
 "cells": [
  {
   "cell_type": "markdown",
   "metadata": {
    "colab_type": "text",
    "id": "8MOaJiRUWmwH"
   },
   "source": [
    "# 8장. 이미지를 분류합니다"
   ]
  },
  {
   "cell_type": "markdown",
   "metadata": {
    "colab_type": "text",
    "id": "-b-e5AUUWmwS"
   },
   "source": [
    "## 08-1 합성곱을 알아 봅니다."
   ]
  },
  {
   "cell_type": "code",
   "execution_count": 1,
   "metadata": {
    "cellView": "form",
    "colab": {},
    "colab_type": "code",
    "id": "krygxFZrWmwT"
   },
   "outputs": [],
   "source": [
    "#@title\n",
    "import numpy as np"
   ]
  },
  {
   "cell_type": "code",
   "execution_count": 2,
   "metadata": {
    "cellView": "form",
    "colab": {},
    "colab_type": "code",
    "id": "IntgP3c8WmwX"
   },
   "outputs": [],
   "source": [
    "#@title\n",
    "## 배열 x, y 정의\n",
    "w = np.array([2, 1, 5, 3])\n",
    "x = np.array([2, 8, 3, 7, 1, 2, 0, 4, 5])"
   ]
  },
  {
   "cell_type": "code",
   "execution_count": 3,
   "metadata": {
    "cellView": "form",
    "colab": {},
    "colab_type": "code",
    "id": "unrmiFGkWmwb"
   },
   "outputs": [
    {
     "name": "stdout",
     "output_type": "stream",
     "text": [
      "[3 5 1 2]\n"
     ]
    }
   ],
   "source": [
    "#@title\n",
    "## flip : 배열을 뒤집는다.\n",
    "w_r = np.flip(w)\n",
    "print(w_r)"
   ]
  },
  {
   "cell_type": "code",
   "execution_count": 4,
   "metadata": {
    "cellView": "form",
    "colab": {},
    "colab_type": "code",
    "id": "qnZfwSD3Wmwj"
   },
   "outputs": [
    {
     "name": "stdout",
     "output_type": "stream",
     "text": [
      "63\n",
      "48\n",
      "49\n",
      "28\n",
      "21\n",
      "20\n"
     ]
    }
   ],
   "source": [
    "#@title\n",
    "## 배열을 한칸씩 이동하면서 넘파이의 점곱을 이용하여 합성곱을 수행함.\n",
    "for i in range(6):\n",
    "    print(np.dot(x[i:i+4], w_r))"
   ]
  },
  {
   "cell_type": "markdown",
   "metadata": {
    "colab_type": "text",
    "id": "Fjc6CR3nWmyd"
   },
   "source": [
    "## 08-4 케라스로 합성곱 신경망 모델을 만듭니다."
   ]
  },
  {
   "cell_type": "code",
   "execution_count": 5,
   "metadata": {
    "cellView": "form",
    "colab": {},
    "colab_type": "code",
    "id": "_gs7uzqllacS"
   },
   "outputs": [],
   "source": [
    "#@title\n",
    "import tensorflow as tf"
   ]
  },
  {
   "cell_type": "code",
   "execution_count": 6,
   "metadata": {
    "cellView": "form",
    "colab": {},
    "colab_type": "code",
    "id": "gQeaq-m6o4m5"
   },
   "outputs": [],
   "source": [
    "#@title\n",
    "## 패션 데이터 로드\n",
    "(x_train_all, y_train_all), (x_test, y_test) = tf.keras.datasets.fashion_mnist.load_data()"
   ]
  },
  {
   "cell_type": "code",
   "execution_count": 9,
   "metadata": {
    "cellView": "form",
    "colab": {},
    "colab_type": "code",
    "id": "FiAZWy2Eo4m7"
   },
   "outputs": [],
   "source": [
    "#@title\n",
    "## 훈련데이터세트를 훈련세트와 검증세트로 나눔\n",
    "from sklearn.model_selection import train_test_split\n",
    "x_train, x_val, y_train, y_val = train_test_split(x_train_all, y_train_all, stratify=y_train_all, \n",
    "                                                  test_size=0.2, random_state=42)"
   ]
  },
  {
   "cell_type": "code",
   "execution_count": 10,
   "metadata": {
    "cellView": "form",
    "colab": {},
    "colab_type": "code",
    "id": "mYuav654o4m-"
   },
   "outputs": [],
   "source": [
    "#@title\n",
    "## 타겟을 원핫인코딩으로 변환함\n",
    "y_train_encoded = tf.keras.utils.to_categorical(y_train)\n",
    "y_val_encoded = tf.keras.utils.to_categorical(y_val)"
   ]
  },
  {
   "cell_type": "code",
   "execution_count": 11,
   "metadata": {
    "cellView": "form",
    "colab": {},
    "colab_type": "code",
    "id": "gDV1ccXeo4nB"
   },
   "outputs": [],
   "source": [
    "#@title\n",
    "## 합성곱 신경망은 입력데이터(이미지)를 일렬로 펼칠 필요가 없음. 그래서 높이와 너비를 그대로 유지한 채 신경망에 주입함.\n",
    "## 대신 마지막에 컬러채널을 추가해야 함. 단, 여기서는 흑백이미지이므로 명암을 나타내는 1차원만 있음.\n",
    "x_train = x_train.reshape(-1, 28, 28, 1)\n",
    "x_val = x_val.reshape(-1, 28, 28, 1)"
   ]
  },
  {
   "cell_type": "code",
   "execution_count": 12,
   "metadata": {
    "cellView": "form",
    "colab": {},
    "colab_type": "code",
    "id": "ub3uzShVo4nD"
   },
   "outputs": [
    {
     "data": {
      "text/plain": [
       "(48000, 28, 28, 1)"
      ]
     },
     "execution_count": 12,
     "metadata": {},
     "output_type": "execute_result"
    }
   ],
   "source": [
    "#@title\n",
    "x_train.shape"
   ]
  },
  {
   "cell_type": "code",
   "execution_count": 13,
   "metadata": {
    "cellView": "form",
    "colab": {},
    "colab_type": "code",
    "id": "2d0ua01to4nG"
   },
   "outputs": [],
   "source": [
    "#@title\n",
    "## 데이터 전처리 : 0~255 ==> 0~1\n",
    "x_train = x_train / 255\n",
    "x_val = x_val / 255"
   ]
  },
  {
   "cell_type": "code",
   "execution_count": 14,
   "metadata": {
    "cellView": "form",
    "colab": {},
    "colab_type": "code",
    "id": "MxpKAoPlWmye"
   },
   "outputs": [],
   "source": [
    "#@title\n",
    "from tensorflow.keras.layers import Conv2D, MaxPooling2D, Flatten, Dense"
   ]
  },
  {
   "cell_type": "code",
   "execution_count": 15,
   "metadata": {
    "cellView": "form",
    "colab": {},
    "colab_type": "code",
    "id": "rvZ5ZsVlWmyg"
   },
   "outputs": [],
   "source": [
    "#@title\n",
    "conv1 = tf.keras.Sequential()\n",
    "## Conv2D : 첫번째 매개변수는 합성곱 커널의 개수, 두번째 매개변수는 합성곱 커널의 높이와 너비\n",
    "conv1.add(Conv2D(10, (3, 3), activation='relu', padding='same', input_shape=(28, 28, 1)))\n",
    "conv1.add(MaxPooling2D((2, 2)))\n",
    "## 완전연결층에 연결하기 위해 일렬로 펼침\n",
    "conv1.add(Flatten())\n",
    "## 은닉층 뉴런 100개\n",
    "conv1.add(Dense(100, activation='relu'))\n",
    "## 출력층 뉴런 10개\n",
    "conv1.add(Dense(10, activation='softmax'))"
   ]
  },
  {
   "cell_type": "code",
   "execution_count": 16,
   "metadata": {
    "cellView": "form",
    "colab": {},
    "colab_type": "code",
    "id": "wnAZQqE6Wmyi",
    "scrolled": true
   },
   "outputs": [
    {
     "name": "stdout",
     "output_type": "stream",
     "text": [
      "Model: \"sequential\"\n",
      "_________________________________________________________________\n",
      " Layer (type)                Output Shape              Param #   \n",
      "=================================================================\n",
      " conv2d (Conv2D)             (None, 28, 28, 10)        100       \n",
      "                                                                 \n",
      " max_pooling2d (MaxPooling2D  (None, 14, 14, 10)       0         \n",
      " )                                                               \n",
      "                                                                 \n",
      " flatten (Flatten)           (None, 1960)              0         \n",
      "                                                                 \n",
      " dense (Dense)               (None, 100)               196100    \n",
      "                                                                 \n",
      " dense_1 (Dense)             (None, 10)                1010      \n",
      "                                                                 \n",
      "=================================================================\n",
      "Total params: 197,210\n",
      "Trainable params: 197,210\n",
      "Non-trainable params: 0\n",
      "_________________________________________________________________\n"
     ]
    }
   ],
   "source": [
    "#@title\n",
    "## Conv2d : (28 높이, 28 너비, 10 커널수) /  모델파라미터(가중치, 절편) 100=3(합성곱필터높이)*3(합성곱필터너비)*10(커널수)+10(커널당절편1개)\n",
    "## max_poolin2d : 2*2 풀링을 적용하여, 이미지의 높이와 너비가 절반으로 감소하고 커널수는 유지되므로, 14(높이)*14(너비)*10(커널수), (max pooling층은 모델파라미터(가중치) 없음)\n",
    "## flatten 1960개=14*14*10 가 이후 100개의 뉴런에 연결됨. (Flatten층 모델파라미터(가중치) 없음)\n",
    "## dense (Dense) 첫번째 완전연결층의 가중치 개수 = 196,100 개 = 1,960(Flatten출력개수)*100(은닉층뉴런개수)+100(은닉층절편수)\n",
    "## dense_1(Dense) 두번째 완전연결층의 가중치 개수 = 1,010개 = 100(은닉층 뉴런개수)*10(출력층뉴런개수)+10(출력층절편수)\n",
    "## 결론적으로 가중치의 개수를 보면 완전연결층에 비해 합성곱층의 가중치 개수가 아주 적다.\n",
    "conv1.summary()"
   ]
  },
  {
   "cell_type": "code",
   "execution_count": 17,
   "metadata": {
    "cellView": "form",
    "colab": {},
    "colab_type": "code",
    "id": "H3P5cz_CWmyl"
   },
   "outputs": [],
   "source": [
    "#@title\n",
    "## 다중분류용 손실함수인 크로스 엔트로피를 사용\n",
    "## 아담 옵티마이저 : 손실함수의 값이 최적값에 가까워질수록 학습률을 낮춰 손실함수 값이 안정적으로 수렴될 수 있게 함.\n",
    "conv1.compile(optimizer='adam', loss='categorical_crossentropy',\n",
    "              metrics=['accuracy'])"
   ]
  },
  {
   "cell_type": "code",
   "execution_count": 18,
   "metadata": {
    "cellView": "form",
    "colab": {},
    "colab_type": "code",
    "id": "k8jLGSJ9Wmyr"
   },
   "outputs": [
    {
     "name": "stdout",
     "output_type": "stream",
     "text": [
      "Epoch 1/20\n",
      "1500/1500 [==============================] - 9s 5ms/step - loss: 0.4772 - accuracy: 0.8329 - val_loss: 0.3474 - val_accuracy: 0.8808\n",
      "Epoch 2/20\n",
      "1500/1500 [==============================] - 8s 5ms/step - loss: 0.3339 - accuracy: 0.8815 - val_loss: 0.3101 - val_accuracy: 0.8904\n",
      "Epoch 3/20\n",
      "1500/1500 [==============================] - 8s 5ms/step - loss: 0.2858 - accuracy: 0.8966 - val_loss: 0.2849 - val_accuracy: 0.8988\n",
      "Epoch 4/20\n",
      "1500/1500 [==============================] - 8s 5ms/step - loss: 0.2522 - accuracy: 0.9078 - val_loss: 0.2660 - val_accuracy: 0.9049\n",
      "Epoch 5/20\n",
      "1500/1500 [==============================] - 8s 5ms/step - loss: 0.2244 - accuracy: 0.9173 - val_loss: 0.2816 - val_accuracy: 0.9019\n",
      "Epoch 6/20\n",
      "1500/1500 [==============================] - 8s 5ms/step - loss: 0.1998 - accuracy: 0.9268 - val_loss: 0.2650 - val_accuracy: 0.9082\n",
      "Epoch 7/20\n",
      "1500/1500 [==============================] - 8s 6ms/step - loss: 0.1818 - accuracy: 0.9339 - val_loss: 0.2637 - val_accuracy: 0.9119\n",
      "Epoch 8/20\n",
      "1500/1500 [==============================] - 8s 6ms/step - loss: 0.1634 - accuracy: 0.9402 - val_loss: 0.2680 - val_accuracy: 0.9090\n",
      "Epoch 9/20\n",
      "1500/1500 [==============================] - 8s 5ms/step - loss: 0.1481 - accuracy: 0.9456 - val_loss: 0.2611 - val_accuracy: 0.9168\n",
      "Epoch 10/20\n",
      "1500/1500 [==============================] - 8s 5ms/step - loss: 0.1322 - accuracy: 0.9515 - val_loss: 0.2657 - val_accuracy: 0.9138\n",
      "Epoch 11/20\n",
      "1500/1500 [==============================] - 9s 6ms/step - loss: 0.1221 - accuracy: 0.9549 - val_loss: 0.2655 - val_accuracy: 0.9152\n",
      "Epoch 12/20\n",
      "1500/1500 [==============================] - 9s 6ms/step - loss: 0.1057 - accuracy: 0.9612 - val_loss: 0.2840 - val_accuracy: 0.9171\n",
      "Epoch 13/20\n",
      "1500/1500 [==============================] - 10s 6ms/step - loss: 0.0968 - accuracy: 0.9649 - val_loss: 0.2939 - val_accuracy: 0.9122\n",
      "Epoch 14/20\n",
      "1500/1500 [==============================] - 9s 6ms/step - loss: 0.0864 - accuracy: 0.9690 - val_loss: 0.3006 - val_accuracy: 0.9150\n",
      "Epoch 15/20\n",
      "1500/1500 [==============================] - 9s 6ms/step - loss: 0.0771 - accuracy: 0.9721 - val_loss: 0.3271 - val_accuracy: 0.9141\n",
      "Epoch 16/20\n",
      "1500/1500 [==============================] - 9s 6ms/step - loss: 0.0696 - accuracy: 0.9751 - val_loss: 0.3203 - val_accuracy: 0.9163\n",
      "Epoch 17/20\n",
      "1500/1500 [==============================] - 9s 6ms/step - loss: 0.0616 - accuracy: 0.9787 - val_loss: 0.3302 - val_accuracy: 0.9159\n",
      "Epoch 18/20\n",
      "1500/1500 [==============================] - 8s 6ms/step - loss: 0.0558 - accuracy: 0.9800 - val_loss: 0.3526 - val_accuracy: 0.9181\n",
      "Epoch 19/20\n",
      "1500/1500 [==============================] - 8s 6ms/step - loss: 0.0518 - accuracy: 0.9818 - val_loss: 0.3780 - val_accuracy: 0.9119\n",
      "Epoch 20/20\n",
      "1500/1500 [==============================] - 9s 6ms/step - loss: 0.0453 - accuracy: 0.9836 - val_loss: 0.3808 - val_accuracy: 0.9158\n"
     ]
    }
   ],
   "source": [
    "#@title\n",
    "## 최종 20 epoch 수행 후 결과를 보면, \"loss: 0.0361 - acc: 0.9878 - val_loss: 0.4157 - val_acc: 0.9143\" ==> 과적합(Overfitting)임.\n",
    "history = conv1.fit(x_train, y_train_encoded, epochs=20, \n",
    "                    validation_data=(x_val, y_val_encoded))"
   ]
  },
  {
   "cell_type": "code",
   "execution_count": 19,
   "metadata": {
    "cellView": "form",
    "colab": {},
    "colab_type": "code",
    "id": "8usL_q5usgOi"
   },
   "outputs": [],
   "source": [
    "#@title\n",
    "import matplotlib.pyplot as plt"
   ]
  },
  {
   "cell_type": "code",
   "execution_count": 20,
   "metadata": {
    "cellView": "form",
    "colab": {},
    "colab_type": "code",
    "id": "sD-bZ6OYWmy1"
   },
   "outputs": [
    {
     "data": {
      "image/png": "[encoded data removed]",
      "text/plain": [
       "<Figure size 432x288 with 1 Axes>"
      ]
     },
     "metadata": {
      "needs_background": "light"
     },
     "output_type": "display_data"
    }
   ],
   "source": [
    "#@title\n",
    "## 불과 몇번의 에포크만에 검증손실이 크게 증가 ==> 과적합(Overfitting) 조기에 발생\n",
    "plt.plot(history.history['loss'])\n",
    "plt.plot(history.history['val_loss'])\n",
    "plt.ylabel('loss')\n",
    "plt.xlabel('epoch')\n",
    "plt.legend(['train_loss', 'val_loss'])\n",
    "plt.show()"
   ]
  },
  {
   "cell_type": "code",
   "execution_count": 21,
   "metadata": {
    "cellView": "form",
    "colab": {},
    "colab_type": "code",
    "id": "spFzTY6OWmy4"
   },
   "outputs": [
    {
     "data": {
      "image/png": "[encoded data removed]",
      "text/plain": [
       "<Figure size 432x288 with 1 Axes>"
      ]
     },
     "metadata": {
      "needs_background": "light"
     },
     "output_type": "display_data"
    }
   ],
   "source": [
    "#@title\n",
    "## 검증데이터에 대한 정확도는 정체 ==> 과적합이 조기에 발생하였음\n",
    "plt.plot(history.history['accuracy'])\n",
    "plt.plot(history.history['val_accuracy'])\n",
    "plt.ylabel('Accuracy')\n",
    "plt.xlabel('epoch')\n",
    "plt.legend(['train_accuracy', 'val_accuracy'])\n",
    "plt.show()"
   ]
  },
  {
   "cell_type": "code",
   "execution_count": 22,
   "metadata": {
    "cellView": "form",
    "colab": {},
    "colab_type": "code",
    "id": "iV9_BNjkWmy9"
   },
   "outputs": [],
   "source": [
    "#@title\n",
    "loss, accuracy = conv1.evaluate(x_val, y_val_encoded, verbose=0)"
   ]
  },
  {
   "cell_type": "code",
   "execution_count": 23,
   "metadata": {
    "cellView": "form",
    "colab": {},
    "colab_type": "code",
    "id": "eJauFHqBWmzC"
   },
   "outputs": [
    {
     "name": "stdout",
     "output_type": "stream",
     "text": [
      "0.9157500267028809\n"
     ]
    }
   ],
   "source": [
    "#@title\n",
    "## 검증 정확도 향상 : (합성곱미적용시)86% ==> (합성곱적용시)91%\n",
    "print(accuracy)"
   ]
  },
  {
   "cell_type": "code",
   "execution_count": 24,
   "metadata": {
    "cellView": "form",
    "colab": {},
    "colab_type": "code",
    "id": "62hgmmvVWmzG"
   },
   "outputs": [],
   "source": [
    "#@title\n",
    "## 과적합을 해결하기 위해 드롭아웃 적용\n",
    "from tensorflow.keras.layers import Dropout"
   ]
  },
  {
   "cell_type": "code",
   "execution_count": 25,
   "metadata": {
    "cellView": "form",
    "colab": {},
    "colab_type": "code",
    "id": "-tVzZDz3WmzJ"
   },
   "outputs": [],
   "source": [
    "#@title\n",
    "conv2 = tf.keras.Sequential()\n",
    "conv2.add(Conv2D(10, (3, 3), activation='relu', padding='same', input_shape=(28, 28, 1)))\n",
    "conv2.add(MaxPooling2D((2, 2)))\n",
    "conv2.add(Flatten())\n",
    "conv2.add(Dropout(0.5))\n",
    "conv2.add(Dense(100, activation='relu'))\n",
    "conv2.add(Dense(10, activation='softmax'))"
   ]
  },
  {
   "cell_type": "code",
   "execution_count": 26,
   "metadata": {
    "cellView": "form",
    "colab": {},
    "colab_type": "code",
    "id": "tMyn3_4IWmzN",
    "scrolled": true
   },
   "outputs": [
    {
     "name": "stdout",
     "output_type": "stream",
     "text": [
      "Model: \"sequential_1\"\n",
      "_________________________________________________________________\n",
      " Layer (type)                Output Shape              Param #   \n",
      "=================================================================\n",
      " conv2d_1 (Conv2D)           (None, 28, 28, 10)        100       \n",
      "                                                                 \n",
      " max_pooling2d_1 (MaxPooling  (None, 14, 14, 10)       0         \n",
      " 2D)                                                             \n",
      "                                                                 \n",
      " flatten_1 (Flatten)         (None, 1960)              0         \n",
      "                                                                 \n",
      " dropout (Dropout)           (None, 1960)              0         \n",
      "                                                                 \n",
      " dense_2 (Dense)             (None, 100)               196100    \n",
      "                                                                 \n",
      " dense_3 (Dense)             (None, 10)                1010      \n",
      "                                                                 \n",
      "=================================================================\n",
      "Total params: 197,210\n",
      "Trainable params: 197,210\n",
      "Non-trainable params: 0\n",
      "_________________________________________________________________\n"
     ]
    }
   ],
   "source": [
    "#@title\n",
    "conv2.summary()"
   ]
  },
  {
   "cell_type": "code",
   "execution_count": 27,
   "metadata": {
    "cellView": "form",
    "colab": {},
    "colab_type": "code",
    "id": "SmQOYRr7WmzR"
   },
   "outputs": [],
   "source": [
    "#@title\n",
    "conv2.compile(optimizer='adam', loss='categorical_crossentropy',\n",
    "              metrics=['accuracy'])"
   ]
  },
  {
   "cell_type": "code",
   "execution_count": 28,
   "metadata": {
    "cellView": "form",
    "colab": {},
    "colab_type": "code",
    "id": "sOk7J-p0WmzT"
   },
   "outputs": [
    {
     "name": "stdout",
     "output_type": "stream",
     "text": [
      "Epoch 1/20\n",
      "1500/1500 [==============================] - 9s 6ms/step - loss: 0.4820 - accuracy: 0.8295 - val_loss: 0.3339 - val_accuracy: 0.8825\n",
      "Epoch 2/20\n",
      "1500/1500 [==============================] - 9s 6ms/step - loss: 0.3603 - accuracy: 0.8698 - val_loss: 0.2899 - val_accuracy: 0.8941\n",
      "Epoch 3/20\n",
      "1500/1500 [==============================] - 8s 6ms/step - loss: 0.3224 - accuracy: 0.8815 - val_loss: 0.2833 - val_accuracy: 0.8961\n",
      "Epoch 4/20\n",
      "1500/1500 [==============================] - 9s 6ms/step - loss: 0.2988 - accuracy: 0.8896 - val_loss: 0.2631 - val_accuracy: 0.9057\n",
      "Epoch 5/20\n",
      "1500/1500 [==============================] - 9s 6ms/step - loss: 0.2803 - accuracy: 0.8957 - val_loss: 0.2574 - val_accuracy: 0.9080\n",
      "Epoch 6/20\n",
      "1500/1500 [==============================] - 9s 6ms/step - loss: 0.2644 - accuracy: 0.9013 - val_loss: 0.2522 - val_accuracy: 0.9068\n",
      "Epoch 7/20\n",
      "1500/1500 [==============================] - 9s 6ms/step - loss: 0.2514 - accuracy: 0.9057 - val_loss: 0.2456 - val_accuracy: 0.9111\n",
      "Epoch 8/20\n",
      "1500/1500 [==============================] - 9s 6ms/step - loss: 0.2422 - accuracy: 0.9086 - val_loss: 0.2356 - val_accuracy: 0.9169\n",
      "Epoch 9/20\n",
      "1500/1500 [==============================] - 9s 6ms/step - loss: 0.2325 - accuracy: 0.9113 - val_loss: 0.2381 - val_accuracy: 0.9159\n",
      "Epoch 10/20\n",
      "1500/1500 [==============================] - 9s 6ms/step - loss: 0.2217 - accuracy: 0.9157 - val_loss: 0.2326 - val_accuracy: 0.9174\n",
      "Epoch 11/20\n",
      "1500/1500 [==============================] - 10s 6ms/step - loss: 0.2180 - accuracy: 0.9166 - val_loss: 0.2360 - val_accuracy: 0.9153\n",
      "Epoch 12/20\n",
      "1500/1500 [==============================] - 10s 7ms/step - loss: 0.2112 - accuracy: 0.9189 - val_loss: 0.2260 - val_accuracy: 0.9207\n",
      "Epoch 13/20\n",
      "1500/1500 [==============================] - 10s 7ms/step - loss: 0.2038 - accuracy: 0.9213 - val_loss: 0.2309 - val_accuracy: 0.9178\n",
      "Epoch 14/20\n",
      "1500/1500 [==============================] - 9s 6ms/step - loss: 0.2012 - accuracy: 0.9231 - val_loss: 0.2299 - val_accuracy: 0.9189\n",
      "Epoch 15/20\n",
      "1500/1500 [==============================] - 9s 6ms/step - loss: 0.1937 - accuracy: 0.9265 - val_loss: 0.2364 - val_accuracy: 0.9149\n",
      "Epoch 16/20\n",
      "1500/1500 [==============================] - 9s 6ms/step - loss: 0.1888 - accuracy: 0.9274 - val_loss: 0.2258 - val_accuracy: 0.9227\n",
      "Epoch 17/20\n",
      "1500/1500 [==============================] - 9s 6ms/step - loss: 0.1858 - accuracy: 0.9287 - val_loss: 0.2317 - val_accuracy: 0.9200\n",
      "Epoch 18/20\n",
      "1500/1500 [==============================] - 9s 6ms/step - loss: 0.1806 - accuracy: 0.9304 - val_loss: 0.2369 - val_accuracy: 0.9186\n",
      "Epoch 19/20\n",
      "1500/1500 [==============================] - 10s 6ms/step - loss: 0.1778 - accuracy: 0.9315 - val_loss: 0.2316 - val_accuracy: 0.9193\n",
      "Epoch 20/20\n",
      "1500/1500 [==============================] - 9s 6ms/step - loss: 0.1735 - accuracy: 0.9341 - val_loss: 0.2311 - val_accuracy: 0.9217\n"
     ]
    }
   ],
   "source": [
    "#@title\n",
    "## 최종 20 epoch 수행 후 결과를 보면, \"loss: 0.1755 - acc: 0.9350 - val_loss: 0.2278 - val_acc: 0.9225\" ==> DropOut 적용 후 과적합(Overfitting) 완화됨.\n",
    "history = conv2.fit(x_train, y_train_encoded, epochs=20, \n",
    "                    validation_data=(x_val, y_val_encoded))"
   ]
  },
  {
   "cell_type": "code",
   "execution_count": 29,
   "metadata": {
    "cellView": "form",
    "colab": {},
    "colab_type": "code",
    "id": "yuu5GX5rWmzZ"
   },
   "outputs": [
    {
     "data": {
      "image/png": "[encoded data removed]",
      "text/plain": [
       "<Figure size 432x288 with 1 Axes>"
      ]
     },
     "metadata": {
      "needs_background": "light"
     },
     "output_type": "display_data"
    }
   ],
   "source": [
    "#@title\n",
    "## 검증손실이 증가되는 에포크가 확실히 더 늦춰짐, 훈련손실과의 차이도 좁혀짐\n",
    "plt.plot(history.history['loss'])\n",
    "plt.plot(history.history['val_loss'])\n",
    "plt.ylabel('loss')\n",
    "plt.xlabel('epoch')\n",
    "plt.legend(['train_loss', 'val_loss'])\n",
    "plt.show()"
   ]
  },
  {
   "cell_type": "code",
   "execution_count": 30,
   "metadata": {
    "cellView": "form",
    "colab": {},
    "colab_type": "code",
    "id": "dxuJA3RmWmzb",
    "scrolled": true
   },
   "outputs": [
    {
     "data": {
      "image/png": "[encoded data removed]",
      "text/plain": [
       "<Figure size 432x288 with 1 Axes>"
      ]
     },
     "metadata": {
      "needs_background": "light"
     },
     "output_type": "display_data"
    }
   ],
   "source": [
    "#@title\n",
    "## DropOut 적용 후 과적합(Overfitting) 완화됨.\n",
    "plt.plot(history.history['accuracy'])\n",
    "plt.plot(history.history['val_accuracy'])\n",
    "plt.ylabel('Accuracy')\n",
    "plt.xlabel('epoch')\n",
    "plt.legend(['train_accuracy', 'val_accuracy'])\n",
    "plt.show()"
   ]
  },
  {
   "cell_type": "code",
   "execution_count": 31,
   "metadata": {
    "cellView": "form",
    "colab": {},
    "colab_type": "code",
    "id": "kijvpLw6Wmze"
   },
   "outputs": [],
   "source": [
    "#@title\n",
    "loss, accuracy = conv2.evaluate(x_val, y_val_encoded, verbose=0)"
   ]
  },
  {
   "cell_type": "code",
   "execution_count": 32,
   "metadata": {
    "cellView": "form",
    "colab": {},
    "colab_type": "code",
    "id": "hKwQ6RjxWmzg"
   },
   "outputs": [
    {
     "name": "stdout",
     "output_type": "stream",
     "text": [
      "0.92166668176651\n"
     ]
    }
   ],
   "source": [
    "#@title\n",
    "## 정확도 미세 증가\n",
    "print(accuracy)"
   ]
  },
  {
   "cell_type": "code",
   "execution_count": null,
   "metadata": {},
   "outputs": [],
   "source": []
  }
 ],
 "metadata": {
  "colab": {
   "collapsed_sections": [],
   "name": "Ch08_전체.ipynb의 사본",
   "provenance": [
    {
     "file_id": "1jQ0aO5KkeuBAak0ErkijLoQ0zPfBs5Om",
     "timestamp": 1579356268110
    }
   ]
  },
  "kernelspec": {
   "display_name": "Python 3 (ipykernel)",
   "language": "python",
   "name": "python3"
  },
  "language_info": {
   "codemirror_mode": {
    "name": "ipython",
    "version": 3
   },
   "file_extension": ".py",
   "mimetype": "text/x-python",
   "name": "python",
   "nbconvert_exporter": "python",
   "pygments_lexer": "ipython3",
   "version": "3.9.12"
  }
 },
 "nbformat": 4,
 "nbformat_minor": 1
}
