{
 "cells": [
  {
   "cell_type": "code",
   "execution_count": null,
   "id": "cb429acf",
   "metadata": {},
   "outputs": [],
   "source": [
    "from tensorflow.keras.datasets import imdb\n",
    "from tensorflow.keras.models import Sequential\n",
    "from tensorflow.keras.layers import Dense,LSTM,Embedding\n",
    "from tensorflow.keras import preprocessing\n",
    "from tensorflow.keras.callbacks import EarlyStopping"
   ]
  },
  {
   "cell_type": "code",
   "execution_count": null,
   "id": "c13a023e",
   "metadata": {},
   "outputs": [],
   "source": [
    "dic_siz=10000 # 사전의 크기(사전에 있는 단어 개수)\n",
    "sample_siz=512 # 샘플의 크기"
   ]
  },
  {
   "cell_type": "code",
   "execution_count": null,
   "id": "b556f887",
   "metadata": {},
   "outputs": [],
   "source": [
    "# tensorflow가 제공하는 간소한 버전의 IMDB 읽기\n",
    "(x_train,y_train),(x_test,y_test)=imdb.load_data(num_words=dic_siz)"
   ]
  },
  {
   "cell_type": "code",
   "execution_count": null,
   "id": "f349482b",
   "metadata": {},
   "outputs": [],
   "source": [
    "embed_space_dim=16 # 16차원의 임베딩 공간"
   ]
  },
  {
   "cell_type": "code",
   "execution_count": null,
   "id": "9df3ef39",
   "metadata": {},
   "outputs": [],
   "source": [
    "x_train=preprocessing.sequence.pad_sequences(x_train,maxlen=sample_siz)\n",
    "x_test=preprocessing.sequence.pad_sequences(x_test,maxlen=sample_siz)"
   ]
  },
  {
   "cell_type": "code",
   "execution_count": null,
   "id": "742648d6",
   "metadata": {},
   "outputs": [],
   "source": [
    "# monitor='val_accuracy' : 멈춤을 판단할 기준으로 검증집합의 정확도를 사용\n",
    "# patience=5 : 다섯 세대 동안 성능향상이 없을 때 멈추도록 함. 너무 작으면 이후 좋은 성능이 나올 가능성을 놓치고, 너무 크면 시간낭비를 불러올 수 있음.\n",
    "# restore_best_weights=True : 가장 높은 성능을 발휘했을 때의 가중치를 취한다.\n",
    "# restore_best_weights=False : 멈춘 순간의 가중치를 취한다.\n",
    "early=EarlyStopping(monitor='val_accuracy',patience=5,restore_best_weights=True)"
   ]
  },
  {
   "cell_type": "code",
   "execution_count": null,
   "id": "4fae0a94",
   "metadata": {},
   "outputs": [],
   "source": [
    "# 신경망 모델의 설계와 학습(LSTM 층 포함)\n",
    "embed=Sequential()\n",
    "embed.add(Embedding(input_dim=dic_siz,output_dim=embed_space_dim,input_length=sample_siz))\n",
    "embed.add(LSTM(units=32))\n",
    "embed.add(Dense(1,activation='sigmoid'))\n",
    "embed.compile(loss='binary_crossentropy',optimizer='Adam',metrics=['accuracy'])\n",
    "# callbacks=[early] : 조기멈춤 적용\n",
    "hist=embed.fit(x_train,y_train,epochs=20,batch_size=64,validation_split=0.2,verbose=2,callbacks=[early])"
   ]
  },
  {
   "cell_type": "code",
   "execution_count": null,
   "id": "550c044e",
   "metadata": {},
   "outputs": [],
   "source": [
    "# 모델 평가\n",
    "res=embed.evaluate(x_test,y_test,verbose=0)\n",
    "print(\"정확률은\",res[1]*100)"
   ]
  },
  {
   "cell_type": "code",
   "execution_count": null,
   "id": "6f62afc2",
   "metadata": {},
   "outputs": [],
   "source": [
    "import matplotlib.pyplot as plt"
   ]
  },
  {
   "cell_type": "code",
   "execution_count": null,
   "id": "7af2f2ef",
   "metadata": {},
   "outputs": [],
   "source": [
    "# 학습 곡선\n",
    "plt.plot(hist.history['accuracy'])\n",
    "plt.plot(hist.history['val_accuracy'])\n",
    "plt.title('Model accuracy')\n",
    "plt.ylabel('Accuracy')\n",
    "plt.xlabel('Epoch')\n",
    "plt.legend(['Train','Validation'], loc='best')\n",
    "plt.grid()\n",
    "plt.show()"
   ]
  },
  {
   "cell_type": "code",
   "execution_count": null,
   "id": "548f6adc",
   "metadata": {},
   "outputs": [],
   "source": []
  }
 ],
 "metadata": {
  "kernelspec": {
   "display_name": "Python 3 (ipykernel)",
   "language": "python",
   "name": "python3"
  },
  "language_info": {
   "codemirror_mode": {
    "name": "ipython",
    "version": 3
   },
   "file_extension": ".py",
   "mimetype": "text/x-python",
   "name": "python",
   "nbconvert_exporter": "python",
   "pygments_lexer": "ipython3",
   "version": "3.9.12"
  }
 },
 "nbformat": 4,
 "nbformat_minor": 5
}
