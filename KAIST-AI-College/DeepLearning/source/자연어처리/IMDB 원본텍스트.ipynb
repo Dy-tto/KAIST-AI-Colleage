{
 "cells": [
  {
   "cell_type": "code",
   "execution_count": null,
   "id": "af25f3a2",
   "metadata": {},
   "outputs": [],
   "source": [
    "import os\n",
    "\n",
    "# 원본 IMDB 데이터 읽기\n",
    "directory='./data/aclImdb/aclImdb/test'\n",
    "x=[];y=[]\n",
    "for c in ['neg','pos']:\n",
    "    curr=os.path.join(directory,c)\n",
    "    for fname in os.listdir(curr):\n",
    "        if fname[-4:]=='.txt':\n",
    "            f=open(os.path.join(curr,fname),encoding='utf8')\n",
    "            x.append(f.read())\n",
    "            y.append(c)\n",
    "            \n",
    "#print(\"첫 번째 댓글:\",x[0]); print(\"첫 번째 평가:\",y[0])\n",
    "#print(\"마지막 댓글:\",x[-1]); print(\"마지막 평가:\",y[-1])\n",
    "\n",
    "\"\"\"\n",
    "for i in range(len(x)):\n",
    "    print(x[i])\n",
    "    print(y[i])\n",
    "\"\"\"    "
   ]
  },
  {
   "cell_type": "code",
   "execution_count": null,
   "id": "9fc27b2d",
   "metadata": {},
   "outputs": [],
   "source": []
  }
 ],
 "metadata": {
  "kernelspec": {
   "display_name": "Python 3 (ipykernel)",
   "language": "python",
   "name": "python3"
  },
  "language_info": {
   "codemirror_mode": {
    "name": "ipython",
    "version": 3
   },
   "file_extension": ".py",
   "mimetype": "text/x-python",
   "name": "python",
   "nbconvert_exporter": "python",
   "pygments_lexer": "ipython3",
   "version": "3.9.12"
  }
 },
 "nbformat": 4,
 "nbformat_minor": 5
}
