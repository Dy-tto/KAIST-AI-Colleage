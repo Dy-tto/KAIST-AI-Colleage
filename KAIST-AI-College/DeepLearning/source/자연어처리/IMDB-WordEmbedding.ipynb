{
 "cells": [
  {
   "cell_type": "code",
   "execution_count": null,
   "id": "d508ad46",
   "metadata": {},
   "outputs": [],
   "source": [
    "from tensorflow.keras.datasets import imdb\n",
    "from tensorflow.keras.models import Sequential\n",
    "from tensorflow.keras.layers import Dense,Flatten,Embedding\n",
    "from tensorflow.keras import preprocessing"
   ]
  },
  {
   "cell_type": "code",
   "execution_count": null,
   "id": "beb1c49d",
   "metadata": {},
   "outputs": [],
   "source": [
    "dic_siz=10000 # 사전의 크기(사전에 있는 단어 개수)\n",
    "sample_siz=512 # 샘플의 크기"
   ]
  },
  {
   "cell_type": "code",
   "execution_count": null,
   "id": "828ddee6",
   "metadata": {},
   "outputs": [],
   "source": [
    "# tensorflow가 제공하는 간소한 버전의 IMDB 읽기\n",
    "(x_train,y_train),(x_test,y_test)=imdb.load_data(num_words=dic_siz)\n",
    "print(x_train.shape,x_test.shape)\n",
    "print(x_train[0])"
   ]
  },
  {
   "cell_type": "code",
   "execution_count": null,
   "id": "268c4304",
   "metadata": {},
   "outputs": [],
   "source": [
    "# 단어를 숫자, 숫자를 단어로 변환하는데 쓰는 표(표는 딕셔너리로 구현)\n",
    "word2id=imdb.get_word_index()\n",
    "id2word={word:id for id,word in word2id.items()}"
   ]
  },
  {
   "cell_type": "code",
   "execution_count": null,
   "id": "9e4bc98a",
   "metadata": {},
   "outputs": [],
   "source": [
    "for i in range(1,21):\n",
    "    print(id2word[i],end='/')"
   ]
  },
  {
   "cell_type": "code",
   "execution_count": null,
   "id": "b6f9a0d2",
   "metadata": {},
   "outputs": [],
   "source": [
    "embed_space_dim=16 # 16차원의 임베딩 공간"
   ]
  },
  {
   "cell_type": "code",
   "execution_count": null,
   "id": "877dffcb",
   "metadata": {},
   "outputs": [],
   "source": [
    "x_train=preprocessing.sequence.pad_sequences(x_train,maxlen=sample_siz)\n",
    "x_test=preprocessing.sequence.pad_sequences(x_test,maxlen=sample_siz)"
   ]
  },
  {
   "cell_type": "code",
   "execution_count": null,
   "id": "e3aaf9ea",
   "metadata": {},
   "outputs": [],
   "source": [
    "# 신경망 모델 설계와 학습\n",
    "embed=Sequential()\n",
    "embed.add(Embedding(input_dim=dic_siz,output_dim=embed_space_dim,input_length=sample_siz))\n",
    "embed.add(Flatten())\n",
    "embed.add(Dense(32,activation='relu'))\n",
    "# 출력노드가 하나라는 뜻이며, 부정평가와 긍정평가를 가각 0과 1로 표현하기 때문.\n",
    "embed.add(Dense(1,activation='sigmoid'))\n",
    "embed.compile(loss='binary_crossentropy',optimizer='Adam',metrics=['accuracy'])\n",
    "hist=embed.fit(x_train,y_train,epochs=20,batch_size=64,validation_data=(x_test,y_test),verbose=2)"
   ]
  },
  {
   "cell_type": "code",
   "execution_count": null,
   "id": "485d4411",
   "metadata": {},
   "outputs": [],
   "source": [
    "embed.summary()"
   ]
  },
  {
   "cell_type": "code",
   "execution_count": null,
   "id": "3e96c59c",
   "metadata": {},
   "outputs": [],
   "source": [
    "# 모델 평가\n",
    "res=embed.evaluate(x_test,y_test,verbose=0)\n",
    "print(\"정확률은\",res[1]*100)"
   ]
  },
  {
   "cell_type": "code",
   "execution_count": null,
   "id": "f9bc5fc8",
   "metadata": {},
   "outputs": [],
   "source": [
    "import matplotlib.pyplot as plt"
   ]
  },
  {
   "cell_type": "code",
   "execution_count": null,
   "id": "5acd4fc6",
   "metadata": {},
   "outputs": [],
   "source": [
    "# 학습 곡선\n",
    "plt.plot(hist.history['accuracy'])\n",
    "plt.plot(hist.history['val_accuracy'])\n",
    "plt.title('Model accuracy')\n",
    "plt.ylabel('Accuracy')\n",
    "plt.xlabel('Epoch')\n",
    "plt.legend(['Train','Validation'], loc='best')\n",
    "plt.grid()\n",
    "plt.show()"
   ]
  },
  {
   "cell_type": "code",
   "execution_count": null,
   "id": "bbb5180e",
   "metadata": {},
   "outputs": [],
   "source": []
  }
 ],
 "metadata": {
  "kernelspec": {
   "display_name": "Python 3 (ipykernel)",
   "language": "python",
   "name": "python3"
  },
  "language_info": {
   "codemirror_mode": {
    "name": "ipython",
    "version": 3
   },
   "file_extension": ".py",
   "mimetype": "text/x-python",
   "name": "python",
   "nbconvert_exporter": "python",
   "pygments_lexer": "ipython3",
   "version": "3.9.12"
  }
 },
 "nbformat": 4,
 "nbformat_minor": 5
}
