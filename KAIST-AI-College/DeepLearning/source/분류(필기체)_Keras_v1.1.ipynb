{
 "cells": [
  {
   "cell_type": "markdown",
   "metadata": {
    "id": "Wpgu36HK0FSE"
   },
   "source": [
    "# Keras를 이용한 손글씨 분류하기"
   ]
  },
  {
   "cell_type": "markdown",
   "metadata": {
    "id": "mH_74l400FUr"
   },
   "source": [
    "## MNIST 훈련데이터 준비하기"
   ]
  },
  {
   "cell_type": "code",
   "execution_count": null,
   "metadata": {
    "id": "GHduXbUX0FSm"
   },
   "outputs": [],
   "source": [
    "import numpy as np"
   ]
  },
  {
   "cell_type": "code",
   "execution_count": null,
   "metadata": {
    "id": "dnVC-udM0FS4"
   },
   "outputs": [],
   "source": [
    "import tensorflow as tf"
   ]
  },
  {
   "cell_type": "code",
   "execution_count": null,
   "metadata": {
    "cellView": "code",
    "id": "zP3p8qVV0FTF"
   },
   "outputs": [],
   "source": [
    "mnist = tf.keras.datasets.mnist   \n",
    "(train_images, train_labels), (test_images, test_labels) = mnist.load_data()"
   ]
  },
  {
   "cell_type": "code",
   "execution_count": null,
   "metadata": {
    "id": "dSyr0_690FTK",
    "scrolled": true
   },
   "outputs": [],
   "source": [
    "print(train_images.shape, train_labels.shape)"
   ]
  },
  {
   "cell_type": "code",
   "execution_count": null,
   "metadata": {
    "id": "RCn35VJM0FTR"
   },
   "outputs": [],
   "source": [
    "import matplotlib\n",
    "import matplotlib.pyplot as plt"
   ]
  },
  {
   "cell_type": "code",
   "execution_count": null,
   "metadata": {
    "id": "ZZkEOBEY0FTV"
   },
   "outputs": [],
   "source": [
    "## <샘플이미지 확인하기> \n",
    "## 넘파이 배열의 원소값이 0에 가까울수록 이미지가 검게 그려짐. \n",
    "## x_train_all[i] 의 i값을 다양하게 입력해 보세요. 0<=i<=59,999\n",
    "plt.imshow(train_images[0], cmap='gray')\n",
    "plt.show()"
   ]
  },
  {
   "cell_type": "code",
   "execution_count": null,
   "metadata": {
    "cellView": "code",
    "id": "qZ1cASkC0FTa"
   },
   "outputs": [],
   "source": [
    "## <Target 값 확인하기>\n",
    "## y_target_all : 60,000개의 요소를 가진 1차원 배열. 각 요소는 0~9까지의 정수로 이루어져 있음. \n",
    "## 일단 가장 앞에 있는 10개만 출력함.\n",
    "print(train_labels[:10])"
   ]
  },
  {
   "cell_type": "code",
   "execution_count": null,
   "metadata": {
    "id": "MzZlaLFT0FTm"
   },
   "outputs": [],
   "source": [
    "## 훈련세트의 목표값들이 고르게 분포되어 있는 지 확인함\n",
    "## bincount() : 배열에 있는 정수값의 등장횟수를 카운트함.\n",
    "np.bincount(train_labels)"
   ]
  },
  {
   "cell_type": "code",
   "execution_count": null,
   "metadata": {
    "id": "woNppf150FT4"
   },
   "outputs": [],
   "source": [
    "## 이미지 데이터는 픽셀마다 0~255 사이의 값을 가짐.\n",
    "## [데이터표준화] 255로 나누어 0~1 사이로 맞추는 것이 유리함.\n",
    "train_images = train_images / 255\n",
    "test_images = test_images / 255"
   ]
  },
  {
   "cell_type": "markdown",
   "metadata": {
    "id": "ly2DwFjXYkd4"
   },
   "source": [
    "## 케라스를 소개합니다."
   ]
  },
  {
   "cell_type": "code",
   "execution_count": null,
   "metadata": {
    "id": "tGOqtE__0FUs"
   },
   "outputs": [],
   "source": [
    "from tensorflow.keras import Sequential\n",
    "from tensorflow.keras.layers import Flatten\n",
    "from tensorflow.keras.layers import Dense"
   ]
  },
  {
   "cell_type": "code",
   "execution_count": null,
   "metadata": {
    "cellView": "code",
    "id": "3yttDxGW0FUv"
   },
   "outputs": [],
   "source": [
    "model = Sequential()\n",
    "# 2차원배열 (28*28픽셀)의 이미지 포맷을 28*28=784 픽셀의 1차원배열로 변환함\n",
    "model.add(Flatten(input_shape=(28,28)))\n",
    "## 은닉층을 정의함. 유닛개수 100개\n",
    "model.add(Dense(100, activation='relu'))\n",
    "## 출력층을 정의함. 유닛수는 10개\n",
    "model.add(Dense(10, activation='softmax'))"
   ]
  },
  {
   "cell_type": "code",
   "execution_count": null,
   "metadata": {
    "cellView": "code",
    "id": "ia8V9Pmy0FUy"
   },
   "outputs": [],
   "source": [
    "## 최적화알고리즘은 adam, 손실함수는 크로스엔트로피, metrics : 훈련과정기록으로 정확도를 남기기 위함.\n",
    "model.compile(optimizer='adam', loss='sparse_categorical_crossentropy',metrics=['accuracy'])"
   ]
  },
  {
   "cell_type": "code",
   "execution_count": null,
   "metadata": {},
   "outputs": [],
   "source": [
    "model.summary()"
   ]
  },
  {
   "cell_type": "code",
   "execution_count": null,
   "metadata": {
    "cellView": "code",
    "id": "-gEcU7u50FU0"
   },
   "outputs": [],
   "source": [
    "## 훈련세트에서 측정한 값들을 History 클래스 객체에 담아서 반환함.\n",
    "history = model.fit(train_images, train_labels, epochs=20)"
   ]
  },
  {
   "cell_type": "code",
   "execution_count": null,
   "metadata": {
    "id": "I56R8Oez0FU4"
   },
   "outputs": [],
   "source": [
    "## history 딕셔너리의 측정지표들\n",
    "print(history.history.keys())"
   ]
  },
  {
   "cell_type": "code",
   "execution_count": null,
   "metadata": {
    "id": "qPuhlVhQ0FU6",
    "scrolled": true
   },
   "outputs": [],
   "source": [
    "## 손실 추이\n",
    "plt.plot(history.history['loss'])\n",
    "plt.ylabel('loss')\n",
    "plt.xlabel('epoch')\n",
    "plt.legend(['train_loss'])\n",
    "plt.show()"
   ]
  },
  {
   "cell_type": "code",
   "execution_count": null,
   "metadata": {
    "id": "cMawZBob0FVB",
    "scrolled": false
   },
   "outputs": [],
   "source": [
    "## 정확도 추이\n",
    "plt.plot(history.history['accuracy'])\n",
    "plt.ylabel('loss')\n",
    "plt.xlabel('epoch')\n",
    "plt.legend(['train_loss'])\n",
    "plt.show()"
   ]
  },
  {
   "cell_type": "code",
   "execution_count": null,
   "metadata": {
    "cellView": "code",
    "id": "XwN5s7oP0FVR"
   },
   "outputs": [],
   "source": [
    "## Verbosity mode.0 = silent, 1 = progress bar\n",
    "test_loss, test_accuracy = model.evaluate(test_images, test_labels, verbose=0)"
   ]
  },
  {
   "cell_type": "code",
   "execution_count": null,
   "metadata": {
    "id": "2ioSx-9CQyRM"
   },
   "outputs": [],
   "source": [
    "print(f'테스트 손실도 : {test_loss}')"
   ]
  },
  {
   "cell_type": "code",
   "execution_count": null,
   "metadata": {
    "cellView": "code",
    "id": "nCHiDsTy0FVU"
   },
   "outputs": [],
   "source": [
    "print(f'테스트 정확도 : {test_accuracy}')"
   ]
  },
  {
   "cell_type": "code",
   "execution_count": null,
   "metadata": {
    "id": "eRHcSeqoQOwk"
   },
   "outputs": [],
   "source": [
    "# Step04. 테스트용 데이터를 대입했을 때, 맞추지 못한 항목에 대해 상세 보고한다.\n",
    "# (1) 맞추지 못한 갯수\n",
    "# (2) 맞추지 못한 항목 : 인덱스, 예측한 숫자값, 실제 숫자값\n",
    "\n",
    "def report_model_miss(model, X, Y):\n",
    "    \n",
    "    hit = 0\n",
    "    miss = 0\n",
    "    nCnt = 0\n",
    "    misses = []\n",
    "\n",
    "    predictions = model.predict(X)\n",
    "\n",
    "    for i in range(len(Y)):\n",
    "      prediction = np.argmax(predictions[i])\n",
    "      if prediction == Y[i]:\n",
    "        hit += 1\n",
    "      else:\n",
    "        miss += 1\n",
    "        miss_item = [i, prediction, Y[i]]\n",
    "        misses.append(miss_item)\n",
    "    \n",
    "    score = hit/len(X)*100        \n",
    "    print(f'Score is {score}')\n",
    "       \n",
    "    print(f'The number of miss: {miss}')\n",
    "    for i in range(len(misses)):\n",
    "      print(f'[{misses[i][0]+1}] (예측값){misses[i][1]} (실제값){misses[i][2]}')\n",
    "\n",
    "      digit_image = X[misses[i][0]].reshape(28, 28)\n",
    "      plt.imshow(digit_image, cmap=matplotlib.cm.binary, interpolation=\"nearest\")\n",
    "      #plt.imshow(digit_image)\n",
    "      #plt.colorbar()\n",
    "      plt.axis(\"off\")\n",
    "      plt.show()   \n"
   ]
  },
  {
   "cell_type": "code",
   "execution_count": null,
   "metadata": {
    "id": "7wL-DN_0QVY0"
   },
   "outputs": [],
   "source": [
    "# Step04. 테스트용 데이터를 대입했을 때, 맞추지 못한 항목에 대해 상세 보고한다.\n",
    "# (1) 맞추지 못한 갯수\n",
    "# (2) 맞추지 못한 항목 : 인덱스, 예측한 숫자값, 실제 숫자값\n",
    "report_model_miss(model, test_images, test_labels)"
   ]
  },
  {
   "cell_type": "code",
   "execution_count": null,
   "metadata": {},
   "outputs": [],
   "source": []
  }
 ],
 "metadata": {
  "colab": {
   "collapsed_sections": [],
   "name": "[실습9-1] handwriting_Keras.ipynb",
   "provenance": []
  },
  "kernelspec": {
   "display_name": "Python 3 (ipykernel)",
   "language": "python",
   "name": "python3"
  },
  "language_info": {
   "codemirror_mode": {
    "name": "ipython",
    "version": 3
   },
   "file_extension": ".py",
   "mimetype": "text/x-python",
   "name": "python",
   "nbconvert_exporter": "python",
   "pygments_lexer": "ipython3",
   "version": "3.9.12"
  }
 },
 "nbformat": 4,
 "nbformat_minor": 1
}
