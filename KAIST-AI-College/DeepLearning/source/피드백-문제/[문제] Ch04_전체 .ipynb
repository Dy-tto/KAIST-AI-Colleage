{
 "cells": [
  {
   "cell_type": "markdown",
   "metadata": {
    "colab_type": "text",
    "id": "Z9BeI7IAfcVB"
   },
   "source": [
    "# 04 분류하는 뉴런"
   ]
  },
  {
   "cell_type": "code",
   "execution_count": null,
   "metadata": {
    "cellView": "form",
    "colab": {},
    "colab_type": "code",
    "id": "zETJwc1tfcVH"
   },
   "outputs": [],
   "source": [
    "import numpy as np\n",
    "import matplotlib.pyplot as plt\n",
    "np.random.seed(42)"
   ]
  },
  {
   "cell_type": "markdown",
   "metadata": {
    "colab_type": "text",
    "id": "riJTGqz4fcVi"
   },
   "source": [
    "## 04-4 분류용 데이터셋을 준비합니다"
   ]
  },
  {
   "cell_type": "code",
   "execution_count": null,
   "metadata": {
    "cellView": "form",
    "colab": {},
    "colab_type": "code",
    "id": "-K7REZFPfcVk"
   },
   "outputs": [],
   "source": [
    "## 데이터 로드\n",
    "from sklearn.datasets import load_breast_cancer\n",
    "cancer = load_breast_cancer()"
   ]
  },
  {
   "cell_type": "code",
   "execution_count": null,
   "metadata": {
    "cellView": "form",
    "colab": {},
    "colab_type": "code",
    "id": "oYhQVouOfcV8"
   },
   "outputs": [],
   "source": [
    "## 데이터를 x, y 변수에 저장\n",
    "x = cancer.data\n",
    "y = cancer.target"
   ]
  },
  {
   "cell_type": "markdown",
   "metadata": {
    "colab_type": "text",
    "id": "5IHQqc6LfcWA"
   },
   "source": [
    "## 04-5 로지스틱 회귀로 모델을 만들어봅니다"
   ]
  },
  {
   "cell_type": "code",
   "execution_count": null,
   "metadata": {
    "cellView": "form",
    "colab": {},
    "colab_type": "code",
    "id": "OKweJvUkfcWB"
   },
   "outputs": [],
   "source": [
    "from sklearn.model_selection import train_test_split"
   ]
  },
  {
   "cell_type": "code",
   "execution_count": null,
   "metadata": {
    "cellView": "form",
    "colab": {},
    "colab_type": "code",
    "id": "FshjV3qIfcWG"
   },
   "outputs": [],
   "source": [
    "## 훈련데이터세트 나누기\n",
    "## stratify=y : 훈련데이터를 나눌 때 클래스비율을 동일하게 만든다\n",
    "x_train, x_test, y_train, y_test = train_test_split(x, y, stratify=y, test_size=0.2, random_state=42)"
   ]
  },
  {
   "cell_type": "markdown",
   "metadata": {
    "colab_type": "text",
    "id": "HOPbPLHLfcXC"
   },
   "source": [
    "## 04-6 단일층 신경망을 만들어 봅니다"
   ]
  },
  {
   "cell_type": "markdown",
   "metadata": {
    "colab_type": "text",
    "id": "pxuigFr02KrF"
   },
   "source": [
    "<퀴즈> 활성화함수를 시그모이드에서 하이퍼볼릭탄젠트로 바꾸어보세요."
   ]
  },
  {
   "cell_type": "code",
   "execution_count": null,
   "metadata": {
    "cellView": "form",
    "colab": {},
    "colab_type": "code",
    "id": "fjOnSaoNfcXD"
   },
   "outputs": [],
   "source": [
    "#@title\n",
    "class SingleLayer:\n",
    "    \n",
    "    def __init__(self):\n",
    "        self.w = None\n",
    "        self.b = None\n",
    "        self.losses = []\n",
    "\n",
    "    def forpass(self, x):\n",
    "        z = np.sum(x * self.w) + self.b  # 직선 방정식을 계산합니다\n",
    "        return z\n",
    "\n",
    "    def backprop(self, x, err):\n",
    "        w_grad = x * err    # 가중치에 대한 그래디언트를 계산합니다\n",
    "        b_grad = 1 * err    # 절편에 대한 그래디언트를 계산합니다\n",
    "        return w_grad, b_grad\n",
    "               \n",
    "    def activation(self, z):\n",
    "        a = 1 / (1 + np.exp(-z))  # 시그모이드 계산\n",
    "        return a\n",
    "        \n",
    "    def fit(self, x, y, epochs=100):\n",
    "        self.w = np.ones(x.shape[1])               # 가중치를 초기화합니다.\n",
    "        self.b = 0                                 # 절편을 초기화합니다.\n",
    "        for i in range(epochs):                    # epochs만큼 반복합니다\n",
    "            loss = 0\n",
    "            # 인덱스를 섞습니다\n",
    "            indexes = np.random.permutation(np.arange(len(x)))   #len(x): end of interval\n",
    "            for i in indexes:                      # 모든 샘플에 대해 반복합니다\n",
    "                z = self.forpass(x[i])             # 정방향 계산\n",
    "                a = self.activation(z)             # 활성화 함수 적용\n",
    "                err = -(y[i] - a)                  # 오차 계산\n",
    "                w_grad, b_grad = self.backprop(x[i], err) # 역방향 계산\n",
    "                self.w -= w_grad                   # 가중치 업데이트\n",
    "                self.b -= b_grad                   # 절편 업데이트\n",
    "                # 안전한 로그 계산을 위해 클리핑한 후 손실을 누적합니다\n",
    "                # numpy.clip(array, min, max) ==> min 값 보다 작은 값들을 min값으로 바꿔주고, max 값 보다 큰 값들을 max값으로 바꿔주는 함수.\n",
    "                a = np.clip(a, 1e-10, 1-1e-10)\n",
    "                loss += -(y[i]*np.log(a)+(1-y[i])*np.log(1-a))\n",
    "            # 에포크마다 평균 손실을 저장합니다\n",
    "            self.losses.append(loss/len(y))\n",
    "    \n",
    "    def predict(self, x):\n",
    "        z = [self.forpass(x_i) for x_i in x]     # 정방향 계산\n",
    "        return np.array(z) > 0                   # 스텝 함수 적용\n",
    "    \n",
    "    def score(self, x, y):\n",
    "        return np.mean(self.predict(x) == y)"
   ]
  },
  {
   "cell_type": "code",
   "execution_count": null,
   "metadata": {
    "cellView": "form",
    "colab": {},
    "colab_type": "code",
    "id": "oQvisMrxfcXG"
   },
   "outputs": [],
   "source": [
    "#@title\n",
    "## LogisticNeuron 사용시 정확도는 0.82 ==> 그런데 SingleLayer의 정확도는 0.92 ==> 정확도가 향상된 이유는? \n",
    "## ==> 에포크마다 훈련세트를 무작위로 섞어 손실함수의 값을 줄였기 때문\n",
    "layer = SingleLayer()\n",
    "layer.fit(x_train, y_train)\n",
    "layer.score(x_test, y_test)"
   ]
  },
  {
   "cell_type": "code",
   "execution_count": null,
   "metadata": {
    "cellView": "form",
    "colab": {},
    "colab_type": "code",
    "id": "sD7FVpKGfcXJ",
    "scrolled": true
   },
   "outputs": [],
   "source": [
    "#@title\n",
    "plt.plot(layer.losses)\n",
    "plt.xlabel('epoch')\n",
    "plt.ylabel('loss')\n",
    "plt.show()"
   ]
  },
  {
   "cell_type": "code",
   "execution_count": null,
   "metadata": {},
   "outputs": [],
   "source": []
  }
 ],
 "metadata": {
  "colab": {
   "collapsed_sections": [],
   "name": "Ch04_전체.ipynb",
   "provenance": []
  },
  "kernelspec": {
   "display_name": "Python 3 (ipykernel)",
   "language": "python",
   "name": "python3"
  },
  "language_info": {
   "codemirror_mode": {
    "name": "ipython",
    "version": 3
   },
   "file_extension": ".py",
   "mimetype": "text/x-python",
   "name": "python",
   "nbconvert_exporter": "python",
   "pygments_lexer": "ipython3",
   "version": "3.9.12"
  }
 },
 "nbformat": 4,
 "nbformat_minor": 1
}
