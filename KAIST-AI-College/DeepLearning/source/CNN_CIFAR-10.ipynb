{
 "cells": [
  {
   "cell_type": "code",
   "execution_count": 1,
   "id": "d1c5e784",
   "metadata": {},
   "outputs": [],
   "source": [
    "import numpy as np\n",
    "import tensorflow as tf\n",
    "from tensorflow.keras.datasets import cifar10\n",
    "from tensorflow.keras.models import Sequential\n",
    "from tensorflow.keras.layers import Conv2D,MaxPooling2D,Flatten,Dense,Dropout\n",
    "from tensorflow.keras.optimizers import Adam"
   ]
  },
  {
   "cell_type": "code",
   "execution_count": 2,
   "id": "d5688443",
   "metadata": {},
   "outputs": [
    {
     "name": "stdout",
     "output_type": "stream",
     "text": [
      "Downloading data from https://www.cs.toronto.edu/~kriz/cifar-10-python.tar.gz\n",
      "170498071/170498071 [==============================] - 41s 0us/step\n"
     ]
    }
   ],
   "source": [
    "# CIFAR-10 데이터셋을 읽고 신경망에 입력할 형태로 변환\n",
    "(x_train,y_train),(x_test,y_test)=cifar10.load_data()\n",
    "x_train=x_train.astype(np.float32)/255.0\n",
    "x_test=x_test.astype(np.float32)/255.0\n",
    "y_train=tf.keras.utils.to_categorical(y_train,10)\n",
    "y_test=tf.keras.utils.to_categorical(y_test,10)"
   ]
  },
  {
   "cell_type": "code",
   "execution_count": 3,
   "id": "db7754fc",
   "metadata": {},
   "outputs": [],
   "source": [
    "# 신경망 모델 설계\n",
    "cnn=Sequential()\n",
    "cnn.add(Conv2D(32,(3,3),activation='relu',input_shape=(32,32,3)))\n",
    "cnn.add(Conv2D(32,(3,3),activation='relu'))\n",
    "cnn.add(MaxPooling2D(pool_size=(2,2)))\n",
    "cnn.add(Dropout(0.25))\n",
    "cnn.add(Conv2D(64,(3,3),activation='relu'))\n",
    "cnn.add(Conv2D(64,(3,3),activation='relu'))\n",
    "cnn.add(MaxPooling2D(pool_size=(2,2)))\n",
    "cnn.add(Dropout(0.25))  # rate: Float between 0 and 1. Fraction of the input units to drop\n",
    "cnn.add(Flatten())\n",
    "cnn.add(Dense(512,activation='relu'))\n",
    "cnn.add(Dropout(0.5))\n",
    "cnn.add(Dense(10,activation='softmax'))"
   ]
  },
  {
   "cell_type": "code",
   "execution_count": 5,
   "id": "935f7ec0",
   "metadata": {},
   "outputs": [
    {
     "name": "stdout",
     "output_type": "stream",
     "text": [
      "Epoch 1/30\n",
      "391/391 - 81s - loss: 1.7110 - accuracy: 0.3670 - val_loss: 1.3921 - val_accuracy: 0.4911 - 81s/epoch - 208ms/step\n",
      "Epoch 2/30\n",
      "391/391 - 84s - loss: 1.3192 - accuracy: 0.5271 - val_loss: 1.1225 - val_accuracy: 0.5973 - 84s/epoch - 214ms/step\n",
      "Epoch 3/30\n",
      "391/391 - 82s - loss: 1.1299 - accuracy: 0.5974 - val_loss: 1.0194 - val_accuracy: 0.6392 - 82s/epoch - 210ms/step\n",
      "Epoch 4/30\n",
      "391/391 - 87s - loss: 0.9898 - accuracy: 0.6496 - val_loss: 0.8635 - val_accuracy: 0.6995 - 87s/epoch - 223ms/step\n",
      "Epoch 5/30\n",
      "391/391 - 85s - loss: 0.9069 - accuracy: 0.6781 - val_loss: 0.8210 - val_accuracy: 0.7161 - 85s/epoch - 218ms/step\n",
      "Epoch 6/30\n",
      "391/391 - 85s - loss: 0.8507 - accuracy: 0.7005 - val_loss: 0.7663 - val_accuracy: 0.7310 - 85s/epoch - 217ms/step\n",
      "Epoch 7/30\n",
      "391/391 - 88s - loss: 0.7971 - accuracy: 0.7181 - val_loss: 0.7578 - val_accuracy: 0.7373 - 88s/epoch - 226ms/step\n",
      "Epoch 8/30\n",
      "391/391 - 93s - loss: 0.7545 - accuracy: 0.7351 - val_loss: 0.7220 - val_accuracy: 0.7479 - 93s/epoch - 238ms/step\n",
      "Epoch 9/30\n",
      "391/391 - 86s - loss: 0.7186 - accuracy: 0.7477 - val_loss: 0.7001 - val_accuracy: 0.7578 - 86s/epoch - 221ms/step\n",
      "Epoch 10/30\n",
      "391/391 - 87s - loss: 0.7041 - accuracy: 0.7529 - val_loss: 0.6812 - val_accuracy: 0.7658 - 87s/epoch - 221ms/step\n",
      "Epoch 11/30\n",
      "391/391 - 96s - loss: 0.6672 - accuracy: 0.7647 - val_loss: 0.6587 - val_accuracy: 0.7728 - 96s/epoch - 247ms/step\n",
      "Epoch 12/30\n",
      "391/391 - 86s - loss: 0.6508 - accuracy: 0.7712 - val_loss: 0.6612 - val_accuracy: 0.7750 - 86s/epoch - 221ms/step\n",
      "Epoch 13/30\n",
      "391/391 - 86s - loss: 0.6266 - accuracy: 0.7806 - val_loss: 0.6642 - val_accuracy: 0.7738 - 86s/epoch - 221ms/step\n",
      "Epoch 14/30\n",
      "391/391 - 87s - loss: 0.6001 - accuracy: 0.7888 - val_loss: 0.6407 - val_accuracy: 0.7806 - 87s/epoch - 223ms/step\n",
      "Epoch 15/30\n",
      "391/391 - 86s - loss: 0.5863 - accuracy: 0.7937 - val_loss: 0.6571 - val_accuracy: 0.7747 - 86s/epoch - 219ms/step\n",
      "Epoch 16/30\n",
      "391/391 - 85s - loss: 0.5623 - accuracy: 0.8014 - val_loss: 0.6402 - val_accuracy: 0.7831 - 85s/epoch - 216ms/step\n",
      "Epoch 17/30\n",
      "391/391 - 93s - loss: 0.5520 - accuracy: 0.8034 - val_loss: 0.6436 - val_accuracy: 0.7843 - 93s/epoch - 237ms/step\n",
      "Epoch 18/30\n",
      "391/391 - 92s - loss: 0.5404 - accuracy: 0.8083 - val_loss: 0.6571 - val_accuracy: 0.7753 - 92s/epoch - 235ms/step\n",
      "Epoch 19/30\n",
      "391/391 - 88s - loss: 0.5298 - accuracy: 0.8124 - val_loss: 0.6257 - val_accuracy: 0.7884 - 88s/epoch - 225ms/step\n",
      "Epoch 20/30\n",
      "391/391 - 88s - loss: 0.5126 - accuracy: 0.8180 - val_loss: 0.6306 - val_accuracy: 0.7859 - 88s/epoch - 225ms/step\n",
      "Epoch 21/30\n",
      "391/391 - 91s - loss: 0.5049 - accuracy: 0.8211 - val_loss: 0.6152 - val_accuracy: 0.7923 - 91s/epoch - 233ms/step\n",
      "Epoch 22/30\n",
      "391/391 - 97s - loss: 0.4922 - accuracy: 0.8252 - val_loss: 0.6273 - val_accuracy: 0.7914 - 97s/epoch - 249ms/step\n",
      "Epoch 23/30\n",
      "391/391 - 90s - loss: 0.4866 - accuracy: 0.8305 - val_loss: 0.6231 - val_accuracy: 0.7883 - 90s/epoch - 230ms/step\n",
      "Epoch 24/30\n",
      "391/391 - 90s - loss: 0.4757 - accuracy: 0.8304 - val_loss: 0.6142 - val_accuracy: 0.7935 - 90s/epoch - 229ms/step\n",
      "Epoch 25/30\n",
      "391/391 - 89s - loss: 0.4583 - accuracy: 0.8376 - val_loss: 0.6446 - val_accuracy: 0.7893 - 89s/epoch - 227ms/step\n",
      "Epoch 26/30\n",
      "391/391 - 88s - loss: 0.4563 - accuracy: 0.8371 - val_loss: 0.6272 - val_accuracy: 0.7898 - 88s/epoch - 225ms/step\n",
      "Epoch 27/30\n",
      "391/391 - 90s - loss: 0.4441 - accuracy: 0.8409 - val_loss: 0.6095 - val_accuracy: 0.7960 - 90s/epoch - 229ms/step\n",
      "Epoch 28/30\n",
      "391/391 - 88s - loss: 0.4376 - accuracy: 0.8438 - val_loss: 0.6150 - val_accuracy: 0.7962 - 88s/epoch - 226ms/step\n",
      "Epoch 29/30\n",
      "391/391 - 87s - loss: 0.4280 - accuracy: 0.8462 - val_loss: 0.6150 - val_accuracy: 0.7987 - 87s/epoch - 222ms/step\n",
      "Epoch 30/30\n",
      "391/391 - 87s - loss: 0.4243 - accuracy: 0.8488 - val_loss: 0.6089 - val_accuracy: 0.7994 - 87s/epoch - 223ms/step\n"
     ]
    }
   ],
   "source": [
    "# 신경망 모델 학습\n",
    "cnn.compile(loss='categorical_crossentropy',optimizer=Adam(),metrics=['accuracy'])\n",
    "hist=cnn.fit(x_train,y_train,batch_size=128,epochs=30,validation_data=(x_test,y_test),verbose=2)"
   ]
  },
  {
   "cell_type": "code",
   "execution_count": 6,
   "id": "70838203",
   "metadata": {},
   "outputs": [
    {
     "name": "stdout",
     "output_type": "stream",
     "text": [
      "정확률은 79.93999719619751\n"
     ]
    }
   ],
   "source": [
    "# 신경망 모델 정확률 평가\n",
    "res=cnn.evaluate(x_test,y_test,verbose=0)\n",
    "print(\"정확률은\",res[1]*100)"
   ]
  },
  {
   "cell_type": "code",
   "execution_count": 7,
   "id": "6ddabbd4",
   "metadata": {},
   "outputs": [],
   "source": [
    "import matplotlib.pyplot as plt"
   ]
  },
  {
   "cell_type": "code",
   "execution_count": 8,
   "id": "0a0259bd",
   "metadata": {},
   "outputs": [
    {
     "data": {
      "image/png": "[encoded data removed]",
      "text/plain": [
       "<Figure size 432x288 with 1 Axes>"
      ]
     },
     "metadata": {
      "needs_background": "light"
     },
     "output_type": "display_data"
    }
   ],
   "source": [
    "# 정확률 그래프\n",
    "plt.plot(hist.history['accuracy'])\n",
    "plt.plot(hist.history['val_accuracy'])\n",
    "plt.title('Model accuracy')\n",
    "plt.ylabel('Accuracy')\n",
    "plt.xlabel('Epoch')\n",
    "plt.legend(['Train','Validation'], loc='best')\n",
    "plt.grid()\n",
    "plt.show()"
   ]
  },
  {
   "cell_type": "code",
   "execution_count": 9,
   "id": "9d3fcb7b",
   "metadata": {},
   "outputs": [
    {
     "data": {
      "image/png": "[encoded data removed]",
      "text/plain": [
       "<Figure size 432x288 with 1 Axes>"
      ]
     },
     "metadata": {
      "needs_background": "light"
     },
     "output_type": "display_data"
    }
   ],
   "source": [
    "# 손실 함수 그래프\n",
    "plt.plot(hist.history['loss'])\n",
    "plt.plot(hist.history['val_loss'])\n",
    "plt.title('Model loss')\n",
    "plt.ylabel('Loss')\n",
    "plt.xlabel('Epoch')\n",
    "plt.legend(['Train','Validation'],loc='best')\n",
    "plt.grid()\n",
    "plt.show()\n",
    "cnn.save(\"my_cnn.h5\")"
   ]
  },
  {
   "cell_type": "code",
   "execution_count": null,
   "id": "eab25ff4",
   "metadata": {},
   "outputs": [],
   "source": []
  }
 ],
 "metadata": {
  "kernelspec": {
   "display_name": "Python 3 (ipykernel)",
   "language": "python",
   "name": "python3"
  },
  "language_info": {
   "codemirror_mode": {
    "name": "ipython",
    "version": 3
   },
   "file_extension": ".py",
   "mimetype": "text/x-python",
   "name": "python",
   "nbconvert_exporter": "python",
   "pygments_lexer": "ipython3",
   "version": "3.9.12"
  }
 },
 "nbformat": 4,
 "nbformat_minor": 5
}
