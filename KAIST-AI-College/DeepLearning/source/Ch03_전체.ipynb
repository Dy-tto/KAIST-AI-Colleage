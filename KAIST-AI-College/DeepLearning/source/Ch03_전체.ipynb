{
 "cells": [
  {
   "cell_type": "markdown",
   "metadata": {
    "colab_type": "text",
    "id": "mtSaWVuD_C_L"
   },
   "source": [
    "# 03 머신러닝의 기초를 다집니다"
   ]
  },
  {
   "cell_type": "markdown",
   "metadata": {
    "colab_type": "text",
    "id": "-g7v7vUZ_C_N"
   },
   "source": [
    "이 노트북을 주피터 노트북 뷰어(nbviewer.jupyter.org)로 보거나 구글 코랩(colab.research.google.com)에서 실행할 수 있습니다.\n",
    "\n",
    "<table class=\"tfo-notebook-buttons\" align=\"left\">\n",
    "  <td>\n",
    "    <a target=\"_blank\" href=\"https://nbviewer.jupyter.org/github/rickiepark/do-it-dl/blob/master/Ch03.ipynb\"><img src=\"https://jupyter.org/assets/main-logo.svg\" width=\"28\" />주피터 노트북 뷰어로 보기</a>\n",
    "  </td>\n",
    "  <td>\n",
    "    <a target=\"_blank\" href=\"https://colab.research.google.com/github/rickiepark/do-it-dl/blob/master/Ch03.ipynb\"><img src=\"https://www.tensorflow.org/images/colab_logo_32px.png\" />구글 코랩(Colab)에서 실행하기</a>\n",
    "  </td>\n",
    "</table>"
   ]
  },
  {
   "cell_type": "code",
   "execution_count": null,
   "metadata": {
    "colab": {},
    "colab_type": "code",
    "id": "8JWEYfRl_Gta"
   },
   "outputs": [],
   "source": []
  },
  {
   "cell_type": "markdown",
   "metadata": {
    "colab_type": "text",
    "id": "iAHUp30i_C_O"
   },
   "source": [
    "## 03-1 선형 회귀에 대해 알아봅니다"
   ]
  },
  {
   "cell_type": "code",
   "execution_count": null,
   "metadata": {
    "cellView": "both",
    "colab": {},
    "colab_type": "code",
    "id": "jciSQbzg_C_P"
   },
   "outputs": [],
   "source": [
    "#@title\n",
    "from sklearn.datasets import load_diabetes\n",
    "diabetes = load_diabetes()"
   ]
  },
  {
   "cell_type": "code",
   "execution_count": null,
   "metadata": {
    "cellView": "both",
    "colab": {
     "base_uri": "https://localhost:8080/",
     "height": 35
    },
    "colab_type": "code",
    "executionInfo": {
     "elapsed": 1169,
     "status": "ok",
     "timestamp": 1577463161645,
     "user": {
      "displayName": "이규영",
      "photoUrl": "",
      "userId": "17498238504590010212"
     },
     "user_tz": -540
    },
    "id": "izTTML0U_C_T",
    "outputId": "40344fc0-2188-4fed-a48c-a2ca60e7f8d5"
   },
   "outputs": [],
   "source": [
    "#@title\n",
    "print(diabetes.data.shape, diabetes.target.shape)"
   ]
  },
  {
   "cell_type": "code",
   "execution_count": null,
   "metadata": {
    "cellView": "both",
    "colab": {
     "base_uri": "https://localhost:8080/",
     "height": 125
    },
    "colab_type": "code",
    "executionInfo": {
     "elapsed": 1062,
     "status": "ok",
     "timestamp": 1577463166593,
     "user": {
      "displayName": "이규영",
      "photoUrl": "",
      "userId": "17498238504590010212"
     },
     "user_tz": -540
    },
    "id": "ShoZWqA5_C_X",
    "outputId": "f881fe25-0133-4a97-b910-e2684e6cab4f"
   },
   "outputs": [],
   "source": [
    "#@title\n",
    "diabetes.data[0:3]"
   ]
  },
  {
   "cell_type": "markdown",
   "metadata": {
    "colab_type": "text",
    "id": "tBDf5fY8HuYe"
   },
   "source": [
    "<퀴즈> 1행~3행 중에서 3열과 4열만 출력해 보세요"
   ]
  },
  {
   "cell_type": "code",
   "execution_count": null,
   "metadata": {
    "cellView": "both",
    "colab": {
     "base_uri": "https://localhost:8080/",
     "height": 71
    },
    "colab_type": "code",
    "executionInfo": {
     "elapsed": 1052,
     "status": "ok",
     "timestamp": 1577463183631,
     "user": {
      "displayName": "이규영",
      "photoUrl": "",
      "userId": "17498238504590010212"
     },
     "user_tz": -540
    },
    "id": "NUPeUJNkHnds",
    "outputId": "5ce99192-e5cc-4319-f46d-a00f5d0ac0d5"
   },
   "outputs": [],
   "source": [
    "#@title\n",
    "diabetes.data[0:3, 2:4]"
   ]
  },
  {
   "cell_type": "code",
   "execution_count": null,
   "metadata": {
    "cellView": "both",
    "colab": {
     "base_uri": "https://localhost:8080/",
     "height": 35
    },
    "colab_type": "code",
    "executionInfo": {
     "elapsed": 1037,
     "status": "ok",
     "timestamp": 1577463210480,
     "user": {
      "displayName": "이규영",
      "photoUrl": "",
      "userId": "17498238504590010212"
     },
     "user_tz": -540
    },
    "id": "6oCN06kv_C_a",
    "outputId": "3c2433b3-4974-4ded-adb3-28659a0ae8a5"
   },
   "outputs": [],
   "source": [
    "#@title\n",
    "diabetes.target[:3]"
   ]
  },
  {
   "cell_type": "code",
   "execution_count": null,
   "metadata": {
    "cellView": "both",
    "colab": {},
    "colab_type": "code",
    "id": "_HR35VMp_C_f"
   },
   "outputs": [],
   "source": [
    "#@title\n",
    "import matplotlib.pyplot as plt"
   ]
  },
  {
   "cell_type": "code",
   "execution_count": null,
   "metadata": {
    "cellView": "both",
    "colab": {
     "base_uri": "https://localhost:8080/",
     "height": 279
    },
    "colab_type": "code",
    "executionInfo": {
     "elapsed": 1233,
     "status": "ok",
     "timestamp": 1577463295467,
     "user": {
      "displayName": "이규영",
      "photoUrl": "",
      "userId": "17498238504590010212"
     },
     "user_tz": -540
    },
    "id": "0BHRdvfd_C_i",
    "outputId": "5c3ade93-59ad-4199-aa28-a580a01bf7e5"
   },
   "outputs": [],
   "source": [
    "#@title\n",
    "plt.scatter(diabetes.data[:, 2], diabetes.target)\n",
    "plt.xlabel('x')\n",
    "plt.ylabel('y')\n",
    "plt.show()"
   ]
  },
  {
   "cell_type": "code",
   "execution_count": null,
   "metadata": {
    "cellView": "both",
    "colab": {},
    "colab_type": "code",
    "id": "AdvUnLh7_C_l"
   },
   "outputs": [],
   "source": [
    "#@title\n",
    "x = diabetes.data[:, 2]\n",
    "y = diabetes.target"
   ]
  },
  {
   "cell_type": "markdown",
   "metadata": {
    "colab_type": "text",
    "id": "lmYaCHR1_C_o"
   },
   "source": [
    "<퀴즈> 슬라이싱을 사용해 훈련 데이터 x에서 100번째 부터 109번째 까지 샘플을 출력해 보세요. 슬라이싱한 배열의 크기도 출력해 보세요."
   ]
  },
  {
   "cell_type": "code",
   "execution_count": null,
   "metadata": {
    "cellView": "both",
    "colab": {
     "base_uri": "https://localhost:8080/",
     "height": 53
    },
    "colab_type": "code",
    "executionInfo": {
     "elapsed": 1022,
     "status": "ok",
     "timestamp": 1577463939255,
     "user": {
      "displayName": "이규영",
      "photoUrl": "",
      "userId": "17498238504590010212"
     },
     "user_tz": -540
    },
    "id": "AMBoIbEU_C_p",
    "outputId": "b84ca8a1-e72a-4846-a04f-61892016b51b"
   },
   "outputs": [],
   "source": [
    "#@title\n",
    "x_sample = x[99:109]\n",
    "print(x_sample, x_sample.shape)"
   ]
  },
  {
   "cell_type": "markdown",
   "metadata": {
    "colab_type": "text",
    "id": "j7YNZAHL_C_s"
   },
   "source": [
    "## 03-2 경사 하강법에 대해 알아봅니다"
   ]
  },
  {
   "cell_type": "code",
   "execution_count": null,
   "metadata": {
    "cellView": "both",
    "colab": {},
    "colab_type": "code",
    "id": "hDJPBEzk_C_t"
   },
   "outputs": [],
   "source": [
    "#@title\n",
    "w = 1.0\n",
    "b = 1.0"
   ]
  },
  {
   "cell_type": "code",
   "execution_count": null,
   "metadata": {
    "cellView": "both",
    "colab": {
     "base_uri": "https://localhost:8080/",
     "height": 35
    },
    "colab_type": "code",
    "executionInfo": {
     "elapsed": 1204,
     "status": "ok",
     "timestamp": 1577465587737,
     "user": {
      "displayName": "이규영",
      "photoUrl": "",
      "userId": "17498238504590010212"
     },
     "user_tz": -540
    },
    "id": "CG8QqKum_C_w",
    "outputId": "fb24b2ea-4bf7-4896-f9a8-d2d5fa48f97c"
   },
   "outputs": [],
   "source": [
    "#@title\n",
    "y_hat = x[0] * w + b\n",
    "print(y_hat)"
   ]
  },
  {
   "cell_type": "code",
   "execution_count": null,
   "metadata": {
    "cellView": "both",
    "colab": {
     "base_uri": "https://localhost:8080/",
     "height": 35
    },
    "colab_type": "code",
    "executionInfo": {
     "elapsed": 1050,
     "status": "ok",
     "timestamp": 1577465683301,
     "user": {
      "displayName": "이규영",
      "photoUrl": "",
      "userId": "17498238504590010212"
     },
     "user_tz": -540
    },
    "id": "5l4v8s4e_C_z",
    "outputId": "dd192dea-0753-4eab-f870-870bb4893e94"
   },
   "outputs": [],
   "source": [
    "#@title\n",
    "print(y[0])"
   ]
  },
  {
   "cell_type": "code",
   "execution_count": null,
   "metadata": {
    "cellView": "both",
    "colab": {
     "base_uri": "https://localhost:8080/",
     "height": 35
    },
    "colab_type": "code",
    "executionInfo": {
     "elapsed": 1863,
     "status": "ok",
     "timestamp": 1577465749051,
     "user": {
      "displayName": "이규영",
      "photoUrl": "",
      "userId": "17498238504590010212"
     },
     "user_tz": -540
    },
    "id": "fNK1FTdB_C_2",
    "outputId": "806c37ce-6d83-4a41-ee51-a206fe346c79"
   },
   "outputs": [],
   "source": [
    "#@title\n",
    "w_inc = w + 0.1\n",
    "y_hat_inc = w_inc * x[0] + b\n",
    "print(y_hat_inc)"
   ]
  },
  {
   "cell_type": "code",
   "execution_count": null,
   "metadata": {
    "cellView": "both",
    "colab": {
     "base_uri": "https://localhost:8080/",
     "height": 35
    },
    "colab_type": "code",
    "executionInfo": {
     "elapsed": 1267,
     "status": "ok",
     "timestamp": 1577465828878,
     "user": {
      "displayName": "이규영",
      "photoUrl": "",
      "userId": "17498238504590010212"
     },
     "user_tz": -540
    },
    "id": "Jki7EWGn_C_5",
    "outputId": "9a1a543b-8923-4908-bd26-edfe27fb48ac"
   },
   "outputs": [],
   "source": [
    "#@title\n",
    "w_rate = (y_hat_inc - y_hat) / (w_inc - w)\n",
    "print(w_rate)"
   ]
  },
  {
   "cell_type": "markdown",
   "metadata": {
    "colab_type": "text",
    "id": "qDdNLVdbTay-"
   },
   "source": [
    "<퀴즈> 훈련데이터 x의 첫번째 샘플을 출력하고 위의 w_rate 값과 비교해 보세요"
   ]
  },
  {
   "cell_type": "code",
   "execution_count": null,
   "metadata": {
    "cellView": "both",
    "colab": {
     "base_uri": "https://localhost:8080/",
     "height": 35
    },
    "colab_type": "code",
    "executionInfo": {
     "elapsed": 1225,
     "status": "ok",
     "timestamp": 1577466297256,
     "user": {
      "displayName": "이규영",
      "photoUrl": "",
      "userId": "17498238504590010212"
     },
     "user_tz": -540
    },
    "id": "CFHXw7yHS8jI",
    "outputId": "992d6daf-bf7d-470c-b471-f8d76688e53c"
   },
   "outputs": [],
   "source": [
    "#@title\n",
    "\n",
    "print(x[0])"
   ]
  },
  {
   "cell_type": "code",
   "execution_count": null,
   "metadata": {
    "cellView": "both",
    "colab": {
     "base_uri": "https://localhost:8080/",
     "height": 35
    },
    "colab_type": "code",
    "executionInfo": {
     "elapsed": 1377,
     "status": "ok",
     "timestamp": 1577466684649,
     "user": {
      "displayName": "이규영",
      "photoUrl": "",
      "userId": "17498238504590010212"
     },
     "user_tz": -540
    },
    "id": "s9QhERtp_C_8",
    "outputId": "2c3c1c4f-a4f8-4f5d-eb71-f80c0d36d24e"
   },
   "outputs": [],
   "source": [
    "#@title\n",
    "w_new = w + w_rate\n",
    "print(w_new)"
   ]
  },
  {
   "cell_type": "code",
   "execution_count": null,
   "metadata": {
    "cellView": "both",
    "colab": {
     "base_uri": "https://localhost:8080/",
     "height": 35
    },
    "colab_type": "code",
    "executionInfo": {
     "elapsed": 1272,
     "status": "ok",
     "timestamp": 1577466704743,
     "user": {
      "displayName": "이규영",
      "photoUrl": "",
      "userId": "17498238504590010212"
     },
     "user_tz": -540
    },
    "id": "PIHVxetE_DAA",
    "outputId": "ee58fb96-c073-4d2d-82fc-00496ebe1c80"
   },
   "outputs": [],
   "source": [
    "#@title\n",
    "b_inc = b + 0.1\n",
    "y_hat_inc = x[0] * w + b_inc\n",
    "print(y_hat_inc)"
   ]
  },
  {
   "cell_type": "code",
   "execution_count": null,
   "metadata": {
    "cellView": "both",
    "colab": {
     "base_uri": "https://localhost:8080/",
     "height": 35
    },
    "colab_type": "code",
    "executionInfo": {
     "elapsed": 1208,
     "status": "ok",
     "timestamp": 1577466718816,
     "user": {
      "displayName": "이규영",
      "photoUrl": "",
      "userId": "17498238504590010212"
     },
     "user_tz": -540
    },
    "id": "C0tcAqDB_DAE",
    "outputId": "6a0da17a-2d66-4b0f-c988-8b8564ce238e"
   },
   "outputs": [],
   "source": [
    "#@title\n",
    "b_rate = (y_hat_inc - y_hat) / (b_inc - b)\n",
    "print(b_rate)"
   ]
  },
  {
   "cell_type": "code",
   "execution_count": null,
   "metadata": {
    "cellView": "both",
    "colab": {
     "base_uri": "https://localhost:8080/",
     "height": 35
    },
    "colab_type": "code",
    "executionInfo": {
     "elapsed": 1435,
     "status": "ok",
     "timestamp": 1577467011343,
     "user": {
      "displayName": "이규영",
      "photoUrl": "",
      "userId": "17498238504590010212"
     },
     "user_tz": -540
    },
    "id": "3m_RGxD4_DAH",
    "outputId": "59a4e292-d7d3-4b36-96bc-8a68ca320c39",
    "scrolled": true
   },
   "outputs": [],
   "source": [
    "#@title\n",
    "b_new = b + 1\n",
    "print(b_new)"
   ]
  },
  {
   "cell_type": "code",
   "execution_count": null,
   "metadata": {
    "cellView": "both",
    "colab": {
     "base_uri": "https://localhost:8080/",
     "height": 35
    },
    "colab_type": "code",
    "executionInfo": {
     "elapsed": 1032,
     "status": "ok",
     "timestamp": 1577467163909,
     "user": {
      "displayName": "이규영",
      "photoUrl": "",
      "userId": "17498238504590010212"
     },
     "user_tz": -540
    },
    "id": "Nid1-DGI_DAK",
    "outputId": "462331d9-b3b6-44a6-dfcf-39d30aafe6c7",
    "scrolled": true
   },
   "outputs": [],
   "source": [
    "#@title\n",
    "err = y[0] - y_hat\n",
    "w_new = w + w_rate * err\n",
    "b_new = b + 1 * err\n",
    "print(w_new, b_new)"
   ]
  },
  {
   "cell_type": "code",
   "execution_count": null,
   "metadata": {
    "cellView": "both",
    "colab": {
     "base_uri": "https://localhost:8080/",
     "height": 35
    },
    "colab_type": "code",
    "executionInfo": {
     "elapsed": 1547,
     "status": "ok",
     "timestamp": 1577467441341,
     "user": {
      "displayName": "이규영",
      "photoUrl": "",
      "userId": "17498238504590010212"
     },
     "user_tz": -540
    },
    "id": "fwcQCF7q_DAN",
    "outputId": "35eb6308-b607-4ee0-aa76-f5a6f531c999"
   },
   "outputs": [],
   "source": [
    "#@title\n",
    "y_hat = x[1] * w_new + b_new\n",
    "err = y[1] - y_hat\n",
    "w_rate = x[1]\n",
    "w_new = w_new + w_rate * err\n",
    "b_new = b_new + 1 * err\n",
    "print(w_new, b_new)"
   ]
  },
  {
   "cell_type": "code",
   "execution_count": null,
   "metadata": {
    "cellView": "both",
    "colab": {
     "base_uri": "https://localhost:8080/",
     "height": 35
    },
    "colab_type": "code",
    "executionInfo": {
     "elapsed": 1037,
     "status": "ok",
     "timestamp": 1577467717293,
     "user": {
      "displayName": "이규영",
      "photoUrl": "",
      "userId": "17498238504590010212"
     },
     "user_tz": -540
    },
    "id": "THO7B0Iv_DAV",
    "outputId": "de34977e-c83d-493f-9772-4355b64fc58e",
    "scrolled": true
   },
   "outputs": [],
   "source": [
    "#@title\n",
    "for x_i, y_i in zip(x, y):\n",
    "    y_hat = x_i * w + b\n",
    "    err = y_i - y_hat\n",
    "    w_rate = x_i\n",
    "    w = w + w_rate * err\n",
    "    b = b + 1 * err\n",
    "print(w, b)"
   ]
  },
  {
   "cell_type": "code",
   "execution_count": null,
   "metadata": {
    "cellView": "both",
    "colab": {
     "base_uri": "https://localhost:8080/",
     "height": 279
    },
    "colab_type": "code",
    "executionInfo": {
     "elapsed": 1459,
     "status": "ok",
     "timestamp": 1577467936074,
     "user": {
      "displayName": "이규영",
      "photoUrl": "",
      "userId": "17498238504590010212"
     },
     "user_tz": -540
    },
    "id": "QMF8sNcr_DAb",
    "outputId": "fd50ef8a-d389-4ab6-e674-c2cdbf3cfd33",
    "scrolled": true
   },
   "outputs": [],
   "source": [
    "#@title\n",
    "plt.scatter(x, y)\n",
    "pt1 = (-0.1, -0.1 * w + b)\n",
    "pt2 = (0.15, 0.15 * w + b)\n",
    "plt.plot([pt1[0], pt2[0]], [pt1[1], pt2[1]])\n",
    "plt.xlabel('x')\n",
    "plt.ylabel('y')\n",
    "plt.show()"
   ]
  },
  {
   "cell_type": "code",
   "execution_count": null,
   "metadata": {
    "cellView": "both",
    "colab": {
     "base_uri": "https://localhost:8080/",
     "height": 35
    },
    "colab_type": "code",
    "executionInfo": {
     "elapsed": 1066,
     "status": "ok",
     "timestamp": 1577468230967,
     "user": {
      "displayName": "이규영",
      "photoUrl": "",
      "userId": "17498238504590010212"
     },
     "user_tz": -540
    },
    "id": "CjSvobgl_DAe",
    "outputId": "cb780457-c20e-4362-94ec-a1c1e4bc823b"
   },
   "outputs": [],
   "source": [
    "#@title\n",
    "for i in range(1, 100):\n",
    "    for x_i, y_i in zip(x, y):\n",
    "        y_hat = x_i * w + b\n",
    "        err = y_i - y_hat\n",
    "        w_rate = x_i\n",
    "        w = w + w_rate * err\n",
    "        b = b + 1 * err\n",
    "print(w, b)"
   ]
  },
  {
   "cell_type": "code",
   "execution_count": null,
   "metadata": {
    "cellView": "both",
    "colab": {
     "base_uri": "https://localhost:8080/",
     "height": 279
    },
    "colab_type": "code",
    "executionInfo": {
     "elapsed": 1286,
     "status": "ok",
     "timestamp": 1577468590305,
     "user": {
      "displayName": "이규영",
      "photoUrl": "",
      "userId": "17498238504590010212"
     },
     "user_tz": -540
    },
    "id": "1n6H6Zkz_DAh",
    "outputId": "b2577a3c-dbfd-4954-e0c0-914786eb11ba",
    "scrolled": false
   },
   "outputs": [],
   "source": [
    "#@title\n",
    "plt.scatter(x, y)\n",
    "pt1 = (-0.1, -0.1 * w + b)\n",
    "pt2 = (0.15, 0.15 * w + b)\n",
    "plt.plot([pt1[0], pt2[0]], [pt1[1], pt2[1]])\n",
    "plt.xlabel('x')\n",
    "plt.ylabel('y')\n",
    "plt.show()"
   ]
  },
  {
   "cell_type": "code",
   "execution_count": null,
   "metadata": {
    "cellView": "both",
    "colab": {
     "base_uri": "https://localhost:8080/",
     "height": 35
    },
    "colab_type": "code",
    "executionInfo": {
     "elapsed": 1071,
     "status": "ok",
     "timestamp": 1577468696441,
     "user": {
      "displayName": "이규영",
      "photoUrl": "",
      "userId": "17498238504590010212"
     },
     "user_tz": -540
    },
    "id": "PIM8TlxX_DAo",
    "outputId": "f047c87d-ef0d-42d0-a916-1357aa0a9e8e"
   },
   "outputs": [],
   "source": [
    "#@title\n",
    "x_new = 0.18\n",
    "y_pred = x_new * w + b\n",
    "print(y_pred)"
   ]
  },
  {
   "cell_type": "code",
   "execution_count": null,
   "metadata": {
    "cellView": "both",
    "colab": {
     "base_uri": "https://localhost:8080/",
     "height": 279
    },
    "colab_type": "code",
    "executionInfo": {
     "elapsed": 1208,
     "status": "ok",
     "timestamp": 1577468711474,
     "user": {
      "displayName": "이규영",
      "photoUrl": "",
      "userId": "17498238504590010212"
     },
     "user_tz": -540
    },
    "id": "2aGaL3e8_DAr",
    "outputId": "1df9750f-e04d-467e-8222-f3c9b7e76716",
    "scrolled": true
   },
   "outputs": [],
   "source": [
    "#@title\n",
    "plt.scatter(x, y)\n",
    "plt.scatter(x_new, y_pred)\n",
    "plt.xlabel('x')\n",
    "plt.ylabel('y')\n",
    "plt.show()"
   ]
  },
  {
   "cell_type": "markdown",
   "metadata": {
    "colab_type": "text",
    "id": "UEks2H15_DAt"
   },
   "source": [
    "## 03-4 뉴런을 만들어봅니다"
   ]
  },
  {
   "cell_type": "code",
   "execution_count": null,
   "metadata": {
    "cellView": "both",
    "colab": {},
    "colab_type": "code",
    "id": "jyJ6C8kr_DAu"
   },
   "outputs": [],
   "source": [
    "#@title\n",
    "class Neuron:\n",
    "    \n",
    "    def __init__(self):\n",
    "        self.w = 1.0     # 가중치를 초기화합니다\n",
    "        self.b = 1.0     # 절편을 초기화합니다\n",
    "    \n",
    "    def forpass(self, x):\n",
    "        y_hat = x * self.w + self.b       # 직선 방정식을 계산합니다\n",
    "        return y_hat\n",
    "    \n",
    "    def backprop(self, x, err):\n",
    "        w_grad = x * err    # 가중치에 대한 그래디언트를 계산합니다\n",
    "        b_grad = 1 * err    # 절편에 대한 그래디언트를 계산합니다\n",
    "        return w_grad, b_grad\n",
    "\n",
    "    def fit(self, x, y, epochs=100):\n",
    "        for i in range(epochs):           # 에포크만큼 반복합니다\n",
    "            for x_i, y_i in zip(x, y):    # 모든 샘플에 대해 반복합니다\n",
    "                y_hat = self.forpass(x_i) # 정방향 계산\n",
    "                err = -(y_i - y_hat)      # 오차 계산\n",
    "                w_grad, b_grad = self.backprop(x_i, err)  # 역방향 계산\n",
    "                self.w -= w_grad          # 가중치 업데이트\n",
    "                self.b -= b_grad          # 절편 업데이트"
   ]
  },
  {
   "cell_type": "code",
   "execution_count": null,
   "metadata": {
    "cellView": "both",
    "colab": {},
    "colab_type": "code",
    "id": "K3hFj8pR_DAx"
   },
   "outputs": [],
   "source": [
    "#@title\n",
    "neuron = Neuron()\n",
    "neuron.fit(x, y)"
   ]
  },
  {
   "cell_type": "code",
   "execution_count": null,
   "metadata": {
    "cellView": "both",
    "colab": {
     "base_uri": "https://localhost:8080/",
     "height": 279
    },
    "colab_type": "code",
    "executionInfo": {
     "elapsed": 1286,
     "status": "ok",
     "timestamp": 1577472109979,
     "user": {
      "displayName": "이규영",
      "photoUrl": "",
      "userId": "17498238504590010212"
     },
     "user_tz": -540
    },
    "id": "nGnzNPv0_DA0",
    "outputId": "4202658c-a401-487b-81c0-de9bb89d9ec8",
    "scrolled": true
   },
   "outputs": [],
   "source": [
    "#@title\n",
    "plt.scatter(x, y)\n",
    "pt1 = (-0.1, -0.1 * neuron.w + neuron.b)\n",
    "pt2 = (0.15, 0.15 * neuron.w + neuron.b)\n",
    "plt.plot([pt1[0], pt2[0]], [pt1[1], pt2[1]])\n",
    "plt.xlabel('x')\n",
    "plt.ylabel('y')\n",
    "plt.show()"
   ]
  },
  {
   "cell_type": "code",
   "execution_count": null,
   "metadata": {},
   "outputs": [],
   "source": []
  }
 ],
 "metadata": {
  "colab": {
   "collapsed_sections": [
    "UEks2H15_DAt"
   ],
   "name": "Ch03_gylee.ipynb",
   "provenance": []
  },
  "kernelspec": {
   "display_name": "Python 3 (ipykernel)",
   "language": "python",
   "name": "python3"
  },
  "language_info": {
   "codemirror_mode": {
    "name": "ipython",
    "version": 3
   },
   "file_extension": ".py",
   "mimetype": "text/x-python",
   "name": "python",
   "nbconvert_exporter": "python",
   "pygments_lexer": "ipython3",
   "version": "3.9.12"
  }
 },
 "nbformat": 4,
 "nbformat_minor": 1
}
